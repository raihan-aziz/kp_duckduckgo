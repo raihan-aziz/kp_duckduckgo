{
  "nbformat": 4,
  "nbformat_minor": 0,
  "metadata": {
    "colab": {
      "name": "Kelompok_3_DuckDuckGo.ipynb",
      "provenance": [],
      "collapsed_sections": []
    },
    "kernelspec": {
      "name": "python3",
      "display_name": "Python 3"
    },
    "language_info": {
      "name": "python"
    }
  },
  "cells": [
    {
      "cell_type": "markdown",
      "metadata": {
        "id": "ZYpaMxDwxihf"
      },
      "source": [
        "**CR AVE**"
      ]
    },
    {
      "cell_type": "markdown",
      "metadata": {
        "id": "QhgFejJ2PcyX"
      },
      "source": [
        "Install Factor ANALYZER"
      ]
    },
    {
      "cell_type": "code",
      "metadata": {
        "colab": {
          "base_uri": "https://localhost:8080/"
        },
        "id": "4M_3pEp_PWp4",
        "outputId": "7eafe30a-d408-46e5-fff2-e06a24568e3b"
      },
      "source": [
        "pip install factor_analyzer==0.2.3"
      ],
      "execution_count": null,
      "outputs": [
        {
          "output_type": "stream",
          "text": [
            "Collecting factor_analyzer==0.2.3\n",
            "  Downloading https://files.pythonhosted.org/packages/79/1b/84808bbeee0f3a8753c3d8034baf0aa0013cf08957eff750f366ce83f04a/factor_analyzer-0.2.3-py2.py3-none-any.whl\n",
            "Requirement already satisfied: pandas in /usr/local/lib/python3.7/dist-packages (from factor_analyzer==0.2.3) (1.1.5)\n",
            "Requirement already satisfied: numpy in /usr/local/lib/python3.7/dist-packages (from factor_analyzer==0.2.3) (1.19.5)\n",
            "Requirement already satisfied: scipy in /usr/local/lib/python3.7/dist-packages (from factor_analyzer==0.2.3) (1.4.1)\n",
            "Requirement already satisfied: python-dateutil>=2.7.3 in /usr/local/lib/python3.7/dist-packages (from pandas->factor_analyzer==0.2.3) (2.8.1)\n",
            "Requirement already satisfied: pytz>=2017.2 in /usr/local/lib/python3.7/dist-packages (from pandas->factor_analyzer==0.2.3) (2018.9)\n",
            "Requirement already satisfied: six>=1.5 in /usr/local/lib/python3.7/dist-packages (from python-dateutil>=2.7.3->pandas->factor_analyzer==0.2.3) (1.15.0)\n",
            "Installing collected packages: factor-analyzer\n",
            "Successfully installed factor-analyzer-0.2.3\n"
          ],
          "name": "stdout"
        }
      ]
    },
    {
      "cell_type": "markdown",
      "metadata": {
        "id": "r6ZPmmGrQCuE"
      },
      "source": [
        "Install Pingouin"
      ]
    },
    {
      "cell_type": "code",
      "metadata": {
        "colab": {
          "base_uri": "https://localhost:8080/"
        },
        "id": "FIbq-2-5QF0O",
        "outputId": "18607a5d-73a4-49fc-ac31-219d4016b681"
      },
      "source": [
        "pip install pingouin"
      ],
      "execution_count": null,
      "outputs": [
        {
          "output_type": "stream",
          "text": [
            "Collecting pingouin\n",
            "\u001b[?25l  Downloading https://files.pythonhosted.org/packages/66/38/968efe5e60cfd6664de02ea255303027834e7d2e2de36afa1c57c10a46bb/pingouin-0.3.12.tar.gz (205kB)\n",
            "\r\u001b[K     |█▋                              | 10kB 14.9MB/s eta 0:00:01\r\u001b[K     |███▏                            | 20kB 9.7MB/s eta 0:00:01\r\u001b[K     |████▉                           | 30kB 6.1MB/s eta 0:00:01\r\u001b[K     |██████▍                         | 40kB 5.6MB/s eta 0:00:01\r\u001b[K     |████████                        | 51kB 2.9MB/s eta 0:00:01\r\u001b[K     |█████████▋                      | 61kB 3.2MB/s eta 0:00:01\r\u001b[K     |███████████▏                    | 71kB 3.5MB/s eta 0:00:01\r\u001b[K     |████████████▉                   | 81kB 3.6MB/s eta 0:00:01\r\u001b[K     |██████████████▍                 | 92kB 4.0MB/s eta 0:00:01\r\u001b[K     |████████████████                | 102kB 3.9MB/s eta 0:00:01\r\u001b[K     |█████████████████▋              | 112kB 3.9MB/s eta 0:00:01\r\u001b[K     |███████████████████▏            | 122kB 3.9MB/s eta 0:00:01\r\u001b[K     |████████████████████▊           | 133kB 3.9MB/s eta 0:00:01\r\u001b[K     |██████████████████████▍         | 143kB 3.9MB/s eta 0:00:01\r\u001b[K     |████████████████████████        | 153kB 3.9MB/s eta 0:00:01\r\u001b[K     |█████████████████████████▋      | 163kB 3.9MB/s eta 0:00:01\r\u001b[K     |███████████████████████████▏    | 174kB 3.9MB/s eta 0:00:01\r\u001b[K     |████████████████████████████▊   | 184kB 3.9MB/s eta 0:00:01\r\u001b[K     |██████████████████████████████▍ | 194kB 3.9MB/s eta 0:00:01\r\u001b[K     |████████████████████████████████| 204kB 3.9MB/s eta 0:00:01\r\u001b[K     |████████████████████████████████| 215kB 3.9MB/s \n",
            "\u001b[?25hRequirement already satisfied: numpy>=1.15 in /usr/local/lib/python3.7/dist-packages (from pingouin) (1.19.5)\n",
            "Requirement already satisfied: scipy>=1.3 in /usr/local/lib/python3.7/dist-packages (from pingouin) (1.4.1)\n",
            "Requirement already satisfied: pandas>=0.24 in /usr/local/lib/python3.7/dist-packages (from pingouin) (1.1.5)\n",
            "Requirement already satisfied: matplotlib>=3.0.2 in /usr/local/lib/python3.7/dist-packages (from pingouin) (3.2.2)\n",
            "Requirement already satisfied: seaborn>=0.9.0 in /usr/local/lib/python3.7/dist-packages (from pingouin) (0.11.1)\n",
            "Requirement already satisfied: statsmodels>=0.10.0 in /usr/local/lib/python3.7/dist-packages (from pingouin) (0.10.2)\n",
            "Requirement already satisfied: scikit-learn in /usr/local/lib/python3.7/dist-packages (from pingouin) (0.22.2.post1)\n",
            "Collecting pandas_flavor>=0.1.2\n",
            "  Downloading https://files.pythonhosted.org/packages/9a/57/7fbcff4c0961ed190ac5fcb0bd8194152ee1ee6487edf64fdbae16e2bc4b/pandas_flavor-0.2.0-py2.py3-none-any.whl\n",
            "Collecting outdated\n",
            "  Downloading https://files.pythonhosted.org/packages/fd/f6/95588d496e518355c33b389222c99069b1c6f2c046be64f400072fdc7cda/outdated-0.2.1-py3-none-any.whl\n",
            "Requirement already satisfied: tabulate in /usr/local/lib/python3.7/dist-packages (from pingouin) (0.8.9)\n",
            "Requirement already satisfied: pytz>=2017.2 in /usr/local/lib/python3.7/dist-packages (from pandas>=0.24->pingouin) (2018.9)\n",
            "Requirement already satisfied: python-dateutil>=2.7.3 in /usr/local/lib/python3.7/dist-packages (from pandas>=0.24->pingouin) (2.8.1)\n",
            "Requirement already satisfied: pyparsing!=2.0.4,!=2.1.2,!=2.1.6,>=2.0.1 in /usr/local/lib/python3.7/dist-packages (from matplotlib>=3.0.2->pingouin) (2.4.7)\n",
            "Requirement already satisfied: kiwisolver>=1.0.1 in /usr/local/lib/python3.7/dist-packages (from matplotlib>=3.0.2->pingouin) (1.3.1)\n",
            "Requirement already satisfied: cycler>=0.10 in /usr/local/lib/python3.7/dist-packages (from matplotlib>=3.0.2->pingouin) (0.10.0)\n",
            "Requirement already satisfied: patsy>=0.4.0 in /usr/local/lib/python3.7/dist-packages (from statsmodels>=0.10.0->pingouin) (0.5.1)\n",
            "Requirement already satisfied: joblib>=0.11 in /usr/local/lib/python3.7/dist-packages (from scikit-learn->pingouin) (1.0.1)\n",
            "Requirement already satisfied: xarray in /usr/local/lib/python3.7/dist-packages (from pandas_flavor>=0.1.2->pingouin) (0.18.2)\n",
            "Collecting littleutils\n",
            "  Downloading https://files.pythonhosted.org/packages/4e/b1/bb4e06f010947d67349f863b6a2ad71577f85590180a935f60543f622652/littleutils-0.2.2.tar.gz\n",
            "Requirement already satisfied: requests in /usr/local/lib/python3.7/dist-packages (from outdated->pingouin) (2.23.0)\n",
            "Requirement already satisfied: six>=1.5 in /usr/local/lib/python3.7/dist-packages (from python-dateutil>=2.7.3->pandas>=0.24->pingouin) (1.15.0)\n",
            "Requirement already satisfied: setuptools>=40.4 in /usr/local/lib/python3.7/dist-packages (from xarray->pandas_flavor>=0.1.2->pingouin) (57.0.0)\n",
            "Requirement already satisfied: idna<3,>=2.5 in /usr/local/lib/python3.7/dist-packages (from requests->outdated->pingouin) (2.10)\n",
            "Requirement already satisfied: certifi>=2017.4.17 in /usr/local/lib/python3.7/dist-packages (from requests->outdated->pingouin) (2020.12.5)\n",
            "Requirement already satisfied: chardet<4,>=3.0.2 in /usr/local/lib/python3.7/dist-packages (from requests->outdated->pingouin) (3.0.4)\n",
            "Requirement already satisfied: urllib3!=1.25.0,!=1.25.1,<1.26,>=1.21.1 in /usr/local/lib/python3.7/dist-packages (from requests->outdated->pingouin) (1.24.3)\n",
            "Building wheels for collected packages: pingouin, littleutils\n",
            "  Building wheel for pingouin (setup.py) ... \u001b[?25l\u001b[?25hdone\n",
            "  Created wheel for pingouin: filename=pingouin-0.3.12-cp37-none-any.whl size=204754 sha256=14a1fab440116ed9ff2069d38b623909695a229e2493d7efb29f07dd5b78d35a\n",
            "  Stored in directory: /root/.cache/pip/wheels/d6/36/7e/ae23fc9845091efd9228b36f93b306a67c40bdc2195b280748\n",
            "  Building wheel for littleutils (setup.py) ... \u001b[?25l\u001b[?25hdone\n",
            "  Created wheel for littleutils: filename=littleutils-0.2.2-cp37-none-any.whl size=7050 sha256=bf6e2b7dd504bc08328fe02a5d8289690f8cd76fdae90474584da912ba9a3dac\n",
            "  Stored in directory: /root/.cache/pip/wheels/53/16/9f/ac67d15c40243754fd73f620e1b9b6dedc20492ecc19a2bae1\n",
            "Successfully built pingouin littleutils\n",
            "Installing collected packages: pandas-flavor, littleutils, outdated, pingouin\n",
            "Successfully installed littleutils-0.2.2 outdated-0.2.1 pandas-flavor-0.2.0 pingouin-0.3.12\n"
          ],
          "name": "stdout"
        }
      ]
    },
    {
      "cell_type": "markdown",
      "metadata": {
        "id": "Yk9hlHe8QLVN"
      },
      "source": [
        "Import Data menggunakan Pandas"
      ]
    },
    {
      "cell_type": "code",
      "metadata": {
        "id": "uDf5DKV1QMFC"
      },
      "source": [
        "import pandas as pd\n",
        "import pingouin as pg\n",
        "from factor_analyzer import  FactorAnalyzer\n",
        "import matplotlib.pyplot as plt"
      ],
      "execution_count": null,
      "outputs": []
    },
    {
      "cell_type": "markdown",
      "metadata": {
        "id": "bX77ZKMHQTq7"
      },
      "source": [
        "Upload File"
      ]
    },
    {
      "cell_type": "code",
      "metadata": {
        "colab": {
          "resources": {
            "http://localhost:8080/nbextensions/google.colab/files.js": {
              "data": "Ly8gQ29weXJpZ2h0IDIwMTcgR29vZ2xlIExMQwovLwovLyBMaWNlbnNlZCB1bmRlciB0aGUgQXBhY2hlIExpY2Vuc2UsIFZlcnNpb24gMi4wICh0aGUgIkxpY2Vuc2UiKTsKLy8geW91IG1heSBub3QgdXNlIHRoaXMgZmlsZSBleGNlcHQgaW4gY29tcGxpYW5jZSB3aXRoIHRoZSBMaWNlbnNlLgovLyBZb3UgbWF5IG9idGFpbiBhIGNvcHkgb2YgdGhlIExpY2Vuc2UgYXQKLy8KLy8gICAgICBodHRwOi8vd3d3LmFwYWNoZS5vcmcvbGljZW5zZXMvTElDRU5TRS0yLjAKLy8KLy8gVW5sZXNzIHJlcXVpcmVkIGJ5IGFwcGxpY2FibGUgbGF3IG9yIGFncmVlZCB0byBpbiB3cml0aW5nLCBzb2Z0d2FyZQovLyBkaXN0cmlidXRlZCB1bmRlciB0aGUgTGljZW5zZSBpcyBkaXN0cmlidXRlZCBvbiBhbiAiQVMgSVMiIEJBU0lTLAovLyBXSVRIT1VUIFdBUlJBTlRJRVMgT1IgQ09ORElUSU9OUyBPRiBBTlkgS0lORCwgZWl0aGVyIGV4cHJlc3Mgb3IgaW1wbGllZC4KLy8gU2VlIHRoZSBMaWNlbnNlIGZvciB0aGUgc3BlY2lmaWMgbGFuZ3VhZ2UgZ292ZXJuaW5nIHBlcm1pc3Npb25zIGFuZAovLyBsaW1pdGF0aW9ucyB1bmRlciB0aGUgTGljZW5zZS4KCi8qKgogKiBAZmlsZW92ZXJ2aWV3IEhlbHBlcnMgZm9yIGdvb2dsZS5jb2xhYiBQeXRob24gbW9kdWxlLgogKi8KKGZ1bmN0aW9uKHNjb3BlKSB7CmZ1bmN0aW9uIHNwYW4odGV4dCwgc3R5bGVBdHRyaWJ1dGVzID0ge30pIHsKICBjb25zdCBlbGVtZW50ID0gZG9jdW1lbnQuY3JlYXRlRWxlbWVudCgnc3BhbicpOwogIGVsZW1lbnQudGV4dENvbnRlbnQgPSB0ZXh0OwogIGZvciAoY29uc3Qga2V5IG9mIE9iamVjdC5rZXlzKHN0eWxlQXR0cmlidXRlcykpIHsKICAgIGVsZW1lbnQuc3R5bGVba2V5XSA9IHN0eWxlQXR0cmlidXRlc1trZXldOwogIH0KICByZXR1cm4gZWxlbWVudDsKfQoKLy8gTWF4IG51bWJlciBvZiBieXRlcyB3aGljaCB3aWxsIGJlIHVwbG9hZGVkIGF0IGEgdGltZS4KY29uc3QgTUFYX1BBWUxPQURfU0laRSA9IDEwMCAqIDEwMjQ7CgpmdW5jdGlvbiBfdXBsb2FkRmlsZXMoaW5wdXRJZCwgb3V0cHV0SWQpIHsKICBjb25zdCBzdGVwcyA9IHVwbG9hZEZpbGVzU3RlcChpbnB1dElkLCBvdXRwdXRJZCk7CiAgY29uc3Qgb3V0cHV0RWxlbWVudCA9IGRvY3VtZW50LmdldEVsZW1lbnRCeUlkKG91dHB1dElkKTsKICAvLyBDYWNoZSBzdGVwcyBvbiB0aGUgb3V0cHV0RWxlbWVudCB0byBtYWtlIGl0IGF2YWlsYWJsZSBmb3IgdGhlIG5leHQgY2FsbAogIC8vIHRvIHVwbG9hZEZpbGVzQ29udGludWUgZnJvbSBQeXRob24uCiAgb3V0cHV0RWxlbWVudC5zdGVwcyA9IHN0ZXBzOwoKICByZXR1cm4gX3VwbG9hZEZpbGVzQ29udGludWUob3V0cHV0SWQpOwp9CgovLyBUaGlzIGlzIHJvdWdobHkgYW4gYXN5bmMgZ2VuZXJhdG9yIChub3Qgc3VwcG9ydGVkIGluIHRoZSBicm93c2VyIHlldCksCi8vIHdoZXJlIHRoZXJlIGFyZSBtdWx0aXBsZSBhc3luY2hyb25vdXMgc3RlcHMgYW5kIHRoZSBQeXRob24gc2lkZSBpcyBnb2luZwovLyB0byBwb2xsIGZvciBjb21wbGV0aW9uIG9mIGVhY2ggc3RlcC4KLy8gVGhpcyB1c2VzIGEgUHJvbWlzZSB0byBibG9jayB0aGUgcHl0aG9uIHNpZGUgb24gY29tcGxldGlvbiBvZiBlYWNoIHN0ZXAsCi8vIHRoZW4gcGFzc2VzIHRoZSByZXN1bHQgb2YgdGhlIHByZXZpb3VzIHN0ZXAgYXMgdGhlIGlucHV0IHRvIHRoZSBuZXh0IHN0ZXAuCmZ1bmN0aW9uIF91cGxvYWRGaWxlc0NvbnRpbnVlKG91dHB1dElkKSB7CiAgY29uc3Qgb3V0cHV0RWxlbWVudCA9IGRvY3VtZW50LmdldEVsZW1lbnRCeUlkKG91dHB1dElkKTsKICBjb25zdCBzdGVwcyA9IG91dHB1dEVsZW1lbnQuc3RlcHM7CgogIGNvbnN0IG5leHQgPSBzdGVwcy5uZXh0KG91dHB1dEVsZW1lbnQubGFzdFByb21pc2VWYWx1ZSk7CiAgcmV0dXJuIFByb21pc2UucmVzb2x2ZShuZXh0LnZhbHVlLnByb21pc2UpLnRoZW4oKHZhbHVlKSA9PiB7CiAgICAvLyBDYWNoZSB0aGUgbGFzdCBwcm9taXNlIHZhbHVlIHRvIG1ha2UgaXQgYXZhaWxhYmxlIHRvIHRoZSBuZXh0CiAgICAvLyBzdGVwIG9mIHRoZSBnZW5lcmF0b3IuCiAgICBvdXRwdXRFbGVtZW50Lmxhc3RQcm9taXNlVmFsdWUgPSB2YWx1ZTsKICAgIHJldHVybiBuZXh0LnZhbHVlLnJlc3BvbnNlOwogIH0pOwp9CgovKioKICogR2VuZXJhdG9yIGZ1bmN0aW9uIHdoaWNoIGlzIGNhbGxlZCBiZXR3ZWVuIGVhY2ggYXN5bmMgc3RlcCBvZiB0aGUgdXBsb2FkCiAqIHByb2Nlc3MuCiAqIEBwYXJhbSB7c3RyaW5nfSBpbnB1dElkIEVsZW1lbnQgSUQgb2YgdGhlIGlucHV0IGZpbGUgcGlja2VyIGVsZW1lbnQuCiAqIEBwYXJhbSB7c3RyaW5nfSBvdXRwdXRJZCBFbGVtZW50IElEIG9mIHRoZSBvdXRwdXQgZGlzcGxheS4KICogQHJldHVybiB7IUl0ZXJhYmxlPCFPYmplY3Q+fSBJdGVyYWJsZSBvZiBuZXh0IHN0ZXBzLgogKi8KZnVuY3Rpb24qIHVwbG9hZEZpbGVzU3RlcChpbnB1dElkLCBvdXRwdXRJZCkgewogIGNvbnN0IGlucHV0RWxlbWVudCA9IGRvY3VtZW50LmdldEVsZW1lbnRCeUlkKGlucHV0SWQpOwogIGlucHV0RWxlbWVudC5kaXNhYmxlZCA9IGZhbHNlOwoKICBjb25zdCBvdXRwdXRFbGVtZW50ID0gZG9jdW1lbnQuZ2V0RWxlbWVudEJ5SWQob3V0cHV0SWQpOwogIG91dHB1dEVsZW1lbnQuaW5uZXJIVE1MID0gJyc7CgogIGNvbnN0IHBpY2tlZFByb21pc2UgPSBuZXcgUHJvbWlzZSgocmVzb2x2ZSkgPT4gewogICAgaW5wdXRFbGVtZW50LmFkZEV2ZW50TGlzdGVuZXIoJ2NoYW5nZScsIChlKSA9PiB7CiAgICAgIHJlc29sdmUoZS50YXJnZXQuZmlsZXMpOwogICAgfSk7CiAgfSk7CgogIGNvbnN0IGNhbmNlbCA9IGRvY3VtZW50LmNyZWF0ZUVsZW1lbnQoJ2J1dHRvbicpOwogIGlucHV0RWxlbWVudC5wYXJlbnRFbGVtZW50LmFwcGVuZENoaWxkKGNhbmNlbCk7CiAgY2FuY2VsLnRleHRDb250ZW50ID0gJ0NhbmNlbCB1cGxvYWQnOwogIGNvbnN0IGNhbmNlbFByb21pc2UgPSBuZXcgUHJvbWlzZSgocmVzb2x2ZSkgPT4gewogICAgY2FuY2VsLm9uY2xpY2sgPSAoKSA9PiB7CiAgICAgIHJlc29sdmUobnVsbCk7CiAgICB9OwogIH0pOwoKICAvLyBXYWl0IGZvciB0aGUgdXNlciB0byBwaWNrIHRoZSBmaWxlcy4KICBjb25zdCBmaWxlcyA9IHlpZWxkIHsKICAgIHByb21pc2U6IFByb21pc2UucmFjZShbcGlja2VkUHJvbWlzZSwgY2FuY2VsUHJvbWlzZV0pLAogICAgcmVzcG9uc2U6IHsKICAgICAgYWN0aW9uOiAnc3RhcnRpbmcnLAogICAgfQogIH07CgogIGNhbmNlbC5yZW1vdmUoKTsKCiAgLy8gRGlzYWJsZSB0aGUgaW5wdXQgZWxlbWVudCBzaW5jZSBmdXJ0aGVyIHBpY2tzIGFyZSBub3QgYWxsb3dlZC4KICBpbnB1dEVsZW1lbnQuZGlzYWJsZWQgPSB0cnVlOwoKICBpZiAoIWZpbGVzKSB7CiAgICByZXR1cm4gewogICAgICByZXNwb25zZTogewogICAgICAgIGFjdGlvbjogJ2NvbXBsZXRlJywKICAgICAgfQogICAgfTsKICB9CgogIGZvciAoY29uc3QgZmlsZSBvZiBmaWxlcykgewogICAgY29uc3QgbGkgPSBkb2N1bWVudC5jcmVhdGVFbGVtZW50KCdsaScpOwogICAgbGkuYXBwZW5kKHNwYW4oZmlsZS5uYW1lLCB7Zm9udFdlaWdodDogJ2JvbGQnfSkpOwogICAgbGkuYXBwZW5kKHNwYW4oCiAgICAgICAgYCgke2ZpbGUudHlwZSB8fCAnbi9hJ30pIC0gJHtmaWxlLnNpemV9IGJ5dGVzLCBgICsKICAgICAgICBgbGFzdCBtb2RpZmllZDogJHsKICAgICAgICAgICAgZmlsZS5sYXN0TW9kaWZpZWREYXRlID8gZmlsZS5sYXN0TW9kaWZpZWREYXRlLnRvTG9jYWxlRGF0ZVN0cmluZygpIDoKICAgICAgICAgICAgICAgICAgICAgICAgICAgICAgICAgICAgJ24vYSd9IC0gYCkpOwogICAgY29uc3QgcGVyY2VudCA9IHNwYW4oJzAlIGRvbmUnKTsKICAgIGxpLmFwcGVuZENoaWxkKHBlcmNlbnQpOwoKICAgIG91dHB1dEVsZW1lbnQuYXBwZW5kQ2hpbGQobGkpOwoKICAgIGNvbnN0IGZpbGVEYXRhUHJvbWlzZSA9IG5ldyBQcm9taXNlKChyZXNvbHZlKSA9PiB7CiAgICAgIGNvbnN0IHJlYWRlciA9IG5ldyBGaWxlUmVhZGVyKCk7CiAgICAgIHJlYWRlci5vbmxvYWQgPSAoZSkgPT4gewogICAgICAgIHJlc29sdmUoZS50YXJnZXQucmVzdWx0KTsKICAgICAgfTsKICAgICAgcmVhZGVyLnJlYWRBc0FycmF5QnVmZmVyKGZpbGUpOwogICAgfSk7CiAgICAvLyBXYWl0IGZvciB0aGUgZGF0YSB0byBiZSByZWFkeS4KICAgIGxldCBmaWxlRGF0YSA9IHlpZWxkIHsKICAgICAgcHJvbWlzZTogZmlsZURhdGFQcm9taXNlLAogICAgICByZXNwb25zZTogewogICAgICAgIGFjdGlvbjogJ2NvbnRpbnVlJywKICAgICAgfQogICAgfTsKCiAgICAvLyBVc2UgYSBjaHVua2VkIHNlbmRpbmcgdG8gYXZvaWQgbWVzc2FnZSBzaXplIGxpbWl0cy4gU2VlIGIvNjIxMTU2NjAuCiAgICBsZXQgcG9zaXRpb24gPSAwOwogICAgZG8gewogICAgICBjb25zdCBsZW5ndGggPSBNYXRoLm1pbihmaWxlRGF0YS5ieXRlTGVuZ3RoIC0gcG9zaXRpb24sIE1BWF9QQVlMT0FEX1NJWkUpOwogICAgICBjb25zdCBjaHVuayA9IG5ldyBVaW50OEFycmF5KGZpbGVEYXRhLCBwb3NpdGlvbiwgbGVuZ3RoKTsKICAgICAgcG9zaXRpb24gKz0gbGVuZ3RoOwoKICAgICAgY29uc3QgYmFzZTY0ID0gYnRvYShTdHJpbmcuZnJvbUNoYXJDb2RlLmFwcGx5KG51bGwsIGNodW5rKSk7CiAgICAgIHlpZWxkIHsKICAgICAgICByZXNwb25zZTogewogICAgICAgICAgYWN0aW9uOiAnYXBwZW5kJywKICAgICAgICAgIGZpbGU6IGZpbGUubmFtZSwKICAgICAgICAgIGRhdGE6IGJhc2U2NCwKICAgICAgICB9LAogICAgICB9OwoKICAgICAgbGV0IHBlcmNlbnREb25lID0gZmlsZURhdGEuYnl0ZUxlbmd0aCA9PT0gMCA/CiAgICAgICAgICAxMDAgOgogICAgICAgICAgTWF0aC5yb3VuZCgocG9zaXRpb24gLyBmaWxlRGF0YS5ieXRlTGVuZ3RoKSAqIDEwMCk7CiAgICAgIHBlcmNlbnQudGV4dENvbnRlbnQgPSBgJHtwZXJjZW50RG9uZX0lIGRvbmVgOwoKICAgIH0gd2hpbGUgKHBvc2l0aW9uIDwgZmlsZURhdGEuYnl0ZUxlbmd0aCk7CiAgfQoKICAvLyBBbGwgZG9uZS4KICB5aWVsZCB7CiAgICByZXNwb25zZTogewogICAgICBhY3Rpb246ICdjb21wbGV0ZScsCiAgICB9CiAgfTsKfQoKc2NvcGUuZ29vZ2xlID0gc2NvcGUuZ29vZ2xlIHx8IHt9OwpzY29wZS5nb29nbGUuY29sYWIgPSBzY29wZS5nb29nbGUuY29sYWIgfHwge307CnNjb3BlLmdvb2dsZS5jb2xhYi5fZmlsZXMgPSB7CiAgX3VwbG9hZEZpbGVzLAogIF91cGxvYWRGaWxlc0NvbnRpbnVlLAp9Owp9KShzZWxmKTsK",
              "ok": true,
              "headers": [
                [
                  "content-type",
                  "application/javascript"
                ]
              ],
              "status": 200,
              "status_text": ""
            }
          },
          "base_uri": "https://localhost:8080/",
          "height": 109
        },
        "id": "NfIJAXtCQV-5",
        "outputId": "68fb99cc-cde3-406d-d623-e0cf8fceac66"
      },
      "source": [
        "from google.colab import files\n",
        "!rm kp.csv\n",
        "files.upload()"
      ],
      "execution_count": null,
      "outputs": [
        {
          "output_type": "display_data",
          "data": {
            "text/html": [
              "\n",
              "     <input type=\"file\" id=\"files-c822c078-4349-4bea-b5be-a5b807ad8e77\" name=\"files[]\" multiple disabled\n",
              "        style=\"border:none\" />\n",
              "     <output id=\"result-c822c078-4349-4bea-b5be-a5b807ad8e77\">\n",
              "      Upload widget is only available when the cell has been executed in the\n",
              "      current browser session. Please rerun this cell to enable.\n",
              "      </output>\n",
              "      <script src=\"/nbextensions/google.colab/files.js\"></script> "
            ],
            "text/plain": [
              "<IPython.core.display.HTML object>"
            ]
          },
          "metadata": {
            "tags": []
          }
        },
        {
          "output_type": "stream",
          "text": [
            "Saving kp.csv to kp.csv\n"
          ],
          "name": "stdout"
        },
        {
          "output_type": "execute_result",
          "data": {
            "text/plain": [
              "{'kp.csv': b'Nama,Jenis Kelamin,Rentang Usia,Pekerjaan,\"Berapa kali anda menggunakan Search Engine dalam kurun waktu 1 hari? (Google, Bing, Yahoo, dsb)\",Apakah anda mengetahui atau menggunakan Search Engine DuckDuckGo?,Sudah berapa lamakah anda mengetahui atau menggunakan DuckDuckGo?,Apakah jenis OS dari smartphone yang anda gunakan?,PE1,PE2,PE3,PE4,PE5,EE1,EE2,EE3,EE4,EE5,SI1,SI2,SI3,SI4,SI5,FC1,FC2,FC3,FC4\\r\\nMuhammad,Laki-laki,22-26 tahun,Mahasiswa,11-15 kali,Tidak,1-2 tahun,Android,3,3,3,3,3,4,4,5,3,3,4,3,3,4,4,1,1,1,1\\r\\nBiyar,Laki-laki,22-26 tahun,Karyawan Swasta,> 15 kali,Ya,Belum Pernah,Android,4,4,4,4,4,3,4,5,4,5,5,4,4,3,5,2,4,5,5\\r\\nlatina girl,Perempuan,17-21 tahun,mahasiswi,1-5 kali,Tidak,Belum Pernah,Android,5,5,5,5,5,5,5,5,5,5,5,5,5,5,5,5,5,3,5\\r\\nJalu Dwi Purwandana,Laki-laki,27-31 tahun,CPNS,> 15 kali,Ya,> 2 tahun,Android,4,3,3,2,5,5,3,5,3,4,4,3,1,2,2,5,3,1,1\\r\\nGalih,Laki-laki,22-26 tahun,Mahasiswa,1-5 kali,Tidak,Belum Pernah,Android,4,4,4,4,3,5,5,4,4,4,4,4,3,4,3,4,4,4,4\\r\\nPUTRI NUR ZACHWA,Perempuan,17-21 tahun,Mahasiswa,1-5 kali,Ya,2-6 bulan,Android,2,4,1,1,2,2,3,2,3,2,1,2,2,2,1,1,1,4,4\\r\\nsinta,Perempuan,17-21 tahun,baker,1-5 kali,Tidak,Belum Pernah,iOS,3,3,3,3,3,5,3,3,3,3,4,3,1,3,1,1,1,1,1\\r\\nGian Rachmat,Laki-laki,22-26 tahun,CPNS,> 15 kali,Ya,> 2 tahun,Android,4,4,2,4,5,5,4,3,4,2,3,2,2,1,1,1,2,1,1\\r\\nPandiga Sabilarrosyad,Laki-laki,22-26 tahun,Mahasiswa,11-15 kali,Tidak,Belum Pernah,Android,4,3,3,3,3,3,3,3,3,3,3,4,4,4,4,3,3,3,3\\r\\nPrizcha Willary ,Perempuan,17-21 tahun,Pelajar,11-15 kali,Tidak,Belum Pernah,Android,5,2,4,4,5,5,4,5,4,4,2,4,1,4,1,1,3,1,1\\r\\nAsep cahya,Laki-laki,22-26 tahun,Mahasiswa,6-10 kali,Ya,> 2 tahun,Android,4,3,4,4,4,4,4,4,3,4,4,2,2,2,2,3,5,1,1\\r\\nAmalia,Perempuan,22-26 tahun,CPNS,1-5 kali,Tidak,Belum Pernah,Android,3,3,3,5,5,5,5,5,1,4,4,3,4,4,2,4,5,2,1\\r\\nReddi Putra,Laki-laki,< 17 tahun,Pelajar,1-5 kali,Tidak,Belum Pernah,Android,3,3,3,3,3,3,3,3,3,3,3,3,3,3,3,3,3,3,3\\r\\nWaluyo,Laki-laki,27-31 tahun,ASN,Hampir tidak pernah,Tidak,Belum Pernah,iOS,3,3,3,3,5,3,3,3,3,3,3,3,3,3,1,3,3,3,3\\r\\nalvin rinas rizky,Laki-laki,22-26 tahun,mahasiswa,6-10 kali,Ya,2-6 bulan,iOS,4,4,4,4,3,4,4,4,4,3,4,3,2,4,3,4,4,4,3\\r\\nMastri,Perempuan,22-26 tahun,Mahasiswa,1-5 kali,Tidak,Belum Pernah,iOS,3,3,3,3,3,3,3,3,3,3,4,3,2,3,3,3,3,3,3\\r\\nDwi octo lubis,Laki-laki,22-26 tahun,Mahasiswa,1-5 kali,Tidak,Belum Pernah,iOS,3,3,3,3,3,3,3,3,3,3,3,3,3,3,3,3,3,3,3\\r\\nDwi octo lubis,Laki-laki,22-26 tahun,Mahasiswa,1-5 kali,Tidak,Belum Pernah,iOS,3,3,3,3,3,3,3,3,3,3,3,3,3,3,3,3,3,3,3\\r\\nWaluyo,Laki-laki,27-31 tahun,ASN,Hampir tidak pernah,Tidak,Belum Pernah,iOS,3,3,3,3,5,3,3,3,3,3,3,3,3,3,1,3,3,3,3\\r\\nPutri Amanda SYafira,Perempuan,17-21 tahun,Mahasiswa,> 15 kali,Tidak,Belum Pernah,Android,3,3,3,3,3,3,3,3,3,3,3,3,3,3,3,3,3,3,3\\r\\nMastri,Perempuan,22-26 tahun,Mahasiswa,1-5 kali,Tidak,Belum Pernah,iOS,3,3,3,3,3,3,3,3,3,3,4,3,2,3,3,3,3,3,3\\r\\nKarunia Utami,Perempuan,27-31 tahun,Pegawai,> 15 kali,Tidak,Belum Pernah,iOS,3,3,3,3,3,3,3,3,3,4,3,3,3,3,3,3,3,3,3\\r\\nAchmad dzulfikar maulidi,Laki-laki,22-26 tahun,Pegawai,> 15 kali,Ya,1-2 tahun,Android,5,5,5,5,3,5,5,3,2,5,5,3,2,2,2,5,5,2,2\\r\\nBaihaqsani,Laki-laki,22-26 tahun,Mahasiswa,6-10 kali,Tidak,Belum Pernah,iOS,3,3,3,3,1,3,3,3,3,3,3,4,3,3,3,1,1,1,1\\r\\nSumidah,Perempuan,> 31 tahun,Pegawai Negeri Sipil,1-5 kali,Tidak,Belum Pernah,Android,3,3,3,3,1,3,3,3,3,3,1,4,3,3,1,1,1,1,1\\r\\nBakoh Santosa,Laki-laki,> 31 tahun,Wiraswasta,6-10 kali,Tidak,Belum Pernah,iOS,3,3,3,3,3,3,3,3,3,3,1,1,1,2,1,1,1,1,1\\r\\nRegy Dwitama,Laki-laki,22-26 tahun,Freelance,6-10 kali,Ya,1-2 tahun,Android,5,4,4,4,5,5,5,5,3,3,5,4,3,4,4,3,5,5,1\\r\\nSafina Nindyakirana,Perempuan,22-26 tahun,Mahasiswa,1-5 kali,Ya,2-6 bulan,Android,4,4,4,4,4,4,4,4,3,4,4,3,3,3,3,4,3,3,3\\r\\nFadhilah Rahmawati,Perempuan,17-21 tahun,Mahasiswa,6-10 kali,Tidak,Belum Pernah,Android,3,3,3,3,3,3,3,3,3,3,3,3,3,3,3,3,3,3,3\\r\\nVania Puti Mahsa,Perempuan,22-26 tahun,Mahasiswi,1-5 kali,Ya,< 2 bulan,iOS,4,3,4,3,4,4,4,3,3,4,4,3,2,4,1,3,2,1,1\\r\\nNaufal,Laki-laki,22-26 tahun,Mahasiswa,6-10 kali,Tidak,Belum Pernah,Android,1,1,3,2,5,3,3,3,3,3,3,3,1,3,1,1,3,3,3\\r\\nBagoes Sandy,Laki-laki,17-21 tahun,Mahasiswa,> 15 kali,Ya,7-12 bulan,Android,4,5,2,3,4,5,5,5,2,5,5,3,1,1,1,3,5,1,1\\r\\nFathiinul K,Perempuan,> 31 tahun,Ibu Rumah Tangga,1-5 kali,Tidak,Belum Pernah,Android,3,3,3,3,3,3,3,3,3,3,3,3,3,3,3,3,3,3,3\\r\\nHadi P,Laki-laki,> 31 tahun,Sopir,1-5 kali,Tidak,Belum Pernah,Android,3,3,3,3,3,3,3,3,3,3,3,3,3,3,3,3,3,3,3\\r\\nAdinda Putri,Perempuan,< 17 tahun,Pelajar SMP,1-5 kali,Tidak,Belum Pernah,Android,3,3,3,3,3,3,3,3,3,3,2,5,3,5,5,3,3,3,3\\r\\nOjan,Laki-laki,22-26 tahun,Mahasiswa,11-15 kali,Ya,> 2 tahun,Android,2,3,2,1,5,4,3,4,4,5,3,1,1,1,1,1,2,1,2\\r\\nBisma,Laki-laki,22-26 tahun,konsultan,> 15 kali,Tidak,Belum Pernah,iOS,3,3,3,3,3,3,3,3,3,3,3,3,3,3,3,3,3,3,3\\r\\nBarki M R H,Laki-laki,22-26 tahun,mhs,6-10 kali,Tidak,Belum Pernah,iOS,3,3,3,3,3,2,4,5,4,4,3,4,3,5,2,4,4,3,4\\r\\nJati Nugroho,Laki-laki,22-26 tahun,Mahasiswa,> 15 kali,Tidak,Belum Pernah,Android,3,3,3,2,3,3,3,2,3,3,3,3,3,3,3,1,1,1,1\\r\\nsinta,Perempuan,17-21 tahun,baker,1-5 kali,Tidak,Belum Pernah,iOS,3,3,3,3,3,5,3,3,3,3,4,3,1,3,1,1,1,1,1\\r\\nRaihan,Laki-laki,22-26 tahun,Mahasiswa,> 15 kali,Tidak,1-2 tahun,Android,3,4,3,3,5,4,3,3,3,3,3,3,3,3,1,1,3,1,1\\r\\nAudi,Perempuan,17-21 tahun,Mahasiswi,1-5 kali,Tidak,Belum Pernah,Android,3,3,3,3,3,3,3,3,2,3,2,4,1,3,1,1,1,3,1\\r\\nRizqi Saputra,Laki-laki,22-26 tahun,Pegawai Swasta,6-10 kali,Tidak,Belum Pernah,Android,3,3,3,3,3,3,3,3,3,3,3,3,3,3,3,3,3,3,3\\r\\nHermawan,Laki-laki,22-26 tahun,PNS,1-5 kali,Ya,< 2 bulan,Android,4,3,4,3,4,4,4,4,4,4,4,4,4,4,4,4,4,4,4\\r\\nDarmawan Saputra,Laki-laki,17-21 tahun,Wirausaha,6-10 kali,Ya,2-6 bulan,Android,4,4,5,4,4,5,4,4,5,4,4,4,5,4,4,5,4,4,5\\r\\nTabita Putri,Perempuan,17-21 tahun,Pelajar,6-10 kali,Tidak,Belum Pernah,iOS,3,3,3,3,3,3,3,3,3,3,3,3,3,3,3,3,3,3,3\\r\\nRizky Hermawan,Laki-laki,22-26 tahun,Pelajar,6-10 kali,Ya,2-6 bulan,Android,4,3,4,5,4,5,4,4,4,4,3,4,4,5,4,4,4,5,4\\r\\nBramasto,Laki-laki,22-26 tahun,PNS,1-5 kali,Ya,2-6 bulan,iOS,4,4,3,4,4,3,4,4,3,4,4,4,4,4,4,4,4,4,4\\r\\nAziz,Laki-laki,22-26 tahun,Mahasiswa,> 15 kali,Ya,1-2 tahun,Android,3,3,3,3,3,3,4,5,3,4,4,3,3,3,1,1,3,3,1\\r\\nJames,Perempuan,17-21 tahun,Freelance,Hampir tidak pernah,Tidak,Belum Pernah,Android,3,3,3,3,3,3,3,3,3,3,3,3,3,3,3,3,3,3,3\\r\\nImam,Laki-laki,> 31 tahun,Karyawan Swasta,1-5 kali,Tidak,Belum Pernah,Android,3,3,3,3,3,3,3,3,3,3,2,4,1,2,1,1,1,1,1\\r\\nBagus Damar Priambodo,Laki-laki,22-26 tahun,Mahasiswa,11-15 kali,Tidak,Belum Pernah,Android,3,3,3,3,3,3,3,3,3,3,3,3,1,1,1,1,1,1,1\\r\\nKevin Bintang Akbar ,Laki-laki,17-21 tahun,Mahasiswa,1-5 kali,Tidak,Belum Pernah,Android,3,3,3,3,3,3,3,3,3,3,3,3,3,3,3,3,3,3,3\\r\\nMarsha Qolby,Perempuan,17-21 tahun,Mahasiswa,> 15 kali,Tidak,Belum Pernah,iOS,3,3,3,3,3,3,3,3,3,3,3,3,1,3,1,1,1,3,3\\r\\nCHandra Christa Christanto,Laki-laki,22-26 tahun,NOC ,6-10 kali,Tidak,Belum Pernah,Android,5,5,5,5,5,5,5,5,5,5,5,5,5,5,5,5,5,5,5\\r\\nDiannisa Sisilia,Perempuan,22-26 tahun,Staff,> 15 kali,Tidak,Belum Pernah,Android,3,3,3,3,3,3,3,3,3,3,4,4,2,3,2,2,2,2,2\\r\\nAudi,Laki-laki,22-26 tahun,Mahasiswa,1-5 kali,Ya,Belum Pernah,Android,3,4,4,2,4,3,3,4,4,3,3,3,2,4,4,2,2,4,3\\r\\nMichael Samsir,Laki-laki,22-26 tahun,Streamer,Hampir tidak pernah,Tidak,Belum Pernah,Android,3,3,3,3,3,3,3,3,3,3,3,3,3,3,3,3,3,3,3\\r\\nRandy Muhammad,Laki-laki,22-26 tahun,Pro Gamer,Hampir tidak pernah,Ya,Belum Pernah,Android,3,3,3,3,3,3,3,3,3,3,2,4,1,2,3,1,3,3,3\\r\\nRusman Hadi,Laki-laki,17-21 tahun,Streamer,Hampir tidak pernah,Ya,Belum Pernah,Android,3,3,3,3,3,3,3,3,3,3,3,3,1,1,1,3,3,3,3\\r\\nXena,Perempuan,17-21 tahun,Mahasiswa,6-10 kali,Tidak,Belum Pernah,Android,3,3,3,3,3,3,3,3,3,3,4,3,3,3,3,1,1,1,1\\r\\nKhairul Huda,Laki-laki,22-26 tahun,Mahasiswa,Hampir tidak pernah,Tidak,Belum Pernah,Android,3,3,3,3,3,3,3,3,3,3,3,3,3,4,4,3,3,3,3\\r\\nFathiinul Khothimah,Perempuan,> 31 tahun,Ibu Rumah Tangga,1-5 kali,Tidak,Belum Pernah,Android,3,3,3,3,3,3,3,3,3,3,2,2,1,1,2,3,3,3,3\\r\\nAdinda Putri,Perempuan,< 17 tahun,Siswa SMP,6-10 kali,Tidak,Belum Pernah,Android,3,3,3,3,3,3,3,3,3,3,3,4,1,2,4,3,3,3,3\\r\\nMuhammad Rizky,Laki-laki,22-26 tahun,Gamer,1-5 kali,Tidak,Belum Pernah,iOS,3,3,3,3,3,3,3,3,3,3,3,3,1,1,1,3,3,2,2\\r\\nSafa,Perempuan,17-21 tahun,Mahasiswa,6-10 kali,Tidak,Belum Pernah,Android,1,5,2,4,3,4,5,3,3,3,4,3,3,4,5,3,3,4,4\\r\\nTriani Putri,Perempuan,27-31 tahun,IRT,> 15 kali,Tidak,Belum Pernah,Android,3,3,3,3,3,3,3,3,3,3,3,3,3,3,3,3,3,3,3\\r\\nmuhammad fasya,Laki-laki,< 17 tahun,masih SMA,6-10 kali,Ya,< 2 bulan,iOS,2,1,1,1,2,1,2,2,3,3,2,1,2,3,1,1,2,2,2\\r\\nrezaaaa,Laki-laki,17-21 tahun,kuliah smt 2,> 15 kali,Tidak,Belum Pernah,iOS,3,3,3,3,3,3,3,3,3,3,1,3,3,3,3,1,1,3,3\\r\\nMawar Theresia,Perempuan,22-26 tahun,SPG,Hampir tidak pernah,Ya,7-12 bulan,iOS,4,4,5,5,5,4,5,4,4,5,5,5,5,5,5,5,4,4,5\\r\\nM. Faizal Taufik,Laki-laki,27-31 tahun,Ahli Mesin Mitsubisi,Hampir tidak pernah,Tidak,Belum Pernah,Android,3,3,3,3,3,3,3,3,3,3,3,3,3,3,3,3,3,3,3\\r\\ndr. ghifary habibie,Laki-laki,> 31 tahun,dokter,1-5 kali,Ya,< 2 bulan,iOS,3,3,3,2,3,3,2,3,3,2,3,3,3,3,3,3,3,3,3\\r\\nRidwan firdaus,Laki-laki,> 31 tahun,Guru,> 15 kali,Ya,> 2 tahun,iOS,5,4,4,3,4,4,4,4,3,4,5,4,5,4,5,4,5,1,4\\r\\nYamita Bunga,Perempuan,17-21 tahun,Mahasiswa,Hampir tidak pernah,Ya,Belum Pernah,iOS,3,3,3,3,3,3,3,1,1,3,3,4,3,3,3,3,3,3,3\\r\\nilham nabil,Laki-laki,< 17 tahun,SMA,6-10 kali,Ya,Belum Pernah,iOS,3,3,3,3,3,3,3,1,1,3,1,5,3,3,3,1,1,1,1\\r\\nazalia nurisma,Perempuan,22-26 tahun,kuliah lagi magang,6-10 kali,Tidak,Belum Pernah,iOS,3,3,2,3,2,2,2,1,1,2,1,4,1,1,1,1,1,5,5\\r\\nMuhamad Isnaeni,Laki-laki,> 31 tahun,Pedagang,11-15 kali,Tidak,Belum Pernah,Android,3,3,3,3,3,3,3,3,3,3,3,4,1,1,1,1,1,1,1\\r\\nFariha Liantini,Perempuan,> 31 tahun,Dosen,6-10 kali,Ya,Belum Pernah,Android,3,3,3,3,3,3,3,3,3,3,1,4,1,3,1,3,3,1,1\\r\\nMichael Samsir,Laki-laki,22-26 tahun,Streamer,Hampir tidak pernah,Tidak,Belum Pernah,Android,3,3,3,3,3,3,3,3,3,3,3,3,3,3,3,3,3,3,3\\r\\nFebiana K,Perempuan,22-26 tahun,Manager Tim Esport,1-5 kali,Tidak,Belum Pernah,Android,3,3,3,3,3,3,3,3,3,3,3,3,3,3,3,3,3,3,3\\r\\nHerman,Laki-laki,> 31 tahun,Seniman,> 15 kali,Ya,> 2 tahun,iOS,4,4,3,5,4,3,3,4,3,3,4,3,3,2,3,2,4,1,1\\r\\nFarah annisa,Perempuan,17-21 tahun,Mahasiswa,6-10 kali,Tidak,Belum Pernah,iOS,3,3,3,3,3,3,3,3,3,3,1,1,1,1,1,1,3,3,3\\r\\nSamuel,Laki-laki,27-31 tahun,Streamer,Hampir tidak pernah,Tidak,Belum Pernah,Android,3,3,3,3,3,3,3,3,3,3,3,4,2,2,1,1,1,1,1\\r\\nEva Harima,Perempuan,22-26 tahun,Reseller,11-15 kali,Ya,< 2 bulan,Android,3,3,3,4,4,3,3,4,3,3,4,4,2,4,3,1,4,1,1\\r\\nFera,Perempuan,17-21 tahun,Mahasiswa,> 15 kali,Tidak,Belum Pernah,iOS,3,3,3,3,3,3,3,3,3,3,3,4,1,3,1,1,1,1,1\\r\\nIvanna Lundy,Perempuan,22-26 tahun,Mahasiswa,> 15 kali,Tidak,Belum Pernah,Android,3,3,3,3,3,3,3,3,3,3,3,3,1,1,1,1,1,1,1\\r\\nAping Dyah,Perempuan,> 31 tahun,PNS,Hampir tidak pernah,Tidak,Belum Pernah,Android,3,3,3,3,3,3,3,3,3,3,3,4,1,1,1,1,1,1,1\\r\\nAngga Saputra Wibisono,Laki-laki,22-26 tahun,NOC,> 15 kali,Tidak,Belum Pernah,Android,3,3,3,3,3,3,3,3,3,3,3,3,1,1,1,1,1,1,1\\r\\nBonifasis Marnata Sima Pamula,Laki-laki,22-26 tahun,Mahasiswa,> 15 kali,Tidak,Belum Pernah,Android,3,3,3,3,3,3,3,3,3,3,3,3,3,3,3,3,3,3,3\\r\\nTama,Perempuan,22-26 tahun,Mahasiswa,> 15 kali,Ya,1-2 tahun,Android,3,3,3,3,3,3,3,4,3,3,3,3,4,1,1,1,4,1,1\\r\\nMohammad Alvian,Laki-laki,22-26 tahun,Streamer,> 15 kali,Ya,> 2 tahun,Android,4,3,3,4,4,4,4,4,3,4,4,4,4,4,1,1,4,1,1\\r\\nNabila,Perempuan,22-26 tahun,Olshop,11-15 kali,Tidak,Belum Pernah,Android,3,3,3,3,3,3,3,3,3,3,3,3,3,3,3,3,3,3,3\\r\\nAli Kusumadinata,Laki-laki,> 31 tahun,Karyawan,11-15 kali,Ya,> 2 tahun,Android,3,3,3,5,4,3,3,5,3,4,4,3,2,1,1,1,1,1,1\\r\\nTomy Dwi,Laki-laki,22-26 tahun,Karyawan,6-10 kali,Tidak,Belum Pernah,iOS,3,3,3,3,3,3,3,3,3,3,3,3,3,3,3,1,1,1,1\\r\\nmuhammad ziyad mukhlisin,Laki-laki,22-26 tahun,Mahasiswa,11-15 kali,Tidak,Belum Pernah,Android,3,3,3,3,3,3,3,3,3,3,3,3,3,3,3,3,3,3,3\\r\\nFarah Cantika,Perempuan,17-21 tahun,Mahasiswa,11-15 kali,Tidak,Belum Pernah,Android,3,3,3,3,3,3,3,3,3,3,3,3,3,3,3,3,3,3,3\\r\\nErick Pangestu,Laki-laki,22-26 tahun,Mahasiswa,11-15 kali,Ya,> 2 tahun,Android,2,3,4,4,4,4,3,5,2,4,3,3,2,2,1,1,4,1,1\\r\\nPermatasari,Perempuan,22-26 tahun,Mahasiswa,> 15 kali,Ya,1-2 tahun,iOS,5,2,3,4,4,3,2,4,1,4,4,2,2,1,1,1,5,2,2\\r\\nBarki Riski,Laki-laki,22-26 tahun,Mahasiswa,6-10 kali,Tidak,Belum Pernah,Android,3,3,3,3,3,3,3,3,3,3,1,1,1,3,1,1,1,3,3\\r\\nFikar Arya,Laki-laki,22-26 tahun,Freelance,1-5 kali,Ya,< 2 bulan,Android,4,3,4,2,4,4,4,3,3,3,4,3,1,4,1,1,5,1,4\\r\\nA M Fadrian Nur,Laki-laki,22-26 tahun,Mahasiswa,1-5 kali,Tidak,Belum Pernah,Android,3,3,3,3,3,3,3,1,3,1,1,1,1,1,1,1,1,1,1\\r\\nHanif Nurrohman,Laki-laki,22-26 tahun,Mahasiswa,6-10 kali,Tidak,Belum Pernah,Android,3,3,3,3,3,3,3,3,3,3,1,3,1,1,1,1,1,1,1\\r\\nVirly Mucharomah,Perempuan,17-21 tahun,Mahasiswa,11-15 kali,Tidak,Belum Pernah,Android,3,3,3,3,3,3,3,3,3,3,1,1,1,1,1,1,1,1,1\\r\\nTasha Paramitha,Perempuan,22-26 tahun,Presenter Radio,11-15 kali,Tidak,Belum Pernah,iOS,1,1,1,1,1,1,1,1,1,1,3,3,1,1,1,1,1,1,1\\r\\nSabina Katya Viena Diva,Perempuan,22-26 tahun,Freelance,11-15 kali,Tidak,Belum Pernah,iOS,3,3,3,3,3,3,3,3,3,3,3,3,1,3,1,1,1,1,1\\r\\nNatasya Farisa,Perempuan,22-26 tahun,Pegawai Swasta,11-15 kali,Tidak,Belum Pernah,iOS,1,1,1,1,1,3,3,3,3,3,3,3,2,1,1,1,1,1,1\\r\\nNisabilah Anjani,Perempuan,22-26 tahun,Lawfirm,> 15 kali,Tidak,Belum Pernah,iOS,3,3,3,3,3,3,3,3,3,3,3,3,1,1,1,1,1,1,1\\r\\nAmjad Hilmy Maricar,Laki-laki,22-26 tahun,Bartender,6-10 kali,Tidak,Belum Pernah,iOS,3,3,3,3,3,3,3,3,3,3,3,3,2,2,2,2,2,1,1\\r\\nZahra Shadiqqa,Perempuan,22-26 tahun,Mahasiswa,11-15 kali,Tidak,Belum Pernah,iOS,3,3,3,3,3,3,3,3,3,3,1,4,2,1,2,2,2,2,2\\r\\nZakia Kusumawardhani,Perempuan,22-26 tahun,PNS,11-15 kali,Tidak,Belum Pernah,Android,3,3,3,3,3,3,3,3,3,3,3,3,1,1,1,1,1,1,1\\r\\nCahaya Gemilang  R,Perempuan,22-26 tahun,Mahasiswa,Hampir tidak pernah,Tidak,Belum Pernah,Android,3,3,3,3,3,3,3,3,3,3,4,4,1,2,1,2,2,2,2\\r\\nHenokh Adinata,Laki-laki,17-21 tahun,Mahasiswa,> 15 kali,Tidak,Belum Pernah,Android,3,3,3,3,3,3,3,3,3,3,3,2,2,2,2,1,3,1,1\\r\\nDava Devara,Perempuan,22-26 tahun,Barista,> 15 kali,Tidak,Belum Pernah,iOS,3,3,3,3,3,1,1,1,3,1,1,1,1,1,1,1,1,1,1\\r\\nIlham Pradito,Laki-laki,22-26 tahun,Mahasiswa,6-10 kali,Ya,< 2 bulan,Android,4,3,4,4,3,4,4,3,3,4,5,3,1,4,1,1,4,1,1\\r\\nTatjana Harika Jasmine,Perempuan,22-26 tahun,Mahasiswi,6-10 kali,Ya,< 2 bulan,iOS,4,4,4,4,4,5,5,5,2,4,4,4,2,2,2,4,3,1,4\\r\\nAgassi Usman,Laki-laki,22-26 tahun,Mahasiswa,11-15 kali,Tidak,Belum Pernah,iOS,3,3,3,3,3,3,3,3,3,3,3,3,1,1,1,1,1,1,1\\r\\nIslamabel Qomara Putri,Perempuan,17-21 tahun,Pegawai Negeri Swasta,> 15 kali,Tidak,Belum Pernah,iOS,3,3,3,3,3,3,3,3,3,3,3,3,2,2,2,2,2,2,2\\r\\nAmira Indriani Cahya Dewi,Perempuan,22-26 tahun,Pegawai Negeri Swasta,11-15 kali,Tidak,Belum Pernah,iOS,3,3,3,3,3,3,3,3,3,3,3,3,3,3,3,3,3,3,3\\r\\nMiftah Amir ,Laki-laki,22-26 tahun,Mahasiswa,> 15 kali,Ya,< 2 bulan,Android,4,3,3,4,3,4,4,3,1,4,5,3,1,5,1,1,5,1,1\\r\\nAnastasya,Perempuan,22-26 tahun,Mahasiswa,11-15 kali,Tidak,Belum Pernah,iOS,3,3,3,3,3,3,3,3,3,3,3,1,1,1,1,1,1,1,1\\r\\nRanaya Syanindita Putri Sani,Perempuan,17-21 tahun,Mahasiswi,1-5 kali,Ya,Belum Pernah,Android,3,3,3,4,3,3,3,3,3,3,3,3,2,3,5,3,3,2,2\\r\\nLaras Puspitasari,Perempuan,22-26 tahun,Karyawan,11-15 kali,Tidak,Belum Pernah,Android,2,2,2,3,4,4,3,3,3,3,3,3,2,2,1,1,3,1,1\\r\\nCerah Logika,Perempuan,22-26 tahun,Staff,11-15 kali,Tidak,Belum Pernah,Android,3,3,3,3,3,4,3,3,3,4,3,3,2,2,1,1,1,1,1\\r\\nAlberto,Laki-laki,17-21 tahun,Pekerja,11-15 kali,Tidak,Belum Pernah,Android,3,3,3,3,3,3,3,3,3,3,3,3,3,3,3,3,3,3,3\\r\\nPeter Jonathan,Laki-laki,17-21 tahun,Freelance,> 15 kali,Tidak,Belum Pernah,Android,3,2,3,4,3,4,3,4,3,4,3,3,2,2,1,1,5,1,1\\r\\nFericho Bramasta,Laki-laki,22-26 tahun,Helpdesk,> 15 kali,Ya,> 2 tahun,iOS,3,2,3,4,5,4,3,4,3,4,3,3,4,3,2,1,4,1,2\\r\\nMartina,Perempuan,27-31 tahun,Staff,> 15 kali,Tidak,Belum Pernah,iOS,3,3,3,3,3,3,3,3,3,3,3,3,3,3,3,3,3,3,3\\r\\nArka Brian ,Laki-laki,17-21 tahun,Mahasiswa,11-15 kali,Tidak,Belum Pernah,iOS,3,3,3,3,3,3,3,3,3,3,4,1,1,1,1,1,1,1,1\\r\\nNamira Mufida Adien,Perempuan,22-26 tahun,Fresh Graduate,> 15 kali,Tidak,Belum Pernah,iOS,3,3,3,3,3,3,3,3,3,3,1,3,1,1,1,1,1,1,1\\r\\nAbinila Savina Taim,Perempuan,22-26 tahun,Pegawai Negeri Swasta,11-15 kali,Tidak,Belum Pernah,iOS,3,3,3,3,3,3,3,3,3,3,3,3,1,1,1,1,1,1,1\\r\\nZenda Alvia,Perempuan,22-26 tahun,Pegawai Negeri Swasta,> 15 kali,Tidak,Belum Pernah,iOS,3,3,3,3,3,2,2,2,2,2,3,3,1,1,1,3,1,1,1\\r\\nAdri Sedewo,Laki-laki,> 31 tahun,Karyawan Swasta,1-5 kali,Ya,< 2 bulan,Android,4,4,4,4,3,4,4,5,4,5,5,3,4,5,5,4,4,4,4\\r\\nFarida Ariani,Perempuan,17-21 tahun,Ibu Rumah Tangga,1-5 kali,Ya,< 2 bulan,Android,4,5,4,3,4,4,3,3,4,4,3,3,5,5,4,4,5,5,4\\r\\nZayn Aiman Rasya,Laki-laki,< 17 tahun,Siswa,6-10 kali,Ya,2-6 bulan,iOS,5,4,5,4,4,4,4,3,4,4,3,5,5,5,5,4,5,5,5\\r\\nCalista Azzura Shain,Perempuan,17-21 tahun,Mahasiswi,1-5 kali,Ya,< 2 bulan,iOS,3,5,4,4,5,3,4,4,5,4,3,4,4,3,5,5,5,4,4\\r\\nFakhrie Zhafran K,Laki-laki,< 17 tahun,Siswa,1-5 kali,Ya,< 2 bulan,Android,3,4,4,4,3,4,3,3,4,3,5,5,4,3,5,5,5,4,4\\r\\nAnnisa Septiani,Perempuan,< 17 tahun,Siswi,1-5 kali,Ya,< 2 bulan,Android,4,4,4,3,5,4,5,3,5,4,5,4,4,5,5,4,5,5,5\\r\\nAnggia Putri,Perempuan,17-21 tahun,Mahasiswi,6-10 kali,Ya,2-6 bulan,iOS,4,5,4,3,5,5,4,5,4,4,5,4,4,3,5,4,3,5,3\\r\\nMuhammad Aiman,Laki-laki,22-26 tahun,Karyawan Swasta,6-10 kali,Ya,7-12 bulan,iOS,5,4,5,3,5,4,5,4,5,5,5,4,5,5,5,3,5,4,4\\r\\nFriesca Ervina,Perempuan,22-26 tahun,Ibu Rumah Tangga,1-5 kali,Ya,< 2 bulan,Android,4,3,4,4,4,3,4,5,3,4,3,3,3,2,5,3,5,3,4\\r\\nRaisya Shalyn ,Perempuan,< 17 tahun,Siswi,1-5 kali,Ya,< 2 bulan,Android,4,3,4,4,3,4,4,5,5,5,4,3,5,4,5,4,5,4,4\\r\\nZela Drenalda,Perempuan,> 31 tahun,Ibu Rumah Tangga,6-10 kali,Ya,< 2 bulan,Android,3,3,5,4,4,4,4,4,5,4,4,4,4,4,3,5,4,4,3\\r\\nKalula Hanika,Perempuan,17-21 tahun,Mahasiswi,1-5 kali,Ya,2-6 bulan,iOS,4,3,4,5,5,5,5,5,4,5,5,5,5,4,5,5,5,5,5\\r\\nRudi Ardian,Laki-laki,22-26 tahun,Karyawan swasta,1-5 kali,Ya,< 2 bulan,iOS,4,5,4,4,5,4,5,5,4,5,5,5,5,4,5,5,4,5,4\\r\\nNaomi Keisha,Perempuan,17-21 tahun,Mahasiswi,1-5 kali,Ya,< 2 bulan,iOS,5,4,5,3,5,5,5,5,5,5,4,5,5,5,5,5,5,5,4\\r\\nLulu Hanisya,Perempuan,< 17 tahun,Siswa,1-5 kali,Ya,< 2 bulan,Android,4,4,4,5,4,4,5,5,5,4,4,4,4,5,4,5,5,4,5\\r\\nKiki Susilawati,Perempuan,22-26 tahun,Mahasiswi,6-10 kali,Ya,< 2 bulan,iOS,5,4,4,4,5,4,4,5,5,4,5,5,5,4,5,3,5,4,5\\r\\nKeyran Aji,Laki-laki,17-21 tahun,Mahasiswa,1-5 kali,Ya,< 2 bulan,Android,4,4,5,5,4,4,5,5,5,5,5,4,5,5,5,4,5,5,5\\r\\nKama Nugroho,Laki-laki,17-21 tahun,Karyawan swasta,6-10 kali,Ya,2-6 bulan,iOS,4,4,5,5,4,4,5,5,5,5,5,5,5,4,5,5,5,5,5\\r\\nAidan Fasha,Laki-laki,17-21 tahun,Mahasiswa,1-5 kali,Ya,< 2 bulan,iOS,4,3,4,3,4,3,4,4,3,4,5,4,4,3,5,5,5,4,5\\r\\nLita Adyasari,Perempuan,27-31 tahun,Ibu rumah tangga,1-5 kali,Ya,< 2 bulan,iOS,4,5,4,5,5,5,4,4,5,5,4,5,5,4,5,5,5,5,5\\r\\nAnindya Bina,Perempuan,17-21 tahun,Karyawan,6-10 kali,Ya,< 2 bulan,iOS,5,5,5,5,5,4,5,4,4,5,5,4,5,5,4,5,5,4,5\\r\\nLeonardo Hasbi,Laki-laki,17-21 tahun,Mahasiswa,6-10 kali,Ya,2-6 bulan,Android,4,5,5,5,5,5,4,5,4,5,5,4,5,4,5,4,3,5,5\\r\\nZahira Biya Niska,Perempuan,< 17 tahun,Siswi,1-5 kali,Ya,< 2 bulan,iOS,5,5,5,4,5,4,4,5,5,5,4,4,5,5,5,5,5,5,5\\r\\nIchimaru gin,Laki-laki,17-21 tahun,Freelance,> 15 kali,Ya,2-6 bulan,iOS,5,4,4,5,5,4,4,4,4,5,4,4,5,4,4,3,4,4,4\\r\\nSoni Akbar,Laki-laki,27-31 tahun,Direktur,6-10 kali,Tidak,Belum Pernah,Android,3,4,4,3,3,3,2,5,4,2,5,2,4,4,3,1,4,3,2\\r\\nAffan B,Laki-laki,22-26 tahun,Tani,6-10 kali,Ya,2-6 bulan,Android,5,5,5,4,5,4,4,5,4,5,4,5,4,4,5,4,5,4,4\\r\\nSuharto,Laki-laki,27-31 tahun,Marketing,6-10 kali,Tidak,Belum Pernah,Android,3,5,3,3,3,2,3,4,2,4,3,3,2,4,4,2,4,3,1\\r\\nZenpachi,Laki-laki,17-21 tahun,Belum bekerja,6-10 kali,Ya,7-12 bulan,Android,5,5,5,4,5,5,5,5,5,4,4,5,5,4,5,4,5,5,5\\r\\nAlgozali,Laki-laki,22-26 tahun,Juragan,11-15 kali,Ya,2-6 bulan,Android,4,5,5,4,5,5,5,5,5,5,5,4,5,5,5,5,4,5,5\\r\\nAdi Yoga,Laki-laki,> 31 tahun,Karyawan,Hampir tidak pernah,Tidak,Belum Pernah,Android,3,3,3,3,3,3,3,3,3,3,3,3,3,3,3,3,3,3,3\\r\\nAlfonso,Laki-laki,22-26 tahun,Pramosaji,11-15 kali,Ya,7-12 bulan,iOS,4,5,5,5,5,4,5,5,4,5,5,4,5,4,5,5,4,5,5\\r\\nSovia nandar,Perempuan,27-31 tahun,Bendahara,6-10 kali,Tidak,Belum Pernah,iOS,3,4,3,4,3,3,3,3,3,3,2,2,4,3,3,2,4,2,3\\r\\nAlia,Perempuan,17-21 tahun,Sales,11-15 kali,Tidak,Belum Pernah,iOS,4,4,5,5,5,4,5,5,5,5,4,5,4,5,5,5,4,5,5\\r\\nAhmad khoirul,Laki-laki,27-31 tahun,Project,> 15 kali,Tidak,Belum Pernah,Android,4,2,3,1,5,1,5,2,4,3,3,2,4,1,5,3,3,3,3\\r\\nKirana Lestari,Perempuan,< 17 tahun,Siswa,1-5 kali,Ya,< 2 bulan,iOS,4,4,4,5,4,5,4,5,4,4,5,5,5,5,5,5,5,5,5\\r\\nWisnu Ardiyanto,Laki-laki,22-26 tahun,Tidak Bekerja,11-15 kali,Tidak,Belum Pernah,Android,3,3,3,3,3,3,3,3,3,3,3,3,3,3,3,3,2,1,2\\r\\nNaja Amila,Perempuan,22-26 tahun,Siswa,1-5 kali,Ya,2-6 bulan,Android,5,5,5,5,5,5,5,5,5,5,5,5,5,4,5,5,5,5,5\\r\\nYudi indra,Laki-laki,> 31 tahun,Tenaga k3,11-15 kali,Tidak,Belum Pernah,Android,3,3,4,4,3,3,3,3,3,3,3,3,4,3,4,3,3,3,3\\r\\nLala Andini,Perempuan,17-21 tahun,Mahasiswi,6-10 kali,Ya,2-6 bulan,iOS,4,5,3,5,4,5,5,5,4,4,5,5,5,4,5,4,5,5,4\\r\\nJamal,Laki-laki,> 31 tahun,Ahli irigasi,6-10 kali,Tidak,7-12 bulan,Android,4,4,3,3,4,4,2,4,3,3,2,4,4,2,4,4,5,4,4\\r\\nZahir Muhammad,Laki-laki,17-21 tahun,Siswa,1-5 kali,Ya,< 2 bulan,iOS,4,5,5,5,5,4,5,5,5,5,5,5,5,4,5,3,5,5,5\\r\\nAnanda Felix,Laki-laki,17-21 tahun,Mahasiswa,11-15 kali,Ya,< 2 bulan,iOS,3,3,4,5,4,5,5,4,4,4,4,4,4,4,2,2,4,1,1\\r\\nBiya Angela,Perempuan,17-21 tahun,Mahasiswi,1-5 kali,Ya,< 2 bulan,Android,5,5,5,4,5,5,5,5,5,5,5,5,5,5,5,5,5,5,5\\r\\nAnnisa Warda Irvani,Perempuan,22-26 tahun,Mahasiswa,> 15 kali,Tidak,Belum Pernah,iOS,3,3,3,3,3,3,3,3,3,3,2,2,1,1,1,1,1,1,1\\r\\nIsma mutiara,Perempuan,22-26 tahun,Mahasiswip,1-5 kali,Ya,< 2 bulan,iOS,4,4,5,5,5,5,5,5,5,5,5,5,5,5,5,5,5,5,5\\r\\nAmelia izati,Perempuan,17-21 tahun,Mahasiswi,1-5 kali,Ya,2-6 bulan,iOS,5,5,5,4,5,5,5,5,5,5,5,5,5,5,5,5,5,5,5\\r\\nMalika Bestari,Perempuan,22-26 tahun,Aktris,> 15 kali,Tidak,Belum Pernah,iOS,3,3,3,3,3,3,3,3,3,3,1,3,1,1,1,1,1,1,1\\r\\nKarmelia,Perempuan,17-21 tahun,Mahasiswi,6-10 kali,Ya,< 2 bulan,Android,5,5,5,4,5,4,5,5,5,5,5,5,5,5,5,4,5,4,5\\r\\nDio Kevin ,Laki-laki,22-26 tahun,Mahasiswa,> 15 kali,Tidak,Belum Pernah,iOS,3,3,3,3,3,3,3,3,3,3,1,3,1,1,1,1,1,1,1\\r\\nSochib,Laki-laki,> 31 tahun,Ahli jembatan,11-15 kali,Tidak,Belum Pernah,Android,4,2,3,3,4,4,4,4,2,4,4,4,4,4,4,4,4,4,4\\r\\nSyatin Hujan,Perempuan,22-26 tahun,Mahasiswi,1-5 kali,Ya,< 2 bulan,Android,5,4,5,5,5,4,4,4,2,5,4,5,5,4,5,4,4,5,4\\r\\nHanif Anzalie,Laki-laki,22-26 tahun,PNS,> 15 kali,Tidak,Belum Pernah,Android,3,3,3,3,3,3,3,3,3,3,3,3,1,3,1,1,1,1,1\\r\\nRafa Ghaisan,Laki-laki,< 17 tahun,Siswa,1-5 kali,Ya,< 2 bulan,Android,4,4,5,5,5,5,5,4,2,4,5,3,4,5,5,3,4,5,5\\r\\nTito Prakasa,Laki-laki,27-31 tahun,Software Engineer,> 15 kali,Ya,< 2 bulan,iOS,4,4,4,4,4,4,4,4,4,4,4,4,4,4,4,1,5,1,1\\r\\nMaharani Permata Putri,Perempuan,22-26 tahun,Business Marketing,> 15 kali,Tidak,Belum Pernah,iOS,3,3,3,3,3,3,3,3,3,3,3,1,1,1,1,1,1,1,1\\r\\nNazela Ardiani,Perempuan,22-26 tahun,Digital Marketing,> 15 kali,Tidak,Belum Pernah,iOS,3,3,3,3,3,3,3,3,3,3,3,1,1,1,1,1,1,3,1\\r\\nSiltan alfariz,Laki-laki,22-26 tahun,Mahasiswa,> 15 kali,Ya,1-2 tahun,iOS,4,3,3,3,3,4,4,4,4,4,4,4,4,3,5,4,4,4,4\\r\\nMuchammad Yusuf Bachtiar,Laki-laki,22-26 tahun,Teknisi,6-10 kali,Tidak,Belum Pernah,Android,4,4,4,2,4,4,4,4,4,4,4,4,4,4,4,3,3,3,3\\r\\nDanis wara,Laki-laki,22-26 tahun,Karyawan,11-15 kali,Tidak,Belum Pernah,Android,3,3,3,3,3,3,3,3,3,3,3,4,3,3,3,3,3,3,3\\r\\nFaruq Lazuardi,Laki-laki,> 31 tahun,Wiraswasta,1-5 kali,Tidak,Belum Pernah,iOS,3,4,3,4,3,4,3,3,4,4,3,3,3,4,3,3,3,3,3\\r\\nChimi,Laki-laki,17-21 tahun,Tidak bekerja,Hampir tidak pernah,Tidak,Belum Pernah,iOS,3,3,3,3,3,3,3,3,3,3,3,3,3,3,3,3,3,3,3\\r\\nDanantya Irfanti,Perempuan,22-26 tahun,Analis,> 15 kali,Tidak,Belum Pernah,iOS,3,3,3,3,3,3,3,3,3,3,3,3,2,2,2,1,1,3,3\\r\\nRenal,Laki-laki,22-26 tahun,Programmer,> 15 kali,Ya,> 2 tahun,Android,3,4,3,3,3,4,3,3,3,3,4,4,3,3,3,3,3,3,3\\r\\nMaura Wilona,Perempuan,22-26 tahun,Fresh Graduate,> 15 kali,Tidak,Belum Pernah,iOS,3,3,3,3,3,3,3,3,3,3,3,3,1,1,1,1,1,3,3\\r\\nTasya Amira Aditya,Perempuan,22-26 tahun,Arsitek,11-15 kali,Tidak,Belum Pernah,iOS,3,3,3,3,3,3,3,3,3,3,2,2,1,2,2,1,1,3,3\\r\\nGale,Laki-laki,22-26 tahun,Programmer,> 15 kali,Tidak,Belum Pernah,iOS,3,3,3,3,3,3,3,3,3,3,3,3,3,3,3,3,3,3,3\\r\\nAzizah Katili,Perempuan,22-26 tahun,Fresh Graduate,11-15 kali,Tidak,Belum Pernah,iOS,3,3,3,3,3,3,3,3,3,3,2,2,1,2,2,1,1,3,3\\r\\nAsmara Bunga Asmoeni,Perempuan,22-26 tahun,Data analis,> 15 kali,Tidak,Belum Pernah,iOS,3,3,3,3,3,3,3,3,3,3,3,3,2,2,1,1,1,3,3\\r\\nFransisca Regina,Perempuan,22-26 tahun,Law Firm,11-15 kali,Tidak,Belum Pernah,iOS,3,3,3,3,3,3,3,3,3,3,1,1,1,1,1,1,1,1,1\\r\\nRiski,Laki-laki,22-26 tahun,Sales,6-10 kali,Ya,Belum Pernah,iOS,3,4,3,3,3,3,3,3,3,3,3,3,3,3,3,3,3,3,3\\r\\nShalvya Inge Indira,Perempuan,22-26 tahun,PNS,11-15 kali,Tidak,Belum Pernah,iOS,3,3,3,3,3,3,3,3,3,3,3,3,1,1,1,1,1,3,3\\r\\nReghia Regina,Perempuan,22-26 tahun,Fresh Graduate,Hampir tidak pernah,Tidak,Belum Pernah,iOS,3,3,3,3,3,3,3,3,3,3,3,3,2,3,2,1,1,3,3\\r\\nAhmad syifa,Laki-laki,22-26 tahun,Sipir,11-15 kali,Tidak,Belum Pernah,Android,3,3,3,3,3,3,3,3,3,3,3,3,3,3,3,3,3,3,3\\r\\nSarah Disara,Perempuan,22-26 tahun,PNS,11-15 kali,Tidak,Belum Pernah,iOS,3,3,3,3,3,3,3,3,3,3,3,3,3,3,3,1,1,3,3\\r\\nRindhi Nisrina,Perempuan,22-26 tahun,Software Engineer,> 15 kali,Ya,Belum Pernah,iOS,3,3,3,3,3,3,3,3,3,3,3,3,3,3,3,1,1,3,3\\r\\nBima Reza Yudha,Laki-laki,22-26 tahun,Mahasiswa,> 15 kali,Tidak,Belum Pernah,iOS,3,3,3,3,3,3,3,3,3,3,3,3,1,1,1,1,1,3,3\\r\\nSultan Saladdin,Laki-laki,22-26 tahun,Software Engineer,> 15 kali,Tidak,Belum Pernah,iOS,3,3,3,3,3,3,3,3,3,3,3,3,1,1,1,1,1,3,3\\r\\n'}"
            ]
          },
          "metadata": {
            "tags": []
          },
          "execution_count": 4
        }
      ]
    },
    {
      "cell_type": "markdown",
      "metadata": {
        "id": "ZLTXznw9x43e"
      },
      "source": [
        "Menampilkan Data"
      ]
    },
    {
      "cell_type": "code",
      "metadata": {
        "id": "2LrsDjN6x5uD"
      },
      "source": [
        "df= pd.read_csv(\"kp.csv\")"
      ],
      "execution_count": null,
      "outputs": []
    },
    {
      "cell_type": "code",
      "metadata": {
        "colab": {
          "base_uri": "https://localhost:8080/",
          "height": 479
        },
        "id": "rbpU0LaLAJt3",
        "outputId": "e76a15ae-b198-4530-f0be-7a2bfd77b0b2"
      },
      "source": [
        "df.head()"
      ],
      "execution_count": null,
      "outputs": [
        {
          "output_type": "execute_result",
          "data": {
            "text/html": [
              "<div>\n",
              "<style scoped>\n",
              "    .dataframe tbody tr th:only-of-type {\n",
              "        vertical-align: middle;\n",
              "    }\n",
              "\n",
              "    .dataframe tbody tr th {\n",
              "        vertical-align: top;\n",
              "    }\n",
              "\n",
              "    .dataframe thead th {\n",
              "        text-align: right;\n",
              "    }\n",
              "</style>\n",
              "<table border=\"1\" class=\"dataframe\">\n",
              "  <thead>\n",
              "    <tr style=\"text-align: right;\">\n",
              "      <th></th>\n",
              "      <th>Nama</th>\n",
              "      <th>Jenis Kelamin</th>\n",
              "      <th>Rentang Usia</th>\n",
              "      <th>Pekerjaan</th>\n",
              "      <th>Berapa kali anda menggunakan Search Engine dalam kurun waktu 1 hari? (Google, Bing, Yahoo, dsb)</th>\n",
              "      <th>Apakah anda mengetahui atau menggunakan Search Engine DuckDuckGo?</th>\n",
              "      <th>Sudah berapa lamakah anda mengetahui atau menggunakan DuckDuckGo?</th>\n",
              "      <th>Apakah jenis OS dari smartphone yang anda gunakan?</th>\n",
              "      <th>PE1</th>\n",
              "      <th>PE2</th>\n",
              "      <th>PE3</th>\n",
              "      <th>PE4</th>\n",
              "      <th>PE5</th>\n",
              "      <th>EE1</th>\n",
              "      <th>EE2</th>\n",
              "      <th>EE3</th>\n",
              "      <th>EE4</th>\n",
              "      <th>EE5</th>\n",
              "      <th>SI1</th>\n",
              "      <th>SI2</th>\n",
              "      <th>SI3</th>\n",
              "      <th>SI4</th>\n",
              "      <th>SI5</th>\n",
              "      <th>FC1</th>\n",
              "      <th>FC2</th>\n",
              "      <th>FC3</th>\n",
              "      <th>FC4</th>\n",
              "    </tr>\n",
              "  </thead>\n",
              "  <tbody>\n",
              "    <tr>\n",
              "      <th>0</th>\n",
              "      <td>Muhammad</td>\n",
              "      <td>Laki-laki</td>\n",
              "      <td>22-26 tahun</td>\n",
              "      <td>Mahasiswa</td>\n",
              "      <td>11-15 kali</td>\n",
              "      <td>Tidak</td>\n",
              "      <td>1-2 tahun</td>\n",
              "      <td>Android</td>\n",
              "      <td>3</td>\n",
              "      <td>3</td>\n",
              "      <td>3</td>\n",
              "      <td>3</td>\n",
              "      <td>3</td>\n",
              "      <td>4</td>\n",
              "      <td>4</td>\n",
              "      <td>5</td>\n",
              "      <td>3</td>\n",
              "      <td>3</td>\n",
              "      <td>4</td>\n",
              "      <td>3</td>\n",
              "      <td>3</td>\n",
              "      <td>4</td>\n",
              "      <td>4</td>\n",
              "      <td>1</td>\n",
              "      <td>1</td>\n",
              "      <td>1</td>\n",
              "      <td>1</td>\n",
              "    </tr>\n",
              "    <tr>\n",
              "      <th>1</th>\n",
              "      <td>Biyar</td>\n",
              "      <td>Laki-laki</td>\n",
              "      <td>22-26 tahun</td>\n",
              "      <td>Karyawan Swasta</td>\n",
              "      <td>&gt; 15 kali</td>\n",
              "      <td>Ya</td>\n",
              "      <td>Belum Pernah</td>\n",
              "      <td>Android</td>\n",
              "      <td>4</td>\n",
              "      <td>4</td>\n",
              "      <td>4</td>\n",
              "      <td>4</td>\n",
              "      <td>4</td>\n",
              "      <td>3</td>\n",
              "      <td>4</td>\n",
              "      <td>5</td>\n",
              "      <td>4</td>\n",
              "      <td>5</td>\n",
              "      <td>5</td>\n",
              "      <td>4</td>\n",
              "      <td>4</td>\n",
              "      <td>3</td>\n",
              "      <td>5</td>\n",
              "      <td>2</td>\n",
              "      <td>4</td>\n",
              "      <td>5</td>\n",
              "      <td>5</td>\n",
              "    </tr>\n",
              "    <tr>\n",
              "      <th>2</th>\n",
              "      <td>latina girl</td>\n",
              "      <td>Perempuan</td>\n",
              "      <td>17-21 tahun</td>\n",
              "      <td>mahasiswi</td>\n",
              "      <td>1-5 kali</td>\n",
              "      <td>Tidak</td>\n",
              "      <td>Belum Pernah</td>\n",
              "      <td>Android</td>\n",
              "      <td>5</td>\n",
              "      <td>5</td>\n",
              "      <td>5</td>\n",
              "      <td>5</td>\n",
              "      <td>5</td>\n",
              "      <td>5</td>\n",
              "      <td>5</td>\n",
              "      <td>5</td>\n",
              "      <td>5</td>\n",
              "      <td>5</td>\n",
              "      <td>5</td>\n",
              "      <td>5</td>\n",
              "      <td>5</td>\n",
              "      <td>5</td>\n",
              "      <td>5</td>\n",
              "      <td>5</td>\n",
              "      <td>5</td>\n",
              "      <td>3</td>\n",
              "      <td>5</td>\n",
              "    </tr>\n",
              "    <tr>\n",
              "      <th>3</th>\n",
              "      <td>Jalu Dwi Purwandana</td>\n",
              "      <td>Laki-laki</td>\n",
              "      <td>27-31 tahun</td>\n",
              "      <td>CPNS</td>\n",
              "      <td>&gt; 15 kali</td>\n",
              "      <td>Ya</td>\n",
              "      <td>&gt; 2 tahun</td>\n",
              "      <td>Android</td>\n",
              "      <td>4</td>\n",
              "      <td>3</td>\n",
              "      <td>3</td>\n",
              "      <td>2</td>\n",
              "      <td>5</td>\n",
              "      <td>5</td>\n",
              "      <td>3</td>\n",
              "      <td>5</td>\n",
              "      <td>3</td>\n",
              "      <td>4</td>\n",
              "      <td>4</td>\n",
              "      <td>3</td>\n",
              "      <td>1</td>\n",
              "      <td>2</td>\n",
              "      <td>2</td>\n",
              "      <td>5</td>\n",
              "      <td>3</td>\n",
              "      <td>1</td>\n",
              "      <td>1</td>\n",
              "    </tr>\n",
              "    <tr>\n",
              "      <th>4</th>\n",
              "      <td>Galih</td>\n",
              "      <td>Laki-laki</td>\n",
              "      <td>22-26 tahun</td>\n",
              "      <td>Mahasiswa</td>\n",
              "      <td>1-5 kali</td>\n",
              "      <td>Tidak</td>\n",
              "      <td>Belum Pernah</td>\n",
              "      <td>Android</td>\n",
              "      <td>4</td>\n",
              "      <td>4</td>\n",
              "      <td>4</td>\n",
              "      <td>4</td>\n",
              "      <td>3</td>\n",
              "      <td>5</td>\n",
              "      <td>5</td>\n",
              "      <td>4</td>\n",
              "      <td>4</td>\n",
              "      <td>4</td>\n",
              "      <td>4</td>\n",
              "      <td>4</td>\n",
              "      <td>3</td>\n",
              "      <td>4</td>\n",
              "      <td>3</td>\n",
              "      <td>4</td>\n",
              "      <td>4</td>\n",
              "      <td>4</td>\n",
              "      <td>4</td>\n",
              "    </tr>\n",
              "  </tbody>\n",
              "</table>\n",
              "</div>"
            ],
            "text/plain": [
              "                  Nama Jenis Kelamin Rentang Usia  ... FC2 FC3 FC4\n",
              "0             Muhammad     Laki-laki  22-26 tahun  ...   1   1   1\n",
              "1                Biyar     Laki-laki  22-26 tahun  ...   4   5   5\n",
              "2          latina girl     Perempuan  17-21 tahun  ...   5   3   5\n",
              "3  Jalu Dwi Purwandana     Laki-laki  27-31 tahun  ...   3   1   1\n",
              "4                Galih     Laki-laki  22-26 tahun  ...   4   4   4\n",
              "\n",
              "[5 rows x 27 columns]"
            ]
          },
          "metadata": {
            "tags": []
          },
          "execution_count": 6
        }
      ]
    },
    {
      "cell_type": "code",
      "metadata": {
        "colab": {
          "base_uri": "https://localhost:8080/"
        },
        "id": "2SgjkCfyANAr",
        "outputId": "672e835e-e1b1-48a6-b025-0c3bb7d0dd26"
      },
      "source": [
        "df.columns"
      ],
      "execution_count": null,
      "outputs": [
        {
          "output_type": "execute_result",
          "data": {
            "text/plain": [
              "Index(['Nama', 'Jenis Kelamin', 'Rentang Usia', 'Pekerjaan',\n",
              "       'Berapa kali anda menggunakan Search Engine dalam kurun waktu 1 hari? (Google, Bing, Yahoo, dsb)',\n",
              "       'Apakah anda mengetahui atau menggunakan Search Engine DuckDuckGo?',\n",
              "       'Sudah berapa lamakah anda mengetahui atau menggunakan DuckDuckGo?',\n",
              "       'Apakah jenis OS dari smartphone yang anda gunakan?', 'PE1', 'PE2',\n",
              "       'PE3', 'PE4', 'PE5', 'EE1', 'EE2', 'EE3', 'EE4', 'EE5', 'SI1', 'SI2',\n",
              "       'SI3', 'SI4', 'SI5', 'FC1', 'FC2', 'FC3', 'FC4'],\n",
              "      dtype='object')"
            ]
          },
          "metadata": {
            "tags": []
          },
          "execution_count": 7
        }
      ]
    },
    {
      "cell_type": "markdown",
      "metadata": {
        "id": "MW3ks0P4AarQ"
      },
      "source": [
        "Melakukan drop kolom yang tidak dipakai"
      ]
    },
    {
      "cell_type": "code",
      "metadata": {
        "id": "pdnPB31OAe9m"
      },
      "source": [
        "df.drop(['Nama', 'Jenis Kelamin','Rentang Usia','Pekerjaan','Berapa kali anda menggunakan Search Engine dalam kurun waktu 1 hari? (Google, Bing, Yahoo, dsb)','Apakah anda mengetahui atau menggunakan Search Engine DuckDuckGo?','Sudah berapa lamakah anda mengetahui atau menggunakan DuckDuckGo?','Apakah jenis OS dari smartphone yang anda gunakan?'],axis=1,inplace=True)"
      ],
      "execution_count": null,
      "outputs": []
    },
    {
      "cell_type": "code",
      "metadata": {
        "colab": {
          "base_uri": "https://localhost:8080/"
        },
        "id": "ddXl50eOA5h-",
        "outputId": "16e58cb4-cd6d-461f-b27e-2f3b4412e8f5"
      },
      "source": [
        "df.columns"
      ],
      "execution_count": null,
      "outputs": [
        {
          "output_type": "execute_result",
          "data": {
            "text/plain": [
              "Index(['PE1', 'PE2', 'PE3', 'PE4', 'PE5', 'EE1', 'EE2', 'EE3', 'EE4', 'EE5',\n",
              "       'SI1', 'SI2', 'SI3', 'SI4', 'SI5', 'FC1', 'FC2', 'FC3', 'FC4'],\n",
              "      dtype='object')"
            ]
          },
          "metadata": {
            "tags": []
          },
          "execution_count": 9
        }
      ]
    },
    {
      "cell_type": "code",
      "metadata": {
        "id": "rx6O2OJVA7U_"
      },
      "source": [
        "df.dropna(inplace=True)"
      ],
      "execution_count": null,
      "outputs": []
    },
    {
      "cell_type": "code",
      "metadata": {
        "colab": {
          "base_uri": "https://localhost:8080/"
        },
        "id": "mMVYuy5qA9Mp",
        "outputId": "8fe8c177-7a7c-4bf3-b33e-a9d0f0a45f2c"
      },
      "source": [
        "df.info()"
      ],
      "execution_count": null,
      "outputs": [
        {
          "output_type": "stream",
          "text": [
            "<class 'pandas.core.frame.DataFrame'>\n",
            "Int64Index: 208 entries, 0 to 207\n",
            "Data columns (total 19 columns):\n",
            " #   Column  Non-Null Count  Dtype\n",
            "---  ------  --------------  -----\n",
            " 0   PE1     208 non-null    int64\n",
            " 1   PE2     208 non-null    int64\n",
            " 2   PE3     208 non-null    int64\n",
            " 3   PE4     208 non-null    int64\n",
            " 4   PE5     208 non-null    int64\n",
            " 5   EE1     208 non-null    int64\n",
            " 6   EE2     208 non-null    int64\n",
            " 7   EE3     208 non-null    int64\n",
            " 8   EE4     208 non-null    int64\n",
            " 9   EE5     208 non-null    int64\n",
            " 10  SI1     208 non-null    int64\n",
            " 11  SI2     208 non-null    int64\n",
            " 12  SI3     208 non-null    int64\n",
            " 13  SI4     208 non-null    int64\n",
            " 14  SI5     208 non-null    int64\n",
            " 15  FC1     208 non-null    int64\n",
            " 16  FC2     208 non-null    int64\n",
            " 17  FC3     208 non-null    int64\n",
            " 18  FC4     208 non-null    int64\n",
            "dtypes: int64(19)\n",
            "memory usage: 32.5 KB\n"
          ],
          "name": "stdout"
        }
      ]
    },
    {
      "cell_type": "code",
      "metadata": {
        "colab": {
          "base_uri": "https://localhost:8080/"
        },
        "id": "2hqiAtyEA_03",
        "outputId": "52be6286-331f-4f8e-ad66-4d0ca2da27c0"
      },
      "source": [
        "from factor_analyzer.factor_analyzer import calculate_bartlett_sphericity\n",
        "chi_square_value,p_value=calculate_bartlett_sphericity(df)\n",
        "chi_square_value, p_value"
      ],
      "execution_count": null,
      "outputs": [
        {
          "output_type": "execute_result",
          "data": {
            "text/plain": [
              "(3553.7941521350344, 0.0)"
            ]
          },
          "metadata": {
            "tags": []
          },
          "execution_count": 12
        }
      ]
    },
    {
      "cell_type": "code",
      "metadata": {
        "id": "1699rxU5BBcz"
      },
      "source": [
        "from factor_analyzer.factor_analyzer import calculate_kmo\n",
        "kmo_all,kmo_model=calculate_kmo(df)"
      ],
      "execution_count": null,
      "outputs": []
    },
    {
      "cell_type": "code",
      "metadata": {
        "colab": {
          "base_uri": "https://localhost:8080/"
        },
        "id": "Cc7y3TwrBDTv",
        "outputId": "67465e66-4743-4597-a7ed-6fd6ace8eeba"
      },
      "source": [
        "kmo_model"
      ],
      "execution_count": null,
      "outputs": [
        {
          "output_type": "execute_result",
          "data": {
            "text/plain": [
              "0.9497218071048974"
            ]
          },
          "metadata": {
            "tags": []
          },
          "execution_count": 14
        }
      ]
    },
    {
      "cell_type": "code",
      "metadata": {
        "colab": {
          "base_uri": "https://localhost:8080/",
          "height": 638
        },
        "id": "pz3qW0zrBFKd",
        "outputId": "9eae8c9c-f5d3-417a-c144-8a43cd769767"
      },
      "source": [
        "fa = FactorAnalyzer()\n",
        "fa.analyze(df, 19, rotation=None)\n",
        "#Check Eigenvalues\n",
        "ev, v = fa.get_eigenvalues()\n",
        "ev"
      ],
      "execution_count": null,
      "outputs": [
        {
          "output_type": "execute_result",
          "data": {
            "text/html": [
              "<div>\n",
              "<style scoped>\n",
              "    .dataframe tbody tr th:only-of-type {\n",
              "        vertical-align: middle;\n",
              "    }\n",
              "\n",
              "    .dataframe tbody tr th {\n",
              "        vertical-align: top;\n",
              "    }\n",
              "\n",
              "    .dataframe thead th {\n",
              "        text-align: right;\n",
              "    }\n",
              "</style>\n",
              "<table border=\"1\" class=\"dataframe\">\n",
              "  <thead>\n",
              "    <tr style=\"text-align: right;\">\n",
              "      <th></th>\n",
              "      <th>Original_Eigenvalues</th>\n",
              "    </tr>\n",
              "  </thead>\n",
              "  <tbody>\n",
              "    <tr>\n",
              "      <th>0</th>\n",
              "      <td>11.470655</td>\n",
              "    </tr>\n",
              "    <tr>\n",
              "      <th>1</th>\n",
              "      <td>1.664537</td>\n",
              "    </tr>\n",
              "    <tr>\n",
              "      <th>2</th>\n",
              "      <td>0.755053</td>\n",
              "    </tr>\n",
              "    <tr>\n",
              "      <th>3</th>\n",
              "      <td>0.635567</td>\n",
              "    </tr>\n",
              "    <tr>\n",
              "      <th>4</th>\n",
              "      <td>0.575663</td>\n",
              "    </tr>\n",
              "    <tr>\n",
              "      <th>5</th>\n",
              "      <td>0.476509</td>\n",
              "    </tr>\n",
              "    <tr>\n",
              "      <th>6</th>\n",
              "      <td>0.437016</td>\n",
              "    </tr>\n",
              "    <tr>\n",
              "      <th>7</th>\n",
              "      <td>0.427064</td>\n",
              "    </tr>\n",
              "    <tr>\n",
              "      <th>8</th>\n",
              "      <td>0.375943</td>\n",
              "    </tr>\n",
              "    <tr>\n",
              "      <th>9</th>\n",
              "      <td>0.347616</td>\n",
              "    </tr>\n",
              "    <tr>\n",
              "      <th>10</th>\n",
              "      <td>0.315289</td>\n",
              "    </tr>\n",
              "    <tr>\n",
              "      <th>11</th>\n",
              "      <td>0.300742</td>\n",
              "    </tr>\n",
              "    <tr>\n",
              "      <th>12</th>\n",
              "      <td>0.263858</td>\n",
              "    </tr>\n",
              "    <tr>\n",
              "      <th>13</th>\n",
              "      <td>0.221937</td>\n",
              "    </tr>\n",
              "    <tr>\n",
              "      <th>14</th>\n",
              "      <td>0.208178</td>\n",
              "    </tr>\n",
              "    <tr>\n",
              "      <th>15</th>\n",
              "      <td>0.177218</td>\n",
              "    </tr>\n",
              "    <tr>\n",
              "      <th>16</th>\n",
              "      <td>0.136865</td>\n",
              "    </tr>\n",
              "    <tr>\n",
              "      <th>17</th>\n",
              "      <td>0.112595</td>\n",
              "    </tr>\n",
              "    <tr>\n",
              "      <th>18</th>\n",
              "      <td>0.097694</td>\n",
              "    </tr>\n",
              "  </tbody>\n",
              "</table>\n",
              "</div>"
            ],
            "text/plain": [
              "    Original_Eigenvalues\n",
              "0              11.470655\n",
              "1               1.664537\n",
              "2               0.755053\n",
              "3               0.635567\n",
              "4               0.575663\n",
              "5               0.476509\n",
              "6               0.437016\n",
              "7               0.427064\n",
              "8               0.375943\n",
              "9               0.347616\n",
              "10              0.315289\n",
              "11              0.300742\n",
              "12              0.263858\n",
              "13              0.221937\n",
              "14              0.208178\n",
              "15              0.177218\n",
              "16              0.136865\n",
              "17              0.112595\n",
              "18              0.097694"
            ]
          },
          "metadata": {
            "tags": []
          },
          "execution_count": 15
        }
      ]
    },
    {
      "cell_type": "code",
      "metadata": {
        "colab": {
          "base_uri": "https://localhost:8080/",
          "height": 295
        },
        "id": "_F86TPgZBG1Z",
        "outputId": "04cf7272-e160-4246-a5bb-12e36e1b63a8"
      },
      "source": [
        "plt.scatter(range(1,df.shape[1]+1),ev)\n",
        "plt.plot(range(1,df.shape[1]+1),ev)\n",
        "plt.title('Scree Plot')\n",
        "plt.xlabel('Factors')\n",
        "plt.ylabel('Eigenvalues')\n",
        "plt.grid()\n",
        "plt.show()"
      ],
      "execution_count": null,
      "outputs": [
        {
          "output_type": "display_data",
          "data": {
            "image/png": "[encoded data removed]",
            "text/plain": [
              "<Figure size 432x288 with 1 Axes>"
            ]
          },
          "metadata": {
            "tags": [],
            "needs_background": "light"
          }
        }
      ]
    },
    {
      "cell_type": "code",
      "metadata": {
        "colab": {
          "base_uri": "https://localhost:8080/",
          "height": 638
        },
        "id": "fImzY3odBIuH",
        "outputId": "0aca13e0-9678-4e61-bcbf-c1921ffbd850"
      },
      "source": [
        "fa = FactorAnalyzer()\n",
        "fa.analyze(df, 6, rotation=\"varimax\")\n",
        "fa.loadings"
      ],
      "execution_count": null,
      "outputs": [
        {
          "output_type": "execute_result",
          "data": {
            "text/html": [
              "<div>\n",
              "<style scoped>\n",
              "    .dataframe tbody tr th:only-of-type {\n",
              "        vertical-align: middle;\n",
              "    }\n",
              "\n",
              "    .dataframe tbody tr th {\n",
              "        vertical-align: top;\n",
              "    }\n",
              "\n",
              "    .dataframe thead th {\n",
              "        text-align: right;\n",
              "    }\n",
              "</style>\n",
              "<table border=\"1\" class=\"dataframe\">\n",
              "  <thead>\n",
              "    <tr style=\"text-align: right;\">\n",
              "      <th></th>\n",
              "      <th>Factor1</th>\n",
              "      <th>Factor2</th>\n",
              "      <th>Factor3</th>\n",
              "      <th>Factor4</th>\n",
              "      <th>Factor5</th>\n",
              "      <th>Factor6</th>\n",
              "    </tr>\n",
              "  </thead>\n",
              "  <tbody>\n",
              "    <tr>\n",
              "      <th>PE1</th>\n",
              "      <td>0.604595</td>\n",
              "      <td>0.259278</td>\n",
              "      <td>0.121963</td>\n",
              "      <td>0.467950</td>\n",
              "      <td>0.171279</td>\n",
              "      <td>0.183861</td>\n",
              "    </tr>\n",
              "    <tr>\n",
              "      <th>PE2</th>\n",
              "      <td>0.512456</td>\n",
              "      <td>0.392300</td>\n",
              "      <td>0.182611</td>\n",
              "      <td>0.298192</td>\n",
              "      <td>0.184006</td>\n",
              "      <td>-0.014694</td>\n",
              "    </tr>\n",
              "    <tr>\n",
              "      <th>PE3</th>\n",
              "      <td>0.600045</td>\n",
              "      <td>0.333361</td>\n",
              "      <td>0.263575</td>\n",
              "      <td>0.491339</td>\n",
              "      <td>0.247631</td>\n",
              "      <td>0.054047</td>\n",
              "    </tr>\n",
              "    <tr>\n",
              "      <th>PE4</th>\n",
              "      <td>0.641675</td>\n",
              "      <td>0.211605</td>\n",
              "      <td>0.002278</td>\n",
              "      <td>0.286441</td>\n",
              "      <td>0.232641</td>\n",
              "      <td>0.028389</td>\n",
              "    </tr>\n",
              "    <tr>\n",
              "      <th>PE5</th>\n",
              "      <td>0.646921</td>\n",
              "      <td>0.250889</td>\n",
              "      <td>0.236990</td>\n",
              "      <td>0.208029</td>\n",
              "      <td>0.082785</td>\n",
              "      <td>0.223365</td>\n",
              "    </tr>\n",
              "    <tr>\n",
              "      <th>EE1</th>\n",
              "      <td>0.798616</td>\n",
              "      <td>0.122372</td>\n",
              "      <td>0.083758</td>\n",
              "      <td>0.109003</td>\n",
              "      <td>0.194807</td>\n",
              "      <td>0.009612</td>\n",
              "    </tr>\n",
              "    <tr>\n",
              "      <th>EE2</th>\n",
              "      <td>0.757014</td>\n",
              "      <td>0.303725</td>\n",
              "      <td>0.182310</td>\n",
              "      <td>0.106476</td>\n",
              "      <td>0.231988</td>\n",
              "      <td>0.048570</td>\n",
              "    </tr>\n",
              "    <tr>\n",
              "      <th>EE3</th>\n",
              "      <td>0.756918</td>\n",
              "      <td>0.191244</td>\n",
              "      <td>0.273496</td>\n",
              "      <td>-0.000558</td>\n",
              "      <td>0.175873</td>\n",
              "      <td>0.183953</td>\n",
              "    </tr>\n",
              "    <tr>\n",
              "      <th>EE4</th>\n",
              "      <td>0.366215</td>\n",
              "      <td>0.358446</td>\n",
              "      <td>0.678958</td>\n",
              "      <td>0.117202</td>\n",
              "      <td>0.173853</td>\n",
              "      <td>0.021899</td>\n",
              "    </tr>\n",
              "    <tr>\n",
              "      <th>EE5</th>\n",
              "      <td>0.758778</td>\n",
              "      <td>0.283761</td>\n",
              "      <td>0.202035</td>\n",
              "      <td>0.101909</td>\n",
              "      <td>0.204794</td>\n",
              "      <td>0.153624</td>\n",
              "    </tr>\n",
              "    <tr>\n",
              "      <th>SI1</th>\n",
              "      <td>0.634150</td>\n",
              "      <td>0.251713</td>\n",
              "      <td>0.072368</td>\n",
              "      <td>0.017700</td>\n",
              "      <td>0.329947</td>\n",
              "      <td>0.175792</td>\n",
              "    </tr>\n",
              "    <tr>\n",
              "      <th>SI2</th>\n",
              "      <td>0.413412</td>\n",
              "      <td>0.363181</td>\n",
              "      <td>0.054930</td>\n",
              "      <td>0.152561</td>\n",
              "      <td>0.449732</td>\n",
              "      <td>-0.021008</td>\n",
              "    </tr>\n",
              "    <tr>\n",
              "      <th>SI3</th>\n",
              "      <td>0.336480</td>\n",
              "      <td>0.523678</td>\n",
              "      <td>0.234827</td>\n",
              "      <td>0.141586</td>\n",
              "      <td>0.570045</td>\n",
              "      <td>0.236160</td>\n",
              "    </tr>\n",
              "    <tr>\n",
              "      <th>SI4</th>\n",
              "      <td>0.381831</td>\n",
              "      <td>0.421275</td>\n",
              "      <td>0.146440</td>\n",
              "      <td>0.090759</td>\n",
              "      <td>0.567374</td>\n",
              "      <td>0.115848</td>\n",
              "    </tr>\n",
              "    <tr>\n",
              "      <th>SI5</th>\n",
              "      <td>0.256111</td>\n",
              "      <td>0.634148</td>\n",
              "      <td>0.212033</td>\n",
              "      <td>0.168108</td>\n",
              "      <td>0.529703</td>\n",
              "      <td>0.172328</td>\n",
              "    </tr>\n",
              "    <tr>\n",
              "      <th>FC1</th>\n",
              "      <td>0.389404</td>\n",
              "      <td>0.626441</td>\n",
              "      <td>0.093229</td>\n",
              "      <td>0.150209</td>\n",
              "      <td>0.330309</td>\n",
              "      <td>0.224999</td>\n",
              "    </tr>\n",
              "    <tr>\n",
              "      <th>FC2</th>\n",
              "      <td>0.516195</td>\n",
              "      <td>0.412987</td>\n",
              "      <td>0.020819</td>\n",
              "      <td>0.115917</td>\n",
              "      <td>0.333024</td>\n",
              "      <td>0.551232</td>\n",
              "    </tr>\n",
              "    <tr>\n",
              "      <th>FC3</th>\n",
              "      <td>0.217467</td>\n",
              "      <td>0.870303</td>\n",
              "      <td>0.150982</td>\n",
              "      <td>0.090129</td>\n",
              "      <td>0.185996</td>\n",
              "      <td>0.039441</td>\n",
              "    </tr>\n",
              "    <tr>\n",
              "      <th>FC4</th>\n",
              "      <td>0.219568</td>\n",
              "      <td>0.877621</td>\n",
              "      <td>0.167550</td>\n",
              "      <td>0.112306</td>\n",
              "      <td>0.174356</td>\n",
              "      <td>0.093665</td>\n",
              "    </tr>\n",
              "  </tbody>\n",
              "</table>\n",
              "</div>"
            ],
            "text/plain": [
              "      Factor1   Factor2   Factor3   Factor4   Factor5   Factor6\n",
              "PE1  0.604595  0.259278  0.121963  0.467950  0.171279  0.183861\n",
              "PE2  0.512456  0.392300  0.182611  0.298192  0.184006 -0.014694\n",
              "PE3  0.600045  0.333361  0.263575  0.491339  0.247631  0.054047\n",
              "PE4  0.641675  0.211605  0.002278  0.286441  0.232641  0.028389\n",
              "PE5  0.646921  0.250889  0.236990  0.208029  0.082785  0.223365\n",
              "EE1  0.798616  0.122372  0.083758  0.109003  0.194807  0.009612\n",
              "EE2  0.757014  0.303725  0.182310  0.106476  0.231988  0.048570\n",
              "EE3  0.756918  0.191244  0.273496 -0.000558  0.175873  0.183953\n",
              "EE4  0.366215  0.358446  0.678958  0.117202  0.173853  0.021899\n",
              "EE5  0.758778  0.283761  0.202035  0.101909  0.204794  0.153624\n",
              "SI1  0.634150  0.251713  0.072368  0.017700  0.329947  0.175792\n",
              "SI2  0.413412  0.363181  0.054930  0.152561  0.449732 -0.021008\n",
              "SI3  0.336480  0.523678  0.234827  0.141586  0.570045  0.236160\n",
              "SI4  0.381831  0.421275  0.146440  0.090759  0.567374  0.115848\n",
              "SI5  0.256111  0.634148  0.212033  0.168108  0.529703  0.172328\n",
              "FC1  0.389404  0.626441  0.093229  0.150209  0.330309  0.224999\n",
              "FC2  0.516195  0.412987  0.020819  0.115917  0.333024  0.551232\n",
              "FC3  0.217467  0.870303  0.150982  0.090129  0.185996  0.039441\n",
              "FC4  0.219568  0.877621  0.167550  0.112306  0.174356  0.093665"
            ]
          },
          "metadata": {
            "tags": []
          },
          "execution_count": 17
        }
      ]
    },
    {
      "cell_type": "code",
      "metadata": {
        "colab": {
          "base_uri": "https://localhost:8080/",
          "height": 638
        },
        "id": "P0hTPrz7BYE3",
        "outputId": "cadf96af-e141-48e8-8f83-55e0bbf97734"
      },
      "source": [
        "fa = FactorAnalyzer()\n",
        "fa.analyze(df, 5, rotation=\"promax\")\n",
        "fa.loadings"
      ],
      "execution_count": null,
      "outputs": [
        {
          "output_type": "execute_result",
          "data": {
            "text/html": [
              "<div>\n",
              "<style scoped>\n",
              "    .dataframe tbody tr th:only-of-type {\n",
              "        vertical-align: middle;\n",
              "    }\n",
              "\n",
              "    .dataframe tbody tr th {\n",
              "        vertical-align: top;\n",
              "    }\n",
              "\n",
              "    .dataframe thead th {\n",
              "        text-align: right;\n",
              "    }\n",
              "</style>\n",
              "<table border=\"1\" class=\"dataframe\">\n",
              "  <thead>\n",
              "    <tr style=\"text-align: right;\">\n",
              "      <th></th>\n",
              "      <th>Factor1</th>\n",
              "      <th>Factor2</th>\n",
              "      <th>Factor3</th>\n",
              "      <th>Factor4</th>\n",
              "      <th>Factor5</th>\n",
              "    </tr>\n",
              "  </thead>\n",
              "  <tbody>\n",
              "    <tr>\n",
              "      <th>PE1</th>\n",
              "      <td>0.527951</td>\n",
              "      <td>0.018579</td>\n",
              "      <td>-0.049413</td>\n",
              "      <td>0.007260</td>\n",
              "      <td>0.403697</td>\n",
              "    </tr>\n",
              "    <tr>\n",
              "      <th>PE2</th>\n",
              "      <td>0.342177</td>\n",
              "      <td>0.195663</td>\n",
              "      <td>0.060142</td>\n",
              "      <td>-0.020362</td>\n",
              "      <td>0.328150</td>\n",
              "    </tr>\n",
              "    <tr>\n",
              "      <th>PE3</th>\n",
              "      <td>0.379936</td>\n",
              "      <td>0.003063</td>\n",
              "      <td>0.102007</td>\n",
              "      <td>0.076318</td>\n",
              "      <td>0.523506</td>\n",
              "    </tr>\n",
              "    <tr>\n",
              "      <th>PE4</th>\n",
              "      <td>0.572720</td>\n",
              "      <td>-0.061532</td>\n",
              "      <td>-0.118113</td>\n",
              "      <td>0.062651</td>\n",
              "      <td>0.324646</td>\n",
              "    </tr>\n",
              "    <tr>\n",
              "      <th>PE5</th>\n",
              "      <td>0.717005</td>\n",
              "      <td>0.097614</td>\n",
              "      <td>0.062381</td>\n",
              "      <td>-0.126784</td>\n",
              "      <td>0.102697</td>\n",
              "    </tr>\n",
              "    <tr>\n",
              "      <th>EE1</th>\n",
              "      <td>0.859969</td>\n",
              "      <td>-0.161743</td>\n",
              "      <td>-0.011994</td>\n",
              "      <td>-0.023950</td>\n",
              "      <td>0.119642</td>\n",
              "    </tr>\n",
              "    <tr>\n",
              "      <th>EE2</th>\n",
              "      <td>0.756034</td>\n",
              "      <td>0.053977</td>\n",
              "      <td>0.047017</td>\n",
              "      <td>0.011692</td>\n",
              "      <td>0.069521</td>\n",
              "    </tr>\n",
              "    <tr>\n",
              "      <th>EE3</th>\n",
              "      <td>0.894127</td>\n",
              "      <td>-0.035765</td>\n",
              "      <td>0.127277</td>\n",
              "      <td>-0.006620</td>\n",
              "      <td>-0.127934</td>\n",
              "    </tr>\n",
              "    <tr>\n",
              "      <th>EE4</th>\n",
              "      <td>0.079768</td>\n",
              "      <td>0.013121</td>\n",
              "      <td>0.878247</td>\n",
              "      <td>0.101970</td>\n",
              "      <td>0.045773</td>\n",
              "    </tr>\n",
              "    <tr>\n",
              "      <th>EE5</th>\n",
              "      <td>0.835676</td>\n",
              "      <td>0.072347</td>\n",
              "      <td>0.032459</td>\n",
              "      <td>-0.016123</td>\n",
              "      <td>-0.002830</td>\n",
              "    </tr>\n",
              "    <tr>\n",
              "      <th>SI1</th>\n",
              "      <td>0.640019</td>\n",
              "      <td>-0.023782</td>\n",
              "      <td>-0.054266</td>\n",
              "      <td>0.292955</td>\n",
              "      <td>-0.098189</td>\n",
              "    </tr>\n",
              "    <tr>\n",
              "      <th>SI2</th>\n",
              "      <td>0.147128</td>\n",
              "      <td>0.041877</td>\n",
              "      <td>-0.023944</td>\n",
              "      <td>0.463411</td>\n",
              "      <td>0.148020</td>\n",
              "    </tr>\n",
              "    <tr>\n",
              "      <th>SI3</th>\n",
              "      <td>-0.025562</td>\n",
              "      <td>0.141548</td>\n",
              "      <td>0.088645</td>\n",
              "      <td>0.783696</td>\n",
              "      <td>-0.005126</td>\n",
              "    </tr>\n",
              "    <tr>\n",
              "      <th>SI4</th>\n",
              "      <td>0.053297</td>\n",
              "      <td>0.017375</td>\n",
              "      <td>0.046033</td>\n",
              "      <td>0.740463</td>\n",
              "      <td>0.015014</td>\n",
              "    </tr>\n",
              "    <tr>\n",
              "      <th>SI5</th>\n",
              "      <td>-0.159965</td>\n",
              "      <td>0.335258</td>\n",
              "      <td>0.064769</td>\n",
              "      <td>0.692712</td>\n",
              "      <td>0.048730</td>\n",
              "    </tr>\n",
              "    <tr>\n",
              "      <th>FC1</th>\n",
              "      <td>0.177425</td>\n",
              "      <td>0.493358</td>\n",
              "      <td>-0.060697</td>\n",
              "      <td>0.295606</td>\n",
              "      <td>0.010899</td>\n",
              "    </tr>\n",
              "    <tr>\n",
              "      <th>FC2</th>\n",
              "      <td>0.470515</td>\n",
              "      <td>0.207552</td>\n",
              "      <td>-0.129451</td>\n",
              "      <td>0.379151</td>\n",
              "      <td>-0.095913</td>\n",
              "    </tr>\n",
              "    <tr>\n",
              "      <th>FC3</th>\n",
              "      <td>-0.055752</td>\n",
              "      <td>0.950646</td>\n",
              "      <td>0.002470</td>\n",
              "      <td>-0.003165</td>\n",
              "      <td>0.005527</td>\n",
              "    </tr>\n",
              "    <tr>\n",
              "      <th>FC4</th>\n",
              "      <td>-0.031855</td>\n",
              "      <td>1.019784</td>\n",
              "      <td>0.001230</td>\n",
              "      <td>-0.055513</td>\n",
              "      <td>-0.008070</td>\n",
              "    </tr>\n",
              "  </tbody>\n",
              "</table>\n",
              "</div>"
            ],
            "text/plain": [
              "      Factor1   Factor2   Factor3   Factor4   Factor5\n",
              "PE1  0.527951  0.018579 -0.049413  0.007260  0.403697\n",
              "PE2  0.342177  0.195663  0.060142 -0.020362  0.328150\n",
              "PE3  0.379936  0.003063  0.102007  0.076318  0.523506\n",
              "PE4  0.572720 -0.061532 -0.118113  0.062651  0.324646\n",
              "PE5  0.717005  0.097614  0.062381 -0.126784  0.102697\n",
              "EE1  0.859969 -0.161743 -0.011994 -0.023950  0.119642\n",
              "EE2  0.756034  0.053977  0.047017  0.011692  0.069521\n",
              "EE3  0.894127 -0.035765  0.127277 -0.006620 -0.127934\n",
              "EE4  0.079768  0.013121  0.878247  0.101970  0.045773\n",
              "EE5  0.835676  0.072347  0.032459 -0.016123 -0.002830\n",
              "SI1  0.640019 -0.023782 -0.054266  0.292955 -0.098189\n",
              "SI2  0.147128  0.041877 -0.023944  0.463411  0.148020\n",
              "SI3 -0.025562  0.141548  0.088645  0.783696 -0.005126\n",
              "SI4  0.053297  0.017375  0.046033  0.740463  0.015014\n",
              "SI5 -0.159965  0.335258  0.064769  0.692712  0.048730\n",
              "FC1  0.177425  0.493358 -0.060697  0.295606  0.010899\n",
              "FC2  0.470515  0.207552 -0.129451  0.379151 -0.095913\n",
              "FC3 -0.055752  0.950646  0.002470 -0.003165  0.005527\n",
              "FC4 -0.031855  1.019784  0.001230 -0.055513 -0.008070"
            ]
          },
          "metadata": {
            "tags": []
          },
          "execution_count": 18
        }
      ]
    },
    {
      "cell_type": "code",
      "metadata": {
        "colab": {
          "base_uri": "https://localhost:8080/",
          "height": 142
        },
        "id": "R92GEXrjBZ1L",
        "outputId": "2c4bb8a9-c163-4839-bc93-c2e5f93201c0"
      },
      "source": [
        "fa.get_factor_variance()"
      ],
      "execution_count": null,
      "outputs": [
        {
          "output_type": "execute_result",
          "data": {
            "text/html": [
              "<div>\n",
              "<style scoped>\n",
              "    .dataframe tbody tr th:only-of-type {\n",
              "        vertical-align: middle;\n",
              "    }\n",
              "\n",
              "    .dataframe tbody tr th {\n",
              "        vertical-align: top;\n",
              "    }\n",
              "\n",
              "    .dataframe thead th {\n",
              "        text-align: right;\n",
              "    }\n",
              "</style>\n",
              "<table border=\"1\" class=\"dataframe\">\n",
              "  <thead>\n",
              "    <tr style=\"text-align: right;\">\n",
              "      <th></th>\n",
              "      <th>Factor1</th>\n",
              "      <th>Factor2</th>\n",
              "      <th>Factor3</th>\n",
              "      <th>Factor4</th>\n",
              "      <th>Factor5</th>\n",
              "    </tr>\n",
              "  </thead>\n",
              "  <tbody>\n",
              "    <tr>\n",
              "      <th>SS Loadings</th>\n",
              "      <td>4.914927</td>\n",
              "      <td>2.452935</td>\n",
              "      <td>0.863371</td>\n",
              "      <td>2.214820</td>\n",
              "      <td>0.741863</td>\n",
              "    </tr>\n",
              "    <tr>\n",
              "      <th>Proportion Var</th>\n",
              "      <td>0.258680</td>\n",
              "      <td>0.129102</td>\n",
              "      <td>0.045441</td>\n",
              "      <td>0.116569</td>\n",
              "      <td>0.039045</td>\n",
              "    </tr>\n",
              "    <tr>\n",
              "      <th>Cumulative Var</th>\n",
              "      <td>0.258680</td>\n",
              "      <td>0.387782</td>\n",
              "      <td>0.433223</td>\n",
              "      <td>0.549792</td>\n",
              "      <td>0.588838</td>\n",
              "    </tr>\n",
              "  </tbody>\n",
              "</table>\n",
              "</div>"
            ],
            "text/plain": [
              "                 Factor1   Factor2   Factor3   Factor4   Factor5\n",
              "SS Loadings     4.914927  2.452935  0.863371  2.214820  0.741863\n",
              "Proportion Var  0.258680  0.129102  0.045441  0.116569  0.039045\n",
              "Cumulative Var  0.258680  0.387782  0.433223  0.549792  0.588838"
            ]
          },
          "metadata": {
            "tags": []
          },
          "execution_count": 19
        }
      ]
    },
    {
      "cell_type": "markdown",
      "metadata": {
        "id": "urlN7rQABmc1"
      },
      "source": [
        "CR & AVE masing-masing faktor\n"
      ]
    },
    {
      "cell_type": "code",
      "metadata": {
        "colab": {
          "resources": {
            "http://localhost:8080/nbextensions/google.colab/files.js": {
              "data": "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",
              "ok": true,
              "headers": [
                [
                  "content-type",
                  "application/javascript"
                ]
              ],
              "status": 200,
              "status_text": ""
            }
          },
          "base_uri": "https://localhost:8080/",
          "height": 109
        },
        "id": "q0avg_efBn4s",
        "outputId": "7495ea82-cb01-4e9d-ea2b-c37f6e459559"
      },
      "source": [
        "from google.colab import files\n",
        "!rm df.csv\n",
        "files.upload()"
      ],
      "execution_count": null,
      "outputs": [
        {
          "output_type": "display_data",
          "data": {
            "text/html": [
              "\n",
              "     <input type=\"file\" id=\"files-e0d5bb6c-50ed-48e1-b895-1e17e73a1dff\" name=\"files[]\" multiple disabled\n",
              "        style=\"border:none\" />\n",
              "     <output id=\"result-e0d5bb6c-50ed-48e1-b895-1e17e73a1dff\">\n",
              "      Upload widget is only available when the cell has been executed in the\n",
              "      current browser session. Please rerun this cell to enable.\n",
              "      </output>\n",
              "      <script src=\"/nbextensions/google.colab/files.js\"></script> "
            ],
            "text/plain": [
              "<IPython.core.display.HTML object>"
            ]
          },
          "metadata": {
            "tags": []
          }
        },
        {
          "output_type": "stream",
          "text": [
            "Saving df.csv to df.csv\n"
          ],
          "name": "stdout"
        },
        {
          "output_type": "execute_result",
          "data": {
            "text/plain": [
              "{'df.csv': b'PE,EE,SI,FC\\r\\n0.527951,0.859969,0.292955,0.493358\\r\\n0.342177,0.756034,0.463411,0.207552\\r\\n0.379936,0.894127,0.783696,0.950646\\r\\n0.57272,0.079768,0.740463,1.019784\\r\\n0.717005,0.835676,0.692712,NaN\\r\\n'}"
            ]
          },
          "metadata": {
            "tags": []
          },
          "execution_count": 20
        }
      ]
    },
    {
      "cell_type": "code",
      "metadata": {
        "id": "7aK_QvRwDBq7"
      },
      "source": [
        "df1= pd.read_csv(\"df.csv\")"
      ],
      "execution_count": null,
      "outputs": []
    },
    {
      "cell_type": "code",
      "metadata": {
        "colab": {
          "base_uri": "https://localhost:8080/"
        },
        "id": "78UMoHWlDEFO",
        "outputId": "3a505993-0383-466e-8b45-29275a337a88"
      },
      "source": [
        "df1.head"
      ],
      "execution_count": null,
      "outputs": [
        {
          "output_type": "execute_result",
          "data": {
            "text/plain": [
              "<bound method NDFrame.head of          PE        EE        SI        FC\n",
              "0  0.527951  0.859969  0.292955  0.493358\n",
              "1  0.342177  0.756034  0.463411  0.207552\n",
              "2  0.379936  0.894127  0.783696  0.950646\n",
              "3  0.572720  0.079768  0.740463  1.019784\n",
              "4  0.717005  0.835676  0.692712       NaN>"
            ]
          },
          "metadata": {
            "tags": []
          },
          "execution_count": 22
        }
      ]
    },
    {
      "cell_type": "markdown",
      "metadata": {
        "id": "t7GRS9fSDHbg"
      },
      "source": [
        "PE"
      ]
    },
    {
      "cell_type": "code",
      "metadata": {
        "colab": {
          "base_uri": "https://localhost:8080/"
        },
        "id": "s3c4XuLqDIff",
        "outputId": "5b872271-65c2-483f-9760-2a6ffa0bf245"
      },
      "source": [
        "total = 0\n",
        "jumlah = df1.PE.count()\n",
        "error = 0\n",
        "for x in range (jumlah):\n",
        "  has = df1.PE[x]\n",
        "  total += has \n",
        "  result = df1.PE[x]**2\n",
        "  errorvar = 1 - result\n",
        "  error += errorvar\n",
        "  print(has)\n",
        "\n",
        "print(\"sum :\",total)\n",
        "print(\"kuadrat :\",total**2)\n",
        "print(\"error :\", error)\n",
        "print(\"CR PE :\", (total**2)/((total**2)+error))"
      ],
      "execution_count": null,
      "outputs": [
        {
          "output_type": "stream",
          "text": [
            "0.5279510000000001\n",
            "0.342177\n",
            "0.379936\n",
            "0.57272\n",
            "0.717005\n",
            "sum : 2.539789\n",
            "kuadrat : 6.450528164520999\n",
            "error : 3.617726909749\n",
            "CR PE : 0.6406798513682567\n"
          ],
          "name": "stdout"
        }
      ]
    },
    {
      "cell_type": "code",
      "metadata": {
        "colab": {
          "base_uri": "https://localhost:8080/"
        },
        "id": "na51w06uDL2g",
        "outputId": "640d4d9c-040d-4ed3-e4cb-bb6cb17e9624"
      },
      "source": [
        "total = 0\n",
        "jumlah = df1.PE.count()\n",
        "error = 0\n",
        "for x in range (jumlah):\n",
        "  result=df1.PE[x]**2 \n",
        "  errorvar = 1 - result\n",
        "  error += errorvar\n",
        "  total += result \n",
        "\n",
        "print(\"sum :\",total)\n",
        "print(\"error :\", error)\n",
        "print(\"AVE PE :\",total/(total+error))"
      ],
      "execution_count": null,
      "outputs": [
        {
          "output_type": "stream",
          "text": [
            "sum : 1.382273090251\n",
            "error : 3.617726909749\n",
            "AVE PE : 0.2764546180502\n"
          ],
          "name": "stdout"
        }
      ]
    },
    {
      "cell_type": "markdown",
      "metadata": {
        "id": "o3DvZP15DWZ7"
      },
      "source": [
        "EE"
      ]
    },
    {
      "cell_type": "code",
      "metadata": {
        "colab": {
          "base_uri": "https://localhost:8080/"
        },
        "id": "YuSg4rdmDbIh",
        "outputId": "ee8466f9-2888-4fbd-8392-9d9756e0faee"
      },
      "source": [
        "total = 0\n",
        "jumlah = df1.EE.count()\n",
        "error = 0\n",
        "for x in range (jumlah):\n",
        "  has = df1.EE[x]\n",
        "  total += has \n",
        "  result = df1.EE[x]**2\n",
        "  errorvar = 1 - result\n",
        "  error += errorvar\n",
        "  print(has)\n",
        "\n",
        "print(\"sum :\",total)\n",
        "print(\"kuadrat :\",total**2)\n",
        "print(\"error :\", error)\n",
        "print(\"CR EE :\", (total**2)/((total**2)+error))"
      ],
      "execution_count": null,
      "outputs": [
        {
          "output_type": "stream",
          "text": [
            "0.8599690000000001\n",
            "0.756034\n",
            "0.894127\n",
            "0.07976799999999999\n",
            "0.835676\n",
            "sum : 3.425574\n",
            "kuadrat : 11.734557229476001\n",
            "error : 2.184685506954\n",
            "CR EE : 0.8430456635951786\n"
          ],
          "name": "stdout"
        }
      ]
    },
    {
      "cell_type": "code",
      "metadata": {
        "colab": {
          "base_uri": "https://localhost:8080/"
        },
        "id": "AJERmAOTDfPq",
        "outputId": "37b042df-8167-4c1a-d961-9383dfc6b02f"
      },
      "source": [
        "total = 0\n",
        "jumlah = df1.EE.count()\n",
        "error = 0\n",
        "for x in range (jumlah):\n",
        "  result=df1.EE[x]**2 \n",
        "  errorvar = 1 - result\n",
        "  error += errorvar\n",
        "  total += result \n",
        "\n",
        "print(\"sum :\",total)\n",
        "print(\"error :\", error)\n",
        "print(\"AVE EE :\",total/(total+error))"
      ],
      "execution_count": null,
      "outputs": [
        {
          "output_type": "stream",
          "text": [
            "sum : 2.815314493046\n",
            "error : 2.184685506954\n",
            "AVE EE : 0.5630628986092\n"
          ],
          "name": "stdout"
        }
      ]
    },
    {
      "cell_type": "markdown",
      "metadata": {
        "id": "kCjDJxsJDhZf"
      },
      "source": [
        "SI"
      ]
    },
    {
      "cell_type": "code",
      "metadata": {
        "colab": {
          "base_uri": "https://localhost:8080/"
        },
        "id": "XceLMDqNDkCD",
        "outputId": "806276d2-52d7-4a39-eacc-d554640d4181"
      },
      "source": [
        "total = 0\n",
        "jumlah = df1.SI.count()\n",
        "error = 0\n",
        "for x in range (jumlah):\n",
        "  has = df1.SI[x]\n",
        "  total += has \n",
        "  result = df1.SI[x]**2\n",
        "  errorvar = 1 - result\n",
        "  error += errorvar\n",
        "  print(has)\n",
        "\n",
        "print(\"sum :\",total)\n",
        "print(\"kuadrat :\",total**2)\n",
        "print(\"error :\", error)\n",
        "print(\"CR SI :\", (total**2)/((total**2)+error))"
      ],
      "execution_count": null,
      "outputs": [
        {
          "output_type": "stream",
          "text": [
            "0.292955\n",
            "0.46341099999999996\n",
            "0.783696\n",
            "0.740463\n",
            "0.692712\n",
            "sum : 2.973237\n",
            "kuadrat : 8.840138258169\n",
            "error : 3.0571128233250002\n",
            "CR SI : 0.7430404046796747\n"
          ],
          "name": "stdout"
        }
      ]
    },
    {
      "cell_type": "code",
      "metadata": {
        "colab": {
          "base_uri": "https://localhost:8080/"
        },
        "id": "_zbeKzJ3DyOv",
        "outputId": "db79d3bc-dea0-4b6e-83e9-a8aca36de4ff"
      },
      "source": [
        "total = 0\n",
        "jumlah = df1.SI.count()\n",
        "error = 0\n",
        "for x in range (jumlah):\n",
        "  result=df1.SI[x]**2 \n",
        "  errorvar = 1 - result\n",
        "  error += errorvar\n",
        "  total += result \n",
        "\n",
        "print(\"sum :\",total)\n",
        "print(\"error :\", error)\n",
        "print(\"AVE SI :\",total/(total+error))"
      ],
      "execution_count": null,
      "outputs": [
        {
          "output_type": "stream",
          "text": [
            "sum : 1.9428871766749998\n",
            "error : 3.0571128233250002\n",
            "AVE SI : 0.38857743533499994\n"
          ],
          "name": "stdout"
        }
      ]
    },
    {
      "cell_type": "markdown",
      "metadata": {
        "id": "aPbZR-BeD-k1"
      },
      "source": [
        "FC"
      ]
    },
    {
      "cell_type": "code",
      "metadata": {
        "colab": {
          "base_uri": "https://localhost:8080/"
        },
        "id": "sFe01_fBD_Iu",
        "outputId": "8904d7be-547c-49df-cd9a-47088d056cd0"
      },
      "source": [
        "total = 0\n",
        "jumlah = df1.EE.count()\n",
        "error = 0\n",
        "for x in range (jumlah):\n",
        "  has = df1.EE[x]\n",
        "  total += has \n",
        "  result = df1.EE[x]**2\n",
        "  errorvar = 1 - result\n",
        "  error += errorvar\n",
        "  print(has)\n",
        "\n",
        "print(\"sum :\",total)\n",
        "print(\"kuadrat :\",total**2)\n",
        "print(\"error :\", error)\n",
        "print(\"CR EE :\", (total**2)/((total**2)+error))"
      ],
      "execution_count": null,
      "outputs": [
        {
          "output_type": "stream",
          "text": [
            "0.8599690000000001\n",
            "0.756034\n",
            "0.894127\n",
            "0.07976799999999999\n",
            "0.835676\n",
            "sum : 3.425574\n",
            "kuadrat : 11.734557229476001\n",
            "error : 2.184685506954\n",
            "CR EE : 0.8430456635951786\n"
          ],
          "name": "stdout"
        }
      ]
    },
    {
      "cell_type": "code",
      "metadata": {
        "colab": {
          "base_uri": "https://localhost:8080/"
        },
        "id": "9PKSjCbdECdJ",
        "outputId": "a8031cbd-19bf-402f-f20c-33e6dcb866b7"
      },
      "source": [
        "total = 0\n",
        "jumlah = df1.EE.count()\n",
        "error = 0\n",
        "for x in range (jumlah):\n",
        "  result=df1.EE[x]**2 \n",
        "  errorvar = 1 - result\n",
        "  error += errorvar\n",
        "  total += result \n",
        "\n",
        "print(\"sum :\",total)\n",
        "print(\"error :\", error)\n",
        "print(\"AVE EE :\",total/(total+error))"
      ],
      "execution_count": null,
      "outputs": [
        {
          "output_type": "stream",
          "text": [
            "sum : 2.815314493046\n",
            "error : 2.184685506954\n",
            "AVE EE : 0.5630628986092\n"
          ],
          "name": "stdout"
        }
      ]
    },
    {
      "cell_type": "markdown",
      "metadata": {
        "id": "anV-_mpYEIpI"
      },
      "source": [
        "**Regresi Linier**"
      ]
    },
    {
      "cell_type": "markdown",
      "metadata": {
        "id": "OgkPlE7aeXdh"
      },
      "source": [
        "Upload data kuesioner yang sudah dirata-rata"
      ]
    },
    {
      "cell_type": "code",
      "metadata": {
        "colab": {
          "resources": {
            "http://localhost:8080/nbextensions/google.colab/files.js": {
              "data": "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",
              "ok": true,
              "headers": [
                [
                  "content-type",
                  "application/javascript"
                ]
              ],
              "status": 200,
              "status_text": ""
            }
          },
          "base_uri": "https://localhost:8080/",
          "height": 109
        },
        "id": "mCnCygg6EMp6",
        "outputId": "70c19630-bf10-4764-c91d-5f57469111f4"
      },
      "source": [
        "from google.colab import files\n",
        "!rm kp1.csv\n",
        "files.upload()"
      ],
      "execution_count": null,
      "outputs": [
        {
          "output_type": "display_data",
          "data": {
            "text/html": [
              "\n",
              "     <input type=\"file\" id=\"files-5b2e5b96-1560-408e-abb6-0bfc664a32d0\" name=\"files[]\" multiple disabled\n",
              "        style=\"border:none\" />\n",
              "     <output id=\"result-5b2e5b96-1560-408e-abb6-0bfc664a32d0\">\n",
              "      Upload widget is only available when the cell has been executed in the\n",
              "      current browser session. Please rerun this cell to enable.\n",
              "      </output>\n",
              "      <script src=\"/nbextensions/google.colab/files.js\"></script> "
            ],
            "text/plain": [
              "<IPython.core.display.HTML object>"
            ]
          },
          "metadata": {
            "tags": []
          }
        },
        {
          "output_type": "stream",
          "text": [
            "Saving kp1.csv to kp1.csv\n"
          ],
          "name": "stdout"
        },
        {
          "output_type": "execute_result",
          "data": {
            "text/plain": [
              "{'kp1.csv': b'Nama,Jenis Kelamin,Rentang Usia,Pekerjaan,\"Berapa kali anda menggunakan Search Engine dalam kurun waktu 1 hari? (Google, Bing, Yahoo, dsb)\",Apakah anda mengetahui atau menggunakan Search Engine DuckDuckGo?,Sudah berapa lamakah anda mengetahui atau menggunakan DuckDuckGo?,Apakah jenis OS dari smartphone yang anda gunakan?,PE1,PE2,PE3,PE4,PE5,PE,EE1,EE2,EE3,EE4,EE5,EE,SI1,SI2,SI3,SI4,SI5,SI,FC1,FC2,FC3,FC4,FC\\r\\nMuhammad,Laki-laki,22-26 tahun,Mahasiswa,11-15 kali,Tidak,1-2 tahun,Android,3,3,3,3,3,3,4,4,5,3,3,3.8,4,3,3,4,4,3.6,1,1,1,1,1\\r\\nBiyar,Laki-laki,22-26 tahun,Karyawan Swasta,> 15 kali,Ya,Belum Pernah,Android,4,4,4,4,4,4,3,4,5,4,5,4.2,5,4,4,3,5,4.2,2,4,5,5,4\\r\\nlatina girl,Perempuan,17-21 tahun,mahasiswi,1-5 kali,Tidak,Belum Pernah,Android,5,5,5,5,5,5,5,5,5,5,5,5,5,5,5,5,5,5,5,5,3,5,4.5\\r\\nJalu Dwi Purwandana,Laki-laki,27-31 tahun,CPNS,> 15 kali,Ya,> 2 tahun,Android,4,3,3,2,5,3.4,5,3,5,3,4,4,4,3,1,2,2,2.4,5,3,1,1,2.5\\r\\nGalih,Laki-laki,22-26 tahun,Mahasiswa,1-5 kali,Tidak,Belum Pernah,Android,4,4,4,4,3,3.8,5,5,4,4,4,4.4,4,4,3,4,3,3.6,4,4,4,4,4\\r\\nPUTRI NUR ZACHWA,Perempuan,17-21 tahun,Mahasiswa,1-5 kali,Ya,2-6 bulan,Android,2,4,1,1,2,2,2,3,2,3,2,2.4,1,2,2,2,1,1.6,1,1,4,4,2.5\\r\\nsinta,Perempuan,17-21 tahun,baker,1-5 kali,Tidak,Belum Pernah,iOS,3,3,3,3,3,3,5,3,3,3,3,3.4,4,3,1,3,1,2.4,1,1,1,1,1\\r\\nGian Rachmat,Laki-laki,22-26 tahun,CPNS,> 15 kali,Ya,> 2 tahun,Android,4,4,2,4,5,3.8,5,4,3,4,2,3.6,3,2,2,1,1,1.8,1,2,1,1,1.25\\r\\nPandiga Sabilarrosyad,Laki-laki,22-26 tahun,Mahasiswa,11-15 kali,Tidak,Belum Pernah,Android,4,3,3,3,3,3.2,3,3,3,3,3,3,3,4,4,4,4,3.8,3,3,3,3,3\\r\\nPrizcha Willary ,Perempuan,17-21 tahun,Pelajar,11-15 kali,Tidak,Belum Pernah,Android,5,2,4,4,5,4,5,4,5,4,4,4.4,2,4,1,4,1,2.4,1,3,1,1,1.5\\r\\nAsep cahya,Laki-laki,22-26 tahun,Mahasiswa,6-10 kali,Ya,> 2 tahun,Android,4,3,4,4,4,3.8,4,4,4,3,4,3.8,4,2,2,2,2,2.4,3,5,1,1,2.5\\r\\nAmalia,Perempuan,22-26 tahun,CPNS,1-5 kali,Tidak,Belum Pernah,Android,3,3,3,5,5,3.8,5,5,5,1,4,4,4,3,4,4,2,3.4,4,5,2,1,3\\r\\nReddi Putra,Laki-laki,< 17 tahun,Pelajar,1-5 kali,Tidak,Belum Pernah,Android,3,3,3,3,3,3,3,3,3,3,3,3,3,3,3,3,3,3,3,3,3,3,3\\r\\nWaluyo,Laki-laki,27-31 tahun,ASN,Hampir tidak pernah,Tidak,Belum Pernah,iOS,3,3,3,3,5,3.4,3,3,3,3,3,3,3,3,3,3,1,2.6,3,3,3,3,3\\r\\nalvin rinas rizky,Laki-laki,22-26 tahun,mahasiswa,6-10 kali,Ya,2-6 bulan,iOS,4,4,4,4,3,3.8,4,4,4,4,3,3.8,4,3,2,4,3,3.2,4,4,4,3,3.75\\r\\nMastri,Perempuan,22-26 tahun,Mahasiswa,1-5 kali,Tidak,Belum Pernah,iOS,3,3,3,3,3,3,3,3,3,3,3,3,4,3,2,3,3,3,3,3,3,3,3\\r\\nDwi octo lubis,Laki-laki,22-26 tahun,Mahasiswa,1-5 kali,Tidak,Belum Pernah,iOS,3,3,3,3,3,3,3,3,3,3,3,3,3,3,3,3,3,3,3,3,3,3,3\\r\\nDwi octo lubis,Laki-laki,22-26 tahun,Mahasiswa,1-5 kali,Tidak,Belum Pernah,iOS,3,3,3,3,3,3,3,3,3,3,3,3,3,3,3,3,3,3,3,3,3,3,3\\r\\nWaluyo,Laki-laki,27-31 tahun,ASN,Hampir tidak pernah,Tidak,Belum Pernah,iOS,3,3,3,3,5,3.4,3,3,3,3,3,3,3,3,3,3,1,2.6,3,3,3,3,3\\r\\nPutri Amanda SYafira,Perempuan,17-21 tahun,Mahasiswa,> 15 kali,Tidak,Belum Pernah,Android,3,3,3,3,3,3,3,3,3,3,3,3,3,3,3,3,3,3,3,3,3,3,3\\r\\nMastri,Perempuan,22-26 tahun,Mahasiswa,1-5 kali,Tidak,Belum Pernah,iOS,3,3,3,3,3,3,3,3,3,3,3,3,4,3,2,3,3,3,3,3,3,3,3\\r\\nKarunia Utami,Perempuan,27-31 tahun,Pegawai,> 15 kali,Tidak,Belum Pernah,iOS,3,3,3,3,3,3,3,3,3,3,4,3.2,3,3,3,3,3,3,3,3,3,3,3\\r\\nAchmad dzulfikar maulidi,Laki-laki,22-26 tahun,Pegawai,> 15 kali,Ya,1-2 tahun,Android,5,5,5,5,3,4.6,5,5,3,2,5,4,5,3,2,2,2,2.8,5,5,2,2,3.5\\r\\nBaihaqsani,Laki-laki,22-26 tahun,Mahasiswa,6-10 kali,Tidak,Belum Pernah,iOS,3,3,3,3,1,2.6,3,3,3,3,3,3,3,4,3,3,3,3.2,1,1,1,1,1\\r\\nSumidah,Perempuan,> 31 tahun,Pegawai Negeri Sipil,1-5 kali,Tidak,Belum Pernah,Android,3,3,3,3,1,2.6,3,3,3,3,3,3,1,4,3,3,1,2.4,1,1,1,1,1\\r\\nBakoh Santosa,Laki-laki,> 31 tahun,Wiraswasta,6-10 kali,Tidak,Belum Pernah,iOS,3,3,3,3,3,3,3,3,3,3,3,3,1,1,1,2,1,1.2,1,1,1,1,1\\r\\nRegy Dwitama,Laki-laki,22-26 tahun,Freelance,6-10 kali,Ya,1-2 tahun,Android,5,4,4,4,5,4.4,5,5,5,3,3,4.2,5,4,3,4,4,4,3,5,5,1,3.5\\r\\nSafina Nindyakirana,Perempuan,22-26 tahun,Mahasiswa,1-5 kali,Ya,2-6 bulan,Android,4,4,4,4,4,4,4,4,4,3,4,3.8,4,3,3,3,3,3.2,4,3,3,3,3.25\\r\\nFadhilah Rahmawati,Perempuan,17-21 tahun,Mahasiswa,6-10 kali,Tidak,Belum Pernah,Android,3,3,3,3,3,3,3,3,3,3,3,3,3,3,3,3,3,3,3,3,3,3,3\\r\\nVania Puti Mahsa,Perempuan,22-26 tahun,Mahasiswi,1-5 kali,Ya,< 2 bulan,iOS,4,3,4,3,4,3.6,4,4,3,3,4,3.6,4,3,2,4,1,2.8,3,2,1,1,1.75\\r\\nNaufal,Laki-laki,22-26 tahun,Mahasiswa,6-10 kali,Tidak,Belum Pernah,Android,1,1,3,2,5,2.4,3,3,3,3,3,3,3,3,1,3,1,2.2,1,3,3,3,2.5\\r\\nBagoes Sandy,Laki-laki,17-21 tahun,Mahasiswa,> 15 kali,Ya,7-12 bulan,Android,4,5,2,3,4,3.6,5,5,5,2,5,4.4,5,3,1,1,1,2.2,3,5,1,1,2.5\\r\\nFathiinul K,Perempuan,> 31 tahun,Ibu Rumah Tangga,1-5 kali,Tidak,Belum Pernah,Android,3,3,3,3,3,3,3,3,3,3,3,3,3,3,3,3,3,3,3,3,3,3,3\\r\\nHadi P,Laki-laki,> 31 tahun,Sopir,1-5 kali,Tidak,Belum Pernah,Android,3,3,3,3,3,3,3,3,3,3,3,3,3,3,3,3,3,3,3,3,3,3,3\\r\\nAdinda Putri,Perempuan,< 17 tahun,Pelajar SMP,1-5 kali,Tidak,Belum Pernah,Android,3,3,3,3,3,3,3,3,3,3,3,3,2,5,3,5,5,4,3,3,3,3,3\\r\\nOjan,Laki-laki,22-26 tahun,Mahasiswa,11-15 kali,Ya,> 2 tahun,Android,2,3,2,1,5,2.6,4,3,4,4,5,4,3,1,1,1,1,1.4,1,2,1,2,1.5\\r\\nBisma,Laki-laki,22-26 tahun,konsultan,> 15 kali,Tidak,Belum Pernah,iOS,3,3,3,3,3,3,3,3,3,3,3,3,3,3,3,3,3,3,3,3,3,3,3\\r\\nBarki M R H,Laki-laki,22-26 tahun,mhs,6-10 kali,Tidak,Belum Pernah,iOS,3,3,3,3,3,3,2,4,5,4,4,3.8,3,4,3,5,2,3.4,4,4,3,4,3.75\\r\\nJati Nugroho,Laki-laki,22-26 tahun,Mahasiswa,> 15 kali,Tidak,Belum Pernah,Android,3,3,3,2,3,2.8,3,3,2,3,3,2.8,3,3,3,3,3,3,1,1,1,1,1\\r\\nsinta,Perempuan,17-21 tahun,baker,1-5 kali,Tidak,Belum Pernah,iOS,3,3,3,3,3,3,5,3,3,3,3,3.4,4,3,1,3,1,2.4,1,1,1,1,1\\r\\nRaihan,Laki-laki,22-26 tahun,Mahasiswa,> 15 kali,Tidak,1-2 tahun,Android,3,4,3,3,5,3.6,4,3,3,3,3,3.2,3,3,3,3,1,2.6,1,3,1,1,1.5\\r\\nAudi,Perempuan,17-21 tahun,Mahasiswi,1-5 kali,Tidak,Belum Pernah,Android,3,3,3,3,3,3,3,3,3,2,3,2.8,2,4,1,3,1,2.2,1,1,3,1,1.5\\r\\nRizqi Saputra,Laki-laki,22-26 tahun,Pegawai Swasta,6-10 kali,Tidak,Belum Pernah,Android,3,3,3,3,3,3,3,3,3,3,3,3,3,3,3,3,3,3,3,3,3,3,3\\r\\nHermawan,Laki-laki,22-26 tahun,PNS,1-5 kali,Ya,< 2 bulan,Android,4,3,4,3,4,3.6,4,4,4,4,4,4,4,4,4,4,4,4,4,4,4,4,4\\r\\nDarmawan Saputra,Laki-laki,17-21 tahun,Wirausaha,6-10 kali,Ya,2-6 bulan,Android,4,4,5,4,4,4.2,5,4,4,5,4,4.4,4,4,5,4,4,4.2,5,4,4,5,4.5\\r\\nTabita Putri,Perempuan,17-21 tahun,Pelajar,6-10 kali,Tidak,Belum Pernah,iOS,3,3,3,3,3,3,3,3,3,3,3,3,3,3,3,3,3,3,3,3,3,3,3\\r\\nRizky Hermawan,Laki-laki,22-26 tahun,Pelajar,6-10 kali,Ya,2-6 bulan,Android,4,3,4,5,4,4,5,4,4,4,4,4.2,3,4,4,5,4,4,4,4,5,4,4.25\\r\\nBramasto,Laki-laki,22-26 tahun,PNS,1-5 kali,Ya,2-6 bulan,iOS,4,4,3,4,4,3.8,3,4,4,3,4,3.6,4,4,4,4,4,4,4,4,4,4,4\\r\\nAziz,Laki-laki,22-26 tahun,Mahasiswa,> 15 kali,Ya,1-2 tahun,Android,3,3,3,3,3,3,3,4,5,3,4,3.8,4,3,3,3,1,2.8,1,3,3,1,2\\r\\nJames,Perempuan,17-21 tahun,Freelance,Hampir tidak pernah,Tidak,Belum Pernah,Android,3,3,3,3,3,3,3,3,3,3,3,3,3,3,3,3,3,3,3,3,3,3,3\\r\\nImam,Laki-laki,> 31 tahun,Karyawan Swasta,1-5 kali,Tidak,Belum Pernah,Android,3,3,3,3,3,3,3,3,3,3,3,3,2,4,1,2,1,2,1,1,1,1,1\\r\\nBagus Damar Priambodo,Laki-laki,22-26 tahun,Mahasiswa,11-15 kali,Tidak,Belum Pernah,Android,3,3,3,3,3,3,3,3,3,3,3,3,3,3,1,1,1,1.8,1,1,1,1,1\\r\\nKevin Bintang Akbar ,Laki-laki,17-21 tahun,Mahasiswa,1-5 kali,Tidak,Belum Pernah,Android,3,3,3,3,3,3,3,3,3,3,3,3,3,3,3,3,3,3,3,3,3,3,3\\r\\nMarsha Qolby,Perempuan,17-21 tahun,Mahasiswa,> 15 kali,Tidak,Belum Pernah,iOS,3,3,3,3,3,3,3,3,3,3,3,3,3,3,1,3,1,2.2,1,1,3,3,2\\r\\nCHandra Christa Christanto,Laki-laki,22-26 tahun,NOC ,6-10 kali,Tidak,Belum Pernah,Android,5,5,5,5,5,5,5,5,5,5,5,5,5,5,5,5,5,5,5,5,5,5,5\\r\\nDiannisa Sisilia,Perempuan,22-26 tahun,Staff,> 15 kali,Tidak,Belum Pernah,Android,3,3,3,3,3,3,3,3,3,3,3,3,4,4,2,3,2,3,2,2,2,2,2\\r\\nAudi,Laki-laki,22-26 tahun,Mahasiswa,1-5 kali,Ya,Belum Pernah,Android,3,4,4,2,4,3.4,3,3,4,4,3,3.4,3,3,2,4,4,3.2,2,2,4,3,2.75\\r\\nMichael Samsir,Laki-laki,22-26 tahun,Streamer,Hampir tidak pernah,Tidak,Belum Pernah,Android,3,3,3,3,3,3,3,3,3,3,3,3,3,3,3,3,3,3,3,3,3,3,3\\r\\nRandy Muhammad,Laki-laki,22-26 tahun,Pro Gamer,Hampir tidak pernah,Ya,Belum Pernah,Android,3,3,3,3,3,3,3,3,3,3,3,3,2,4,1,2,3,2.4,1,3,3,3,2.5\\r\\nRusman Hadi,Laki-laki,17-21 tahun,Streamer,Hampir tidak pernah,Ya,Belum Pernah,Android,3,3,3,3,3,3,3,3,3,3,3,3,3,3,1,1,1,1.8,3,3,3,3,3\\r\\nXena,Perempuan,17-21 tahun,Mahasiswa,6-10 kali,Tidak,Belum Pernah,Android,3,3,3,3,3,3,3,3,3,3,3,3,4,3,3,3,3,3.2,1,1,1,1,1\\r\\nKhairul Huda,Laki-laki,22-26 tahun,Mahasiswa,Hampir tidak pernah,Tidak,Belum Pernah,Android,3,3,3,3,3,3,3,3,3,3,3,3,3,3,3,4,4,3.4,3,3,3,3,3\\r\\nFathiinul Khothimah,Perempuan,> 31 tahun,Ibu Rumah Tangga,1-5 kali,Tidak,Belum Pernah,Android,3,3,3,3,3,3,3,3,3,3,3,3,2,2,1,1,2,1.6,3,3,3,3,3\\r\\nAdinda Putri,Perempuan,< 17 tahun,Siswa SMP,6-10 kali,Tidak,Belum Pernah,Android,3,3,3,3,3,3,3,3,3,3,3,3,3,4,1,2,4,2.8,3,3,3,3,3\\r\\nMuhammad Rizky,Laki-laki,22-26 tahun,Gamer,1-5 kali,Tidak,Belum Pernah,iOS,3,3,3,3,3,3,3,3,3,3,3,3,3,3,1,1,1,1.8,3,3,2,2,2.5\\r\\nSafa,Perempuan,17-21 tahun,Mahasiswa,6-10 kali,Tidak,Belum Pernah,Android,1,5,2,4,3,3,4,5,3,3,3,3.6,4,3,3,4,5,3.8,3,3,4,4,3.5\\r\\nTriani Putri,Perempuan,27-31 tahun,IRT,> 15 kali,Tidak,Belum Pernah,Android,3,3,3,3,3,3,3,3,3,3,3,3,3,3,3,3,3,3,3,3,3,3,3\\r\\nmuhammad fasya,Laki-laki,< 17 tahun,masih SMA,6-10 kali,Ya,< 2 bulan,iOS,2,1,1,1,2,1.4,1,2,2,3,3,2.2,2,1,2,3,1,1.8,1,2,2,2,1.75\\r\\nrezaaaa,Laki-laki,17-21 tahun,kuliah smt 2,> 15 kali,Tidak,Belum Pernah,iOS,3,3,3,3,3,3,3,3,3,3,3,3,1,3,3,3,3,2.6,1,1,3,3,2\\r\\nMawar Theresia,Perempuan,22-26 tahun,SPG,Hampir tidak pernah,Ya,7-12 bulan,iOS,4,4,5,5,5,4.6,4,5,4,4,5,4.4,5,5,5,5,5,5,5,4,4,5,4.5\\r\\nM. Faizal Taufik,Laki-laki,27-31 tahun,Ahli Mesin Mitsubisi,Hampir tidak pernah,Tidak,Belum Pernah,Android,3,3,3,3,3,3,3,3,3,3,3,3,3,3,3,3,3,3,3,3,3,3,3\\r\\ndr. ghifary habibie,Laki-laki,> 31 tahun,dokter,1-5 kali,Ya,< 2 bulan,iOS,3,3,3,2,3,2.8,3,2,3,3,2,2.6,3,3,3,3,3,3,3,3,3,3,3\\r\\nRidwan firdaus,Laki-laki,> 31 tahun,Guru,> 15 kali,Ya,> 2 tahun,iOS,5,4,4,3,4,4,4,4,4,3,4,3.8,5,4,5,4,5,4.6,4,5,1,4,3.5\\r\\nYamita Bunga,Perempuan,17-21 tahun,Mahasiswa,Hampir tidak pernah,Ya,Belum Pernah,iOS,3,3,3,3,3,3,3,3,1,1,3,2.2,3,4,3,3,3,3.2,3,3,3,3,3\\r\\nilham nabil,Laki-laki,< 17 tahun,SMA,6-10 kali,Ya,Belum Pernah,iOS,3,3,3,3,3,3,3,3,1,1,3,2.2,1,5,3,3,3,3,1,1,1,1,1\\r\\nazalia nurisma,Perempuan,22-26 tahun,kuliah lagi magang,6-10 kali,Tidak,Belum Pernah,iOS,3,3,2,3,2,2.6,2,2,1,1,2,1.6,1,4,1,1,1,1.6,1,1,5,5,3\\r\\nMuhamad Isnaeni,Laki-laki,> 31 tahun,Pedagang,11-15 kali,Tidak,Belum Pernah,Android,3,3,3,3,3,3,3,3,3,3,3,3,3,4,1,1,1,2,1,1,1,1,1\\r\\nFariha Liantini,Perempuan,> 31 tahun,Dosen,6-10 kali,Ya,Belum Pernah,Android,3,3,3,3,3,3,3,3,3,3,3,3,1,4,1,3,1,2,3,3,1,1,2\\r\\nMichael Samsir,Laki-laki,22-26 tahun,Streamer,Hampir tidak pernah,Tidak,Belum Pernah,Android,3,3,3,3,3,3,3,3,3,3,3,3,3,3,3,3,3,3,3,3,3,3,3\\r\\nFebiana K,Perempuan,22-26 tahun,Manager Tim Esport,1-5 kali,Tidak,Belum Pernah,Android,3,3,3,3,3,3,3,3,3,3,3,3,3,3,3,3,3,3,3,3,3,3,3\\r\\nHerman,Laki-laki,> 31 tahun,Seniman,> 15 kali,Ya,> 2 tahun,iOS,4,4,3,5,4,4,3,3,4,3,3,3.2,4,3,3,2,3,3,2,4,1,1,2\\r\\nFarah annisa,Perempuan,17-21 tahun,Mahasiswa,6-10 kali,Tidak,Belum Pernah,iOS,3,3,3,3,3,3,3,3,3,3,3,3,1,1,1,1,1,1,1,3,3,3,2.5\\r\\nSamuel,Laki-laki,27-31 tahun,Streamer,Hampir tidak pernah,Tidak,Belum Pernah,Android,3,3,3,3,3,3,3,3,3,3,3,3,3,4,2,2,1,2.4,1,1,1,1,1\\r\\nEva Harima,Perempuan,22-26 tahun,Reseller,11-15 kali,Ya,< 2 bulan,Android,3,3,3,4,4,3.4,3,3,4,3,3,3.2,4,4,2,4,3,3.4,1,4,1,1,1.75\\r\\nFera,Perempuan,17-21 tahun,Mahasiswa,> 15 kali,Tidak,Belum Pernah,iOS,3,3,3,3,3,3,3,3,3,3,3,3,3,4,1,3,1,2.4,1,1,1,1,1\\r\\nIvanna Lundy,Perempuan,22-26 tahun,Mahasiswa,> 15 kali,Tidak,Belum Pernah,Android,3,3,3,3,3,3,3,3,3,3,3,3,3,3,1,1,1,1.8,1,1,1,1,1\\r\\nAping Dyah,Perempuan,> 31 tahun,PNS,Hampir tidak pernah,Tidak,Belum Pernah,Android,3,3,3,3,3,3,3,3,3,3,3,3,3,4,1,1,1,2,1,1,1,1,1\\r\\nAngga Saputra Wibisono,Laki-laki,22-26 tahun,NOC,> 15 kali,Tidak,Belum Pernah,Android,3,3,3,3,3,3,3,3,3,3,3,3,3,3,1,1,1,1.8,1,1,1,1,1\\r\\nBonifasis Marnata Sima Pamula,Laki-laki,22-26 tahun,Mahasiswa,> 15 kali,Tidak,Belum Pernah,Android,3,3,3,3,3,3,3,3,3,3,3,3,3,3,3,3,3,3,3,3,3,3,3\\r\\nTama,Perempuan,22-26 tahun,Mahasiswa,> 15 kali,Ya,1-2 tahun,Android,3,3,3,3,3,3,3,3,4,3,3,3.2,3,3,4,1,1,2.4,1,4,1,1,1.75\\r\\nMohammad Alvian,Laki-laki,22-26 tahun,Streamer,> 15 kali,Ya,> 2 tahun,Android,4,3,3,4,4,3.6,4,4,4,3,4,3.8,4,4,4,4,1,3.4,1,4,1,1,1.75\\r\\nNabila,Perempuan,22-26 tahun,Olshop,11-15 kali,Tidak,Belum Pernah,Android,3,3,3,3,3,3,3,3,3,3,3,3,3,3,3,3,3,3,3,3,3,3,3\\r\\nAli Kusumadinata,Laki-laki,> 31 tahun,Karyawan,11-15 kali,Ya,> 2 tahun,Android,3,3,3,5,4,3.6,3,3,5,3,4,3.6,4,3,2,1,1,2.2,1,1,1,1,1\\r\\nTomy Dwi,Laki-laki,22-26 tahun,Karyawan,6-10 kali,Tidak,Belum Pernah,iOS,3,3,3,3,3,3,3,3,3,3,3,3,3,3,3,3,3,3,1,1,1,1,1\\r\\nmuhammad ziyad mukhlisin,Laki-laki,22-26 tahun,Mahasiswa,11-15 kali,Tidak,Belum Pernah,Android,3,3,3,3,3,3,3,3,3,3,3,3,3,3,3,3,3,3,3,3,3,3,3\\r\\nFarah Cantika,Perempuan,17-21 tahun,Mahasiswa,11-15 kali,Tidak,Belum Pernah,Android,3,3,3,3,3,3,3,3,3,3,3,3,3,3,3,3,3,3,3,3,3,3,3\\r\\nErick Pangestu,Laki-laki,22-26 tahun,Mahasiswa,11-15 kali,Ya,> 2 tahun,Android,2,3,4,4,4,3.4,4,3,5,2,4,3.6,3,3,2,2,1,2.2,1,4,1,1,1.75\\r\\nPermatasari,Perempuan,22-26 tahun,Mahasiswa,> 15 kali,Ya,1-2 tahun,iOS,5,2,3,4,4,3.6,3,2,4,1,4,2.8,4,2,2,1,1,2,1,5,2,2,2.5\\r\\nBarki Riski,Laki-laki,22-26 tahun,Mahasiswa,6-10 kali,Tidak,Belum Pernah,Android,3,3,3,3,3,3,3,3,3,3,3,3,1,1,1,3,1,1.4,1,1,3,3,2\\r\\nFikar Arya,Laki-laki,22-26 tahun,Freelance,1-5 kali,Ya,< 2 bulan,Android,4,3,4,2,4,3.4,4,4,3,3,3,3.4,4,3,1,4,1,2.6,1,5,1,4,2.75\\r\\nA M Fadrian Nur,Laki-laki,22-26 tahun,Mahasiswa,1-5 kali,Tidak,Belum Pernah,Android,3,3,3,3,3,3,3,3,1,3,1,2.2,1,1,1,1,1,1,1,1,1,1,1\\r\\nHanif Nurrohman,Laki-laki,22-26 tahun,Mahasiswa,6-10 kali,Tidak,Belum Pernah,Android,3,3,3,3,3,3,3,3,3,3,3,3,1,3,1,1,1,1.4,1,1,1,1,1\\r\\nVirly Mucharomah,Perempuan,17-21 tahun,Mahasiswa,11-15 kali,Tidak,Belum Pernah,Android,3,3,3,3,3,3,3,3,3,3,3,3,1,1,1,1,1,1,1,1,1,1,1\\r\\nTasha Paramitha,Perempuan,22-26 tahun,Presenter Radio,11-15 kali,Tidak,Belum Pernah,iOS,1,1,1,1,1,1,1,1,1,1,1,1,3,3,1,1,1,1.8,1,1,1,1,1\\r\\nSabina Katya Viena Diva,Perempuan,22-26 tahun,Freelance,11-15 kali,Tidak,Belum Pernah,iOS,3,3,3,3,3,3,3,3,3,3,3,3,3,3,1,3,1,2.2,1,1,1,1,1\\r\\nNatasya Farisa,Perempuan,22-26 tahun,Pegawai Swasta,11-15 kali,Tidak,Belum Pernah,iOS,1,1,1,1,1,1,3,3,3,3,3,3,3,3,2,1,1,2,1,1,1,1,1\\r\\nNisabilah Anjani,Perempuan,22-26 tahun,Lawfirm,> 15 kali,Tidak,Belum Pernah,iOS,3,3,3,3,3,3,3,3,3,3,3,3,3,3,1,1,1,1.8,1,1,1,1,1\\r\\nAmjad Hilmy Maricar,Laki-laki,22-26 tahun,Bartender,6-10 kali,Tidak,Belum Pernah,iOS,3,3,3,3,3,3,3,3,3,3,3,3,3,3,2,2,2,2.4,2,2,1,1,1.5\\r\\nZahra Shadiqqa,Perempuan,22-26 tahun,Mahasiswa,11-15 kali,Tidak,Belum Pernah,iOS,3,3,3,3,3,3,3,3,3,3,3,3,1,4,2,1,2,2,2,2,2,2,2\\r\\nZakia Kusumawardhani,Perempuan,22-26 tahun,PNS,11-15 kali,Tidak,Belum Pernah,Android,3,3,3,3,3,3,3,3,3,3,3,3,3,3,1,1,1,1.8,1,1,1,1,1\\r\\nCahaya Gemilang  R,Perempuan,22-26 tahun,Mahasiswa,Hampir tidak pernah,Tidak,Belum Pernah,Android,3,3,3,3,3,3,3,3,3,3,3,3,4,4,1,2,1,2.4,2,2,2,2,2\\r\\nHenokh Adinata,Laki-laki,17-21 tahun,Mahasiswa,> 15 kali,Tidak,Belum Pernah,Android,3,3,3,3,3,3,3,3,3,3,3,3,3,2,2,2,2,2.2,1,3,1,1,1.5\\r\\nDava Devara,Perempuan,22-26 tahun,Barista,> 15 kali,Tidak,Belum Pernah,iOS,3,3,3,3,3,3,1,1,1,3,1,1.4,1,1,1,1,1,1,1,1,1,1,1\\r\\nIlham Pradito,Laki-laki,22-26 tahun,Mahasiswa,6-10 kali,Ya,< 2 bulan,Android,4,3,4,4,3,3.6,4,4,3,3,4,3.6,5,3,1,4,1,2.8,1,4,1,1,1.75\\r\\nTatjana Harika Jasmine,Perempuan,22-26 tahun,Mahasiswi,6-10 kali,Ya,< 2 bulan,iOS,4,4,4,4,4,4,5,5,5,2,4,4.2,4,4,2,2,2,2.8,4,3,1,4,3\\r\\nAgassi Usman,Laki-laki,22-26 tahun,Mahasiswa,11-15 kali,Tidak,Belum Pernah,iOS,3,3,3,3,3,3,3,3,3,3,3,3,3,3,1,1,1,1.8,1,1,1,1,1\\r\\nIslamabel Qomara Putri,Perempuan,17-21 tahun,Pegawai Negeri Swasta,> 15 kali,Tidak,Belum Pernah,iOS,3,3,3,3,3,3,3,3,3,3,3,3,3,3,2,2,2,2.4,2,2,2,2,2\\r\\nAmira Indriani Cahya Dewi,Perempuan,22-26 tahun,Pegawai Negeri Swasta,11-15 kali,Tidak,Belum Pernah,iOS,3,3,3,3,3,3,3,3,3,3,3,3,3,3,3,3,3,3,3,3,3,3,3\\r\\nMiftah Amir ,Laki-laki,22-26 tahun,Mahasiswa,> 15 kali,Ya,< 2 bulan,Android,4,3,3,4,3,3.4,4,4,3,1,4,3.2,5,3,1,5,1,3,1,5,1,1,2\\r\\nAnastasya,Perempuan,22-26 tahun,Mahasiswa,11-15 kali,Tidak,Belum Pernah,iOS,3,3,3,3,3,3,3,3,3,3,3,3,3,1,1,1,1,1.4,1,1,1,1,1\\r\\nRanaya Syanindita Putri Sani,Perempuan,17-21 tahun,Mahasiswi,1-5 kali,Ya,Belum Pernah,Android,3,3,3,4,3,3.2,3,3,3,3,3,3,3,3,2,3,5,3.2,3,3,2,2,2.5\\r\\nLaras Puspitasari,Perempuan,22-26 tahun,Karyawan,11-15 kali,Tidak,Belum Pernah,Android,2,2,2,3,4,2.6,4,3,3,3,3,3.2,3,3,2,2,1,2.2,1,3,1,1,1.5\\r\\nCerah Logika,Perempuan,22-26 tahun,Staff,11-15 kali,Tidak,Belum Pernah,Android,3,3,3,3,3,3,4,3,3,3,4,3.4,3,3,2,2,1,2.2,1,1,1,1,1\\r\\nAlberto,Laki-laki,17-21 tahun,Pekerja,11-15 kali,Tidak,Belum Pernah,Android,3,3,3,3,3,3,3,3,3,3,3,3,3,3,3,3,3,3,3,3,3,3,3\\r\\nPeter Jonathan,Laki-laki,17-21 tahun,Freelance,> 15 kali,Tidak,Belum Pernah,Android,3,2,3,4,3,3,4,3,4,3,4,3.6,3,3,2,2,1,2.2,1,5,1,1,2\\r\\nFericho Bramasta,Laki-laki,22-26 tahun,Helpdesk,> 15 kali,Ya,> 2 tahun,iOS,3,2,3,4,5,3.4,4,3,4,3,4,3.6,3,3,4,3,2,3,1,4,1,2,2\\r\\nMartina,Perempuan,27-31 tahun,Staff,> 15 kali,Tidak,Belum Pernah,iOS,3,3,3,3,3,3,3,3,3,3,3,3,3,3,3,3,3,3,3,3,3,3,3\\r\\nArka Brian ,Laki-laki,17-21 tahun,Mahasiswa,11-15 kali,Tidak,Belum Pernah,iOS,3,3,3,3,3,3,3,3,3,3,3,3,4,1,1,1,1,1.6,1,1,1,1,1\\r\\nNamira Mufida Adien,Perempuan,22-26 tahun,Fresh Graduate,> 15 kali,Tidak,Belum Pernah,iOS,3,3,3,3,3,3,3,3,3,3,3,3,1,3,1,1,1,1.4,1,1,1,1,1\\r\\nAbinila Savina Taim,Perempuan,22-26 tahun,Pegawai Negeri Swasta,11-15 kali,Tidak,Belum Pernah,iOS,3,3,3,3,3,3,3,3,3,3,3,3,3,3,1,1,1,1.8,1,1,1,1,1\\r\\nZenda Alvia,Perempuan,22-26 tahun,Pegawai Negeri Swasta,> 15 kali,Tidak,Belum Pernah,iOS,3,3,3,3,3,3,2,2,2,2,2,2,3,3,1,1,1,1.8,3,1,1,1,1.5\\r\\nAdri Sedewo,Laki-laki,> 31 tahun,Karyawan Swasta,1-5 kali,Ya,< 2 bulan,Android,4,4,4,4,3,3.8,4,4,5,4,5,4.4,5,3,4,5,5,4.4,4,4,4,4,4\\r\\nFarida Ariani,Perempuan,17-21 tahun,Ibu Rumah Tangga,1-5 kali,Ya,< 2 bulan,Android,4,5,4,3,4,4,4,3,3,4,4,3.6,3,3,5,5,4,4,4,5,5,4,4.5\\r\\nZayn Aiman Rasya,Laki-laki,< 17 tahun,Siswa,6-10 kali,Ya,2-6 bulan,iOS,5,4,5,4,4,4.4,4,4,3,4,4,3.8,3,5,5,5,5,4.6,4,5,5,5,4.75\\r\\nCalista Azzura Shain,Perempuan,17-21 tahun,Mahasiswi,1-5 kali,Ya,< 2 bulan,iOS,3,5,4,4,5,4.2,3,4,4,5,4,4,3,4,4,3,5,3.8,5,5,4,4,4.5\\r\\nFakhrie Zhafran K,Laki-laki,< 17 tahun,Siswa,1-5 kali,Ya,< 2 bulan,Android,3,4,4,4,3,3.6,4,3,3,4,3,3.4,5,5,4,3,5,4.4,5,5,4,4,4.5\\r\\nAnnisa Septiani,Perempuan,< 17 tahun,Siswi,1-5 kali,Ya,< 2 bulan,Android,4,4,4,3,5,4,4,5,3,5,4,4.2,5,4,4,5,5,4.6,4,5,5,5,4.75\\r\\nAnggia Putri,Perempuan,17-21 tahun,Mahasiswi,6-10 kali,Ya,2-6 bulan,iOS,4,5,4,3,5,4.2,5,4,5,4,4,4.4,5,4,4,3,5,4.2,4,3,5,3,3.75\\r\\nMuhammad Aiman,Laki-laki,22-26 tahun,Karyawan Swasta,6-10 kali,Ya,7-12 bulan,iOS,5,4,5,3,5,4.4,4,5,4,5,5,4.6,5,4,5,5,5,4.8,3,5,4,4,4\\r\\nFriesca Ervina,Perempuan,22-26 tahun,Ibu Rumah Tangga,1-5 kali,Ya,< 2 bulan,Android,4,3,4,4,4,3.8,3,4,5,3,4,3.8,3,3,3,2,5,3.2,3,5,3,4,3.75\\r\\nRaisya Shalyn ,Perempuan,< 17 tahun,Siswi,1-5 kali,Ya,< 2 bulan,Android,4,3,4,4,3,3.6,4,4,5,5,5,4.6,4,3,5,4,5,4.2,4,5,4,4,4.25\\r\\nZela Drenalda,Perempuan,> 31 tahun,Ibu Rumah Tangga,6-10 kali,Ya,< 2 bulan,Android,3,3,5,4,4,3.8,4,4,4,5,4,4.2,4,4,4,4,3,3.8,5,4,4,3,4\\r\\nKalula Hanika,Perempuan,17-21 tahun,Mahasiswi,1-5 kali,Ya,2-6 bulan,iOS,4,3,4,5,5,4.2,5,5,5,4,5,4.8,5,5,5,4,5,4.8,5,5,5,5,5\\r\\nRudi Ardian,Laki-laki,22-26 tahun,Karyawan swasta,1-5 kali,Ya,< 2 bulan,iOS,4,5,4,4,5,4.4,4,5,5,4,5,4.6,5,5,5,4,5,4.8,5,4,5,4,4.5\\r\\nNaomi Keisha,Perempuan,17-21 tahun,Mahasiswi,1-5 kali,Ya,< 2 bulan,iOS,5,4,5,3,5,4.4,5,5,5,5,5,5,4,5,5,5,5,4.8,5,5,5,4,4.75\\r\\nLulu Hanisya,Perempuan,< 17 tahun,Siswa,1-5 kali,Ya,< 2 bulan,Android,4,4,4,5,4,4.2,4,5,5,5,4,4.6,4,4,4,5,4,4.2,5,5,4,5,4.75\\r\\nKiki Susilawati,Perempuan,22-26 tahun,Mahasiswi,6-10 kali,Ya,< 2 bulan,iOS,5,4,4,4,5,4.4,4,4,5,5,4,4.4,5,5,5,4,5,4.8,3,5,4,5,4.25\\r\\nKeyran Aji,Laki-laki,17-21 tahun,Mahasiswa,1-5 kali,Ya,< 2 bulan,Android,4,4,5,5,4,4.4,4,5,5,5,5,4.8,5,4,5,5,5,4.8,4,5,5,5,4.75\\r\\nKama Nugroho,Laki-laki,17-21 tahun,Karyawan swasta,6-10 kali,Ya,2-6 bulan,iOS,4,4,5,5,4,4.4,4,5,5,5,5,4.8,5,5,5,4,5,4.8,5,5,5,5,5\\r\\nAidan Fasha,Laki-laki,17-21 tahun,Mahasiswa,1-5 kali,Ya,< 2 bulan,iOS,4,3,4,3,4,3.6,3,4,4,3,4,3.6,5,4,4,3,5,4.2,5,5,4,5,4.75\\r\\nLita Adyasari,Perempuan,27-31 tahun,Ibu rumah tangga,1-5 kali,Ya,< 2 bulan,iOS,4,5,4,5,5,4.6,5,4,4,5,5,4.6,4,5,5,4,5,4.6,5,5,5,5,5\\r\\nAnindya Bina,Perempuan,17-21 tahun,Karyawan,6-10 kali,Ya,< 2 bulan,iOS,5,5,5,5,5,5,4,5,4,4,5,4.4,5,4,5,5,4,4.6,5,5,4,5,4.75\\r\\nLeonardo Hasbi,Laki-laki,17-21 tahun,Mahasiswa,6-10 kali,Ya,2-6 bulan,Android,4,5,5,5,5,4.8,5,4,5,4,5,4.6,5,4,5,4,5,4.6,4,3,5,5,4.25\\r\\nZahira Biya Niska,Perempuan,< 17 tahun,Siswi,1-5 kali,Ya,< 2 bulan,iOS,5,5,5,4,5,4.8,4,4,5,5,5,4.6,4,4,5,5,5,4.6,5,5,5,5,5\\r\\nIchimaru gin,Laki-laki,17-21 tahun,Freelance,> 15 kali,Ya,2-6 bulan,iOS,5,4,4,5,5,4.6,4,4,4,4,5,4.2,4,4,5,4,4,4.2,3,4,4,4,3.75\\r\\nSoni Akbar,Laki-laki,27-31 tahun,Direktur,6-10 kali,Tidak,Belum Pernah,Android,3,4,4,3,3,3.4,3,2,5,4,2,3.2,5,2,4,4,3,3.6,1,4,3,2,2.5\\r\\nAffan B,Laki-laki,22-26 tahun,Tani,6-10 kali,Ya,2-6 bulan,Android,5,5,5,4,5,4.8,4,4,5,4,5,4.4,4,5,4,4,5,4.4,4,5,4,4,4.25\\r\\nSuharto,Laki-laki,27-31 tahun,Marketing,6-10 kali,Tidak,Belum Pernah,Android,3,5,3,3,3,3.4,2,3,4,2,4,3,3,3,2,4,4,3.2,2,4,3,1,2.5\\r\\nZenpachi,Laki-laki,17-21 tahun,Belum bekerja,6-10 kali,Ya,7-12 bulan,Android,5,5,5,4,5,4.8,5,5,5,5,4,4.8,4,5,5,4,5,4.6,4,5,5,5,4.75\\r\\nAlgozali,Laki-laki,22-26 tahun,Juragan,11-15 kali,Ya,2-6 bulan,Android,4,5,5,4,5,4.6,5,5,5,5,5,5,5,4,5,5,5,4.8,5,4,5,5,4.75\\r\\nAdi Yoga,Laki-laki,> 31 tahun,Karyawan,Hampir tidak pernah,Tidak,Belum Pernah,Android,3,3,3,3,3,3,3,3,3,3,3,3,3,3,3,3,3,3,3,3,3,3,3\\r\\nAlfonso,Laki-laki,22-26 tahun,Pramosaji,11-15 kali,Ya,7-12 bulan,iOS,4,5,5,5,5,4.8,4,5,5,4,5,4.6,5,4,5,4,5,4.6,5,4,5,5,4.75\\r\\nSovia nandar,Perempuan,27-31 tahun,Bendahara,6-10 kali,Tidak,Belum Pernah,iOS,3,4,3,4,3,3.4,3,3,3,3,3,3,2,2,4,3,3,2.8,2,4,2,3,2.75\\r\\nAlia,Perempuan,17-21 tahun,Sales,11-15 kali,Tidak,Belum Pernah,iOS,4,4,5,5,5,4.6,4,5,5,5,5,4.8,4,5,4,5,5,4.6,5,4,5,5,4.75\\r\\nAhmad khoirul,Laki-laki,27-31 tahun,Project,> 15 kali,Tidak,Belum Pernah,Android,4,2,3,1,5,3,1,5,2,4,3,3,3,2,4,1,5,3,3,3,3,3,3\\r\\nKirana Lestari,Perempuan,< 17 tahun,Siswa,1-5 kali,Ya,< 2 bulan,iOS,4,4,4,5,4,4.2,5,4,5,4,4,4.4,5,5,5,5,5,5,5,5,5,5,5\\r\\nWisnu Ardiyanto,Laki-laki,22-26 tahun,Tidak Bekerja,11-15 kali,Tidak,Belum Pernah,Android,3,3,3,3,3,3,3,3,3,3,3,3,3,3,3,3,3,3,3,2,1,2,2\\r\\nNaja Amila,Perempuan,22-26 tahun,Siswa,1-5 kali,Ya,2-6 bulan,Android,5,5,5,5,5,5,5,5,5,5,5,5,5,5,5,4,5,4.8,5,5,5,5,5\\r\\nYudi indra,Laki-laki,> 31 tahun,Tenaga k3,11-15 kali,Tidak,Belum Pernah,Android,3,3,4,4,3,3.4,3,3,3,3,3,3,3,3,4,3,4,3.4,3,3,3,3,3\\r\\nLala Andini,Perempuan,17-21 tahun,Mahasiswi,6-10 kali,Ya,2-6 bulan,iOS,4,5,3,5,4,4.2,5,5,5,4,4,4.6,5,5,5,4,5,4.8,4,5,5,4,4.5\\r\\nJamal,Laki-laki,> 31 tahun,Ahli irigasi,6-10 kali,Tidak,7-12 bulan,Android,4,4,3,3,4,3.6,4,2,4,3,3,3.2,2,4,4,2,4,3.2,4,5,4,4,4.25\\r\\nZahir Muhammad,Laki-laki,17-21 tahun,Siswa,1-5 kali,Ya,< 2 bulan,iOS,4,5,5,5,5,4.8,4,5,5,5,5,4.8,5,5,5,4,5,4.8,3,5,5,5,4.5\\r\\nAnanda Felix,Laki-laki,17-21 tahun,Mahasiswa,11-15 kali,Ya,< 2 bulan,iOS,3,3,4,5,4,3.8,5,5,4,4,4,4.4,4,4,4,4,2,3.6,2,4,1,1,2\\r\\nBiya Angela,Perempuan,17-21 tahun,Mahasiswi,1-5 kali,Ya,< 2 bulan,Android,5,5,5,4,5,4.8,5,5,5,5,5,5,5,5,5,5,5,5,5,5,5,5,5\\r\\nAnnisa Warda Irvani,Perempuan,22-26 tahun,Mahasiswa,> 15 kali,Tidak,Belum Pernah,iOS,3,3,3,3,3,3,3,3,3,3,3,3,2,2,1,1,1,1.4,1,1,1,1,1\\r\\nIsma mutiara,Perempuan,22-26 tahun,Mahasiswip,1-5 kali,Ya,< 2 bulan,iOS,4,4,5,5,5,4.6,5,5,5,5,5,5,5,5,5,5,5,5,5,5,5,5,5\\r\\nAmelia izati,Perempuan,17-21 tahun,Mahasiswi,1-5 kali,Ya,2-6 bulan,iOS,5,5,5,4,5,4.8,5,5,5,5,5,5,5,5,5,5,5,5,5,5,5,5,5\\r\\nMalika Bestari,Perempuan,22-26 tahun,Aktris,> 15 kali,Tidak,Belum Pernah,iOS,3,3,3,3,3,3,3,3,3,3,3,3,1,3,1,1,1,1.4,1,1,1,1,1\\r\\nKarmelia,Perempuan,17-21 tahun,Mahasiswi,6-10 kali,Ya,< 2 bulan,Android,5,5,5,4,5,4.8,4,5,5,5,5,4.8,5,5,5,5,5,5,4,5,4,5,4.5\\r\\nDio Kevin ,Laki-laki,22-26 tahun,Mahasiswa,> 15 kali,Tidak,Belum Pernah,iOS,3,3,3,3,3,3,3,3,3,3,3,3,1,3,1,1,1,1.4,1,1,1,1,1\\r\\nSochib,Laki-laki,> 31 tahun,Ahli jembatan,11-15 kali,Tidak,Belum Pernah,Android,4,2,3,3,4,3.2,4,4,4,2,4,3.6,4,4,4,4,4,4,4,4,4,4,4\\r\\nSyatin Hujan,Perempuan,22-26 tahun,Mahasiswi,1-5 kali,Ya,< 2 bulan,Android,5,4,5,5,5,4.8,4,4,4,2,5,3.8,4,5,5,4,5,4.6,4,4,5,4,4.25\\r\\nHanif Anzalie,Laki-laki,22-26 tahun,PNS,> 15 kali,Tidak,Belum Pernah,Android,3,3,3,3,3,3,3,3,3,3,3,3,3,3,1,3,1,2.2,1,1,1,1,1\\r\\nRafa Ghaisan,Laki-laki,< 17 tahun,Siswa,1-5 kali,Ya,< 2 bulan,Android,4,4,5,5,5,4.6,5,5,4,2,4,4,5,3,4,5,5,4.4,3,4,5,5,4.25\\r\\nTito Prakasa,Laki-laki,27-31 tahun,Software Engineer,> 15 kali,Ya,< 2 bulan,iOS,4,4,4,4,4,4,4,4,4,4,4,4,4,4,4,4,4,4,1,5,1,1,2\\r\\nMaharani Permata Putri,Perempuan,22-26 tahun,Business Marketing,> 15 kali,Tidak,Belum Pernah,iOS,3,3,3,3,3,3,3,3,3,3,3,3,3,1,1,1,1,1.4,1,1,1,1,1\\r\\nNazela Ardiani,Perempuan,22-26 tahun,Digital Marketing,> 15 kali,Tidak,Belum Pernah,iOS,3,3,3,3,3,3,3,3,3,3,3,3,3,1,1,1,1,1.4,1,1,3,1,1.5\\r\\nSiltan alfariz,Laki-laki,22-26 tahun,Mahasiswa,> 15 kali,Ya,1-2 tahun,iOS,4,3,3,3,3,3.2,4,4,4,4,4,4,4,4,4,3,5,4,4,4,4,4,4\\r\\nMuchammad Yusuf Bachtiar,Laki-laki,22-26 tahun,Teknisi,6-10 kali,Tidak,Belum Pernah,Android,4,4,4,2,4,3.6,4,4,4,4,4,4,4,4,4,4,4,4,3,3,3,3,3\\r\\nDanis wara,Laki-laki,22-26 tahun,Karyawan,11-15 kali,Tidak,Belum Pernah,Android,3,3,3,3,3,3,3,3,3,3,3,3,3,4,3,3,3,3.2,3,3,3,3,3\\r\\nFaruq Lazuardi,Laki-laki,> 31 tahun,Wiraswasta,1-5 kali,Tidak,Belum Pernah,iOS,3,4,3,4,3,3.4,4,3,3,4,4,3.6,3,3,3,4,3,3.2,3,3,3,3,3\\r\\nChimi,Laki-laki,17-21 tahun,Tidak bekerja,Hampir tidak pernah,Tidak,Belum Pernah,iOS,3,3,3,3,3,3,3,3,3,3,3,3,3,3,3,3,3,3,3,3,3,3,3\\r\\nDanantya Irfanti,Perempuan,22-26 tahun,Analis,> 15 kali,Tidak,Belum Pernah,iOS,3,3,3,3,3,3,3,3,3,3,3,3,3,3,2,2,2,2.4,1,1,3,3,2\\r\\nRenal,Laki-laki,22-26 tahun,Programmer,> 15 kali,Ya,> 2 tahun,Android,3,4,3,3,3,3.2,4,3,3,3,3,3.2,4,4,3,3,3,3.4,3,3,3,3,3\\r\\nMaura Wilona,Perempuan,22-26 tahun,Fresh Graduate,> 15 kali,Tidak,Belum Pernah,iOS,3,3,3,3,3,3,3,3,3,3,3,3,3,3,1,1,1,1.8,1,1,3,3,2\\r\\nTasya Amira Aditya,Perempuan,22-26 tahun,Arsitek,11-15 kali,Tidak,Belum Pernah,iOS,3,3,3,3,3,3,3,3,3,3,3,3,2,2,1,2,2,1.8,1,1,3,3,2\\r\\nGale,Laki-laki,22-26 tahun,Programmer,> 15 kali,Tidak,Belum Pernah,iOS,3,3,3,3,3,3,3,3,3,3,3,3,3,3,3,3,3,3,3,3,3,3,3\\r\\nAzizah Katili,Perempuan,22-26 tahun,Fresh Graduate,11-15 kali,Tidak,Belum Pernah,iOS,3,3,3,3,3,3,3,3,3,3,3,3,2,2,1,2,2,1.8,1,1,3,3,2\\r\\nAsmara Bunga Asmoeni,Perempuan,22-26 tahun,Data analis,> 15 kali,Tidak,Belum Pernah,iOS,3,3,3,3,3,3,3,3,3,3,3,3,3,3,2,2,1,2.2,1,1,3,3,2\\r\\nFransisca Regina,Perempuan,22-26 tahun,Law Firm,11-15 kali,Tidak,Belum Pernah,iOS,3,3,3,3,3,3,3,3,3,3,3,3,1,1,1,1,1,1,1,1,1,1,1\\r\\nRiski,Laki-laki,22-26 tahun,Sales,6-10 kali,Ya,Belum Pernah,iOS,3,4,3,3,3,3.2,3,3,3,3,3,3,3,3,3,3,3,3,3,3,3,3,3\\r\\nShalvya Inge Indira,Perempuan,22-26 tahun,PNS,11-15 kali,Tidak,Belum Pernah,iOS,3,3,3,3,3,3,3,3,3,3,3,3,3,3,1,1,1,1.8,1,1,3,3,2\\r\\nReghia Regina,Perempuan,22-26 tahun,Fresh Graduate,Hampir tidak pernah,Tidak,Belum Pernah,iOS,3,3,3,3,3,3,3,3,3,3,3,3,3,3,2,3,2,2.6,1,1,3,3,2\\r\\nAhmad syifa,Laki-laki,22-26 tahun,Sipir,11-15 kali,Tidak,Belum Pernah,Android,3,3,3,3,3,3,3,3,3,3,3,3,3,3,3,3,3,3,3,3,3,3,3\\r\\nSarah Disara,Perempuan,22-26 tahun,PNS,11-15 kali,Tidak,Belum Pernah,iOS,3,3,3,3,3,3,3,3,3,3,3,3,3,3,3,3,3,3,1,1,3,3,2\\r\\nRindhi Nisrina,Perempuan,22-26 tahun,Software Engineer,> 15 kali,Ya,Belum Pernah,iOS,3,3,3,3,3,3,3,3,3,3,3,3,3,3,3,3,3,3,1,1,3,3,2\\r\\nBima Reza Yudha,Laki-laki,22-26 tahun,Mahasiswa,> 15 kali,Tidak,Belum Pernah,iOS,3,3,3,3,3,3,3,3,3,3,3,3,3,3,1,1,1,1.8,1,1,3,3,2\\r\\nSultan Saladdin,Laki-laki,22-26 tahun,Software Engineer,> 15 kali,Tidak,Belum Pernah,iOS,3,3,3,3,3,3,3,3,3,3,3,3,3,3,1,1,1,1.8,1,1,3,3,2\\r\\n'}"
            ]
          },
          "metadata": {
            "tags": []
          },
          "execution_count": 31
        }
      ]
    },
    {
      "cell_type": "code",
      "metadata": {
        "id": "5CNR6WmyG7W4"
      },
      "source": [
        "df= pd.read_csv(\"kp1.csv\")"
      ],
      "execution_count": null,
      "outputs": []
    },
    {
      "cell_type": "code",
      "metadata": {
        "colab": {
          "base_uri": "https://localhost:8080/"
        },
        "id": "bruOt_uXHBTb",
        "outputId": "d11ddf6e-a158-4e84-a7eb-422c0576f537"
      },
      "source": [
        "df.columns"
      ],
      "execution_count": null,
      "outputs": [
        {
          "output_type": "execute_result",
          "data": {
            "text/plain": [
              "Index(['Nama', 'Jenis Kelamin', 'Rentang Usia', 'Pekerjaan',\n",
              "       'Berapa kali anda menggunakan Search Engine dalam kurun waktu 1 hari? (Google, Bing, Yahoo, dsb)',\n",
              "       'Apakah anda mengetahui atau menggunakan Search Engine DuckDuckGo?',\n",
              "       'Sudah berapa lamakah anda mengetahui atau menggunakan DuckDuckGo?',\n",
              "       'Apakah jenis OS dari smartphone yang anda gunakan?', 'PE1', 'PE2',\n",
              "       'PE3', 'PE4', 'PE5', 'PE', 'EE1', 'EE2', 'EE3', 'EE4', 'EE5', 'EE',\n",
              "       'SI1', 'SI2', 'SI3', 'SI4', 'SI5', 'SI', 'FC1', 'FC2', 'FC3', 'FC4',\n",
              "       'FC'],\n",
              "      dtype='object')"
            ]
          },
          "metadata": {
            "tags": []
          },
          "execution_count": 33
        }
      ]
    },
    {
      "cell_type": "code",
      "metadata": {
        "colab": {
          "base_uri": "https://localhost:8080/",
          "height": 479
        },
        "id": "SFflv4aaHFXG",
        "outputId": "abe6fa5e-7f89-4186-e36f-d2a727540135"
      },
      "source": [
        "df.head()"
      ],
      "execution_count": null,
      "outputs": [
        {
          "output_type": "execute_result",
          "data": {
            "text/html": [
              "<div>\n",
              "<style scoped>\n",
              "    .dataframe tbody tr th:only-of-type {\n",
              "        vertical-align: middle;\n",
              "    }\n",
              "\n",
              "    .dataframe tbody tr th {\n",
              "        vertical-align: top;\n",
              "    }\n",
              "\n",
              "    .dataframe thead th {\n",
              "        text-align: right;\n",
              "    }\n",
              "</style>\n",
              "<table border=\"1\" class=\"dataframe\">\n",
              "  <thead>\n",
              "    <tr style=\"text-align: right;\">\n",
              "      <th></th>\n",
              "      <th>Nama</th>\n",
              "      <th>Jenis Kelamin</th>\n",
              "      <th>Rentang Usia</th>\n",
              "      <th>Pekerjaan</th>\n",
              "      <th>Berapa kali anda menggunakan Search Engine dalam kurun waktu 1 hari? (Google, Bing, Yahoo, dsb)</th>\n",
              "      <th>Apakah anda mengetahui atau menggunakan Search Engine DuckDuckGo?</th>\n",
              "      <th>Sudah berapa lamakah anda mengetahui atau menggunakan DuckDuckGo?</th>\n",
              "      <th>Apakah jenis OS dari smartphone yang anda gunakan?</th>\n",
              "      <th>PE1</th>\n",
              "      <th>PE2</th>\n",
              "      <th>PE3</th>\n",
              "      <th>PE4</th>\n",
              "      <th>PE5</th>\n",
              "      <th>PE</th>\n",
              "      <th>EE1</th>\n",
              "      <th>EE2</th>\n",
              "      <th>EE3</th>\n",
              "      <th>EE4</th>\n",
              "      <th>EE5</th>\n",
              "      <th>EE</th>\n",
              "      <th>SI1</th>\n",
              "      <th>SI2</th>\n",
              "      <th>SI3</th>\n",
              "      <th>SI4</th>\n",
              "      <th>SI5</th>\n",
              "      <th>SI</th>\n",
              "      <th>FC1</th>\n",
              "      <th>FC2</th>\n",
              "      <th>FC3</th>\n",
              "      <th>FC4</th>\n",
              "      <th>FC</th>\n",
              "    </tr>\n",
              "  </thead>\n",
              "  <tbody>\n",
              "    <tr>\n",
              "      <th>0</th>\n",
              "      <td>Muhammad</td>\n",
              "      <td>Laki-laki</td>\n",
              "      <td>22-26 tahun</td>\n",
              "      <td>Mahasiswa</td>\n",
              "      <td>11-15 kali</td>\n",
              "      <td>Tidak</td>\n",
              "      <td>1-2 tahun</td>\n",
              "      <td>Android</td>\n",
              "      <td>3</td>\n",
              "      <td>3</td>\n",
              "      <td>3</td>\n",
              "      <td>3</td>\n",
              "      <td>3</td>\n",
              "      <td>3.0</td>\n",
              "      <td>4</td>\n",
              "      <td>4</td>\n",
              "      <td>5</td>\n",
              "      <td>3</td>\n",
              "      <td>3</td>\n",
              "      <td>3.8</td>\n",
              "      <td>4</td>\n",
              "      <td>3</td>\n",
              "      <td>3</td>\n",
              "      <td>4</td>\n",
              "      <td>4</td>\n",
              "      <td>3.6</td>\n",
              "      <td>1</td>\n",
              "      <td>1</td>\n",
              "      <td>1</td>\n",
              "      <td>1</td>\n",
              "      <td>1.0</td>\n",
              "    </tr>\n",
              "    <tr>\n",
              "      <th>1</th>\n",
              "      <td>Biyar</td>\n",
              "      <td>Laki-laki</td>\n",
              "      <td>22-26 tahun</td>\n",
              "      <td>Karyawan Swasta</td>\n",
              "      <td>&gt; 15 kali</td>\n",
              "      <td>Ya</td>\n",
              "      <td>Belum Pernah</td>\n",
              "      <td>Android</td>\n",
              "      <td>4</td>\n",
              "      <td>4</td>\n",
              "      <td>4</td>\n",
              "      <td>4</td>\n",
              "      <td>4</td>\n",
              "      <td>4.0</td>\n",
              "      <td>3</td>\n",
              "      <td>4</td>\n",
              "      <td>5</td>\n",
              "      <td>4</td>\n",
              "      <td>5</td>\n",
              "      <td>4.2</td>\n",
              "      <td>5</td>\n",
              "      <td>4</td>\n",
              "      <td>4</td>\n",
              "      <td>3</td>\n",
              "      <td>5</td>\n",
              "      <td>4.2</td>\n",
              "      <td>2</td>\n",
              "      <td>4</td>\n",
              "      <td>5</td>\n",
              "      <td>5</td>\n",
              "      <td>4.0</td>\n",
              "    </tr>\n",
              "    <tr>\n",
              "      <th>2</th>\n",
              "      <td>latina girl</td>\n",
              "      <td>Perempuan</td>\n",
              "      <td>17-21 tahun</td>\n",
              "      <td>mahasiswi</td>\n",
              "      <td>1-5 kali</td>\n",
              "      <td>Tidak</td>\n",
              "      <td>Belum Pernah</td>\n",
              "      <td>Android</td>\n",
              "      <td>5</td>\n",
              "      <td>5</td>\n",
              "      <td>5</td>\n",
              "      <td>5</td>\n",
              "      <td>5</td>\n",
              "      <td>5.0</td>\n",
              "      <td>5</td>\n",
              "      <td>5</td>\n",
              "      <td>5</td>\n",
              "      <td>5</td>\n",
              "      <td>5</td>\n",
              "      <td>5.0</td>\n",
              "      <td>5</td>\n",
              "      <td>5</td>\n",
              "      <td>5</td>\n",
              "      <td>5</td>\n",
              "      <td>5</td>\n",
              "      <td>5.0</td>\n",
              "      <td>5</td>\n",
              "      <td>5</td>\n",
              "      <td>3</td>\n",
              "      <td>5</td>\n",
              "      <td>4.5</td>\n",
              "    </tr>\n",
              "    <tr>\n",
              "      <th>3</th>\n",
              "      <td>Jalu Dwi Purwandana</td>\n",
              "      <td>Laki-laki</td>\n",
              "      <td>27-31 tahun</td>\n",
              "      <td>CPNS</td>\n",
              "      <td>&gt; 15 kali</td>\n",
              "      <td>Ya</td>\n",
              "      <td>&gt; 2 tahun</td>\n",
              "      <td>Android</td>\n",
              "      <td>4</td>\n",
              "      <td>3</td>\n",
              "      <td>3</td>\n",
              "      <td>2</td>\n",
              "      <td>5</td>\n",
              "      <td>3.4</td>\n",
              "      <td>5</td>\n",
              "      <td>3</td>\n",
              "      <td>5</td>\n",
              "      <td>3</td>\n",
              "      <td>4</td>\n",
              "      <td>4.0</td>\n",
              "      <td>4</td>\n",
              "      <td>3</td>\n",
              "      <td>1</td>\n",
              "      <td>2</td>\n",
              "      <td>2</td>\n",
              "      <td>2.4</td>\n",
              "      <td>5</td>\n",
              "      <td>3</td>\n",
              "      <td>1</td>\n",
              "      <td>1</td>\n",
              "      <td>2.5</td>\n",
              "    </tr>\n",
              "    <tr>\n",
              "      <th>4</th>\n",
              "      <td>Galih</td>\n",
              "      <td>Laki-laki</td>\n",
              "      <td>22-26 tahun</td>\n",
              "      <td>Mahasiswa</td>\n",
              "      <td>1-5 kali</td>\n",
              "      <td>Tidak</td>\n",
              "      <td>Belum Pernah</td>\n",
              "      <td>Android</td>\n",
              "      <td>4</td>\n",
              "      <td>4</td>\n",
              "      <td>4</td>\n",
              "      <td>4</td>\n",
              "      <td>3</td>\n",
              "      <td>3.8</td>\n",
              "      <td>5</td>\n",
              "      <td>5</td>\n",
              "      <td>4</td>\n",
              "      <td>4</td>\n",
              "      <td>4</td>\n",
              "      <td>4.4</td>\n",
              "      <td>4</td>\n",
              "      <td>4</td>\n",
              "      <td>3</td>\n",
              "      <td>4</td>\n",
              "      <td>3</td>\n",
              "      <td>3.6</td>\n",
              "      <td>4</td>\n",
              "      <td>4</td>\n",
              "      <td>4</td>\n",
              "      <td>4</td>\n",
              "      <td>4.0</td>\n",
              "    </tr>\n",
              "  </tbody>\n",
              "</table>\n",
              "</div>"
            ],
            "text/plain": [
              "                  Nama Jenis Kelamin Rentang Usia  ... FC3 FC4   FC\n",
              "0             Muhammad     Laki-laki  22-26 tahun  ...   1   1  1.0\n",
              "1                Biyar     Laki-laki  22-26 tahun  ...   5   5  4.0\n",
              "2          latina girl     Perempuan  17-21 tahun  ...   3   5  4.5\n",
              "3  Jalu Dwi Purwandana     Laki-laki  27-31 tahun  ...   1   1  2.5\n",
              "4                Galih     Laki-laki  22-26 tahun  ...   4   4  4.0\n",
              "\n",
              "[5 rows x 31 columns]"
            ]
          },
          "metadata": {
            "tags": []
          },
          "execution_count": 35
        }
      ]
    },
    {
      "cell_type": "code",
      "metadata": {
        "colab": {
          "base_uri": "https://localhost:8080/",
          "height": 496
        },
        "id": "AzDtRFioHG7i",
        "outputId": "81268638-3ba9-426b-8cc2-9084e90ba7ae"
      },
      "source": [
        "df.tail()"
      ],
      "execution_count": null,
      "outputs": [
        {
          "output_type": "execute_result",
          "data": {
            "text/html": [
              "<div>\n",
              "<style scoped>\n",
              "    .dataframe tbody tr th:only-of-type {\n",
              "        vertical-align: middle;\n",
              "    }\n",
              "\n",
              "    .dataframe tbody tr th {\n",
              "        vertical-align: top;\n",
              "    }\n",
              "\n",
              "    .dataframe thead th {\n",
              "        text-align: right;\n",
              "    }\n",
              "</style>\n",
              "<table border=\"1\" class=\"dataframe\">\n",
              "  <thead>\n",
              "    <tr style=\"text-align: right;\">\n",
              "      <th></th>\n",
              "      <th>Nama</th>\n",
              "      <th>Jenis Kelamin</th>\n",
              "      <th>Rentang Usia</th>\n",
              "      <th>Pekerjaan</th>\n",
              "      <th>Berapa kali anda menggunakan Search Engine dalam kurun waktu 1 hari? (Google, Bing, Yahoo, dsb)</th>\n",
              "      <th>Apakah anda mengetahui atau menggunakan Search Engine DuckDuckGo?</th>\n",
              "      <th>Sudah berapa lamakah anda mengetahui atau menggunakan DuckDuckGo?</th>\n",
              "      <th>Apakah jenis OS dari smartphone yang anda gunakan?</th>\n",
              "      <th>PE1</th>\n",
              "      <th>PE2</th>\n",
              "      <th>PE3</th>\n",
              "      <th>PE4</th>\n",
              "      <th>PE5</th>\n",
              "      <th>PE</th>\n",
              "      <th>EE1</th>\n",
              "      <th>EE2</th>\n",
              "      <th>EE3</th>\n",
              "      <th>EE4</th>\n",
              "      <th>EE5</th>\n",
              "      <th>EE</th>\n",
              "      <th>SI1</th>\n",
              "      <th>SI2</th>\n",
              "      <th>SI3</th>\n",
              "      <th>SI4</th>\n",
              "      <th>SI5</th>\n",
              "      <th>SI</th>\n",
              "      <th>FC1</th>\n",
              "      <th>FC2</th>\n",
              "      <th>FC3</th>\n",
              "      <th>FC4</th>\n",
              "      <th>FC</th>\n",
              "    </tr>\n",
              "  </thead>\n",
              "  <tbody>\n",
              "    <tr>\n",
              "      <th>203</th>\n",
              "      <td>Ahmad syifa</td>\n",
              "      <td>Laki-laki</td>\n",
              "      <td>22-26 tahun</td>\n",
              "      <td>Sipir</td>\n",
              "      <td>11-15 kali</td>\n",
              "      <td>Tidak</td>\n",
              "      <td>Belum Pernah</td>\n",
              "      <td>Android</td>\n",
              "      <td>3</td>\n",
              "      <td>3</td>\n",
              "      <td>3</td>\n",
              "      <td>3</td>\n",
              "      <td>3</td>\n",
              "      <td>3.0</td>\n",
              "      <td>3</td>\n",
              "      <td>3</td>\n",
              "      <td>3</td>\n",
              "      <td>3</td>\n",
              "      <td>3</td>\n",
              "      <td>3.0</td>\n",
              "      <td>3</td>\n",
              "      <td>3</td>\n",
              "      <td>3</td>\n",
              "      <td>3</td>\n",
              "      <td>3</td>\n",
              "      <td>3.0</td>\n",
              "      <td>3</td>\n",
              "      <td>3</td>\n",
              "      <td>3</td>\n",
              "      <td>3</td>\n",
              "      <td>3.0</td>\n",
              "    </tr>\n",
              "    <tr>\n",
              "      <th>204</th>\n",
              "      <td>Sarah Disara</td>\n",
              "      <td>Perempuan</td>\n",
              "      <td>22-26 tahun</td>\n",
              "      <td>PNS</td>\n",
              "      <td>11-15 kali</td>\n",
              "      <td>Tidak</td>\n",
              "      <td>Belum Pernah</td>\n",
              "      <td>iOS</td>\n",
              "      <td>3</td>\n",
              "      <td>3</td>\n",
              "      <td>3</td>\n",
              "      <td>3</td>\n",
              "      <td>3</td>\n",
              "      <td>3.0</td>\n",
              "      <td>3</td>\n",
              "      <td>3</td>\n",
              "      <td>3</td>\n",
              "      <td>3</td>\n",
              "      <td>3</td>\n",
              "      <td>3.0</td>\n",
              "      <td>3</td>\n",
              "      <td>3</td>\n",
              "      <td>3</td>\n",
              "      <td>3</td>\n",
              "      <td>3</td>\n",
              "      <td>3.0</td>\n",
              "      <td>1</td>\n",
              "      <td>1</td>\n",
              "      <td>3</td>\n",
              "      <td>3</td>\n",
              "      <td>2.0</td>\n",
              "    </tr>\n",
              "    <tr>\n",
              "      <th>205</th>\n",
              "      <td>Rindhi Nisrina</td>\n",
              "      <td>Perempuan</td>\n",
              "      <td>22-26 tahun</td>\n",
              "      <td>Software Engineer</td>\n",
              "      <td>&gt; 15 kali</td>\n",
              "      <td>Ya</td>\n",
              "      <td>Belum Pernah</td>\n",
              "      <td>iOS</td>\n",
              "      <td>3</td>\n",
              "      <td>3</td>\n",
              "      <td>3</td>\n",
              "      <td>3</td>\n",
              "      <td>3</td>\n",
              "      <td>3.0</td>\n",
              "      <td>3</td>\n",
              "      <td>3</td>\n",
              "      <td>3</td>\n",
              "      <td>3</td>\n",
              "      <td>3</td>\n",
              "      <td>3.0</td>\n",
              "      <td>3</td>\n",
              "      <td>3</td>\n",
              "      <td>3</td>\n",
              "      <td>3</td>\n",
              "      <td>3</td>\n",
              "      <td>3.0</td>\n",
              "      <td>1</td>\n",
              "      <td>1</td>\n",
              "      <td>3</td>\n",
              "      <td>3</td>\n",
              "      <td>2.0</td>\n",
              "    </tr>\n",
              "    <tr>\n",
              "      <th>206</th>\n",
              "      <td>Bima Reza Yudha</td>\n",
              "      <td>Laki-laki</td>\n",
              "      <td>22-26 tahun</td>\n",
              "      <td>Mahasiswa</td>\n",
              "      <td>&gt; 15 kali</td>\n",
              "      <td>Tidak</td>\n",
              "      <td>Belum Pernah</td>\n",
              "      <td>iOS</td>\n",
              "      <td>3</td>\n",
              "      <td>3</td>\n",
              "      <td>3</td>\n",
              "      <td>3</td>\n",
              "      <td>3</td>\n",
              "      <td>3.0</td>\n",
              "      <td>3</td>\n",
              "      <td>3</td>\n",
              "      <td>3</td>\n",
              "      <td>3</td>\n",
              "      <td>3</td>\n",
              "      <td>3.0</td>\n",
              "      <td>3</td>\n",
              "      <td>3</td>\n",
              "      <td>1</td>\n",
              "      <td>1</td>\n",
              "      <td>1</td>\n",
              "      <td>1.8</td>\n",
              "      <td>1</td>\n",
              "      <td>1</td>\n",
              "      <td>3</td>\n",
              "      <td>3</td>\n",
              "      <td>2.0</td>\n",
              "    </tr>\n",
              "    <tr>\n",
              "      <th>207</th>\n",
              "      <td>Sultan Saladdin</td>\n",
              "      <td>Laki-laki</td>\n",
              "      <td>22-26 tahun</td>\n",
              "      <td>Software Engineer</td>\n",
              "      <td>&gt; 15 kali</td>\n",
              "      <td>Tidak</td>\n",
              "      <td>Belum Pernah</td>\n",
              "      <td>iOS</td>\n",
              "      <td>3</td>\n",
              "      <td>3</td>\n",
              "      <td>3</td>\n",
              "      <td>3</td>\n",
              "      <td>3</td>\n",
              "      <td>3.0</td>\n",
              "      <td>3</td>\n",
              "      <td>3</td>\n",
              "      <td>3</td>\n",
              "      <td>3</td>\n",
              "      <td>3</td>\n",
              "      <td>3.0</td>\n",
              "      <td>3</td>\n",
              "      <td>3</td>\n",
              "      <td>1</td>\n",
              "      <td>1</td>\n",
              "      <td>1</td>\n",
              "      <td>1.8</td>\n",
              "      <td>1</td>\n",
              "      <td>1</td>\n",
              "      <td>3</td>\n",
              "      <td>3</td>\n",
              "      <td>2.0</td>\n",
              "    </tr>\n",
              "  </tbody>\n",
              "</table>\n",
              "</div>"
            ],
            "text/plain": [
              "                Nama Jenis Kelamin Rentang Usia  ... FC3 FC4   FC\n",
              "203      Ahmad syifa     Laki-laki  22-26 tahun  ...   3   3  3.0\n",
              "204     Sarah Disara     Perempuan  22-26 tahun  ...   3   3  2.0\n",
              "205   Rindhi Nisrina     Perempuan  22-26 tahun  ...   3   3  2.0\n",
              "206  Bima Reza Yudha     Laki-laki  22-26 tahun  ...   3   3  2.0\n",
              "207  Sultan Saladdin     Laki-laki  22-26 tahun  ...   3   3  2.0\n",
              "\n",
              "[5 rows x 31 columns]"
            ]
          },
          "metadata": {
            "tags": []
          },
          "execution_count": 34
        }
      ]
    },
    {
      "cell_type": "code",
      "metadata": {
        "colab": {
          "base_uri": "https://localhost:8080/"
        },
        "id": "qNJ4UUSOHRvH",
        "outputId": "330c01b1-5ec2-4575-c83e-452ff53ebf0a"
      },
      "source": [
        "import numpy as np\n",
        "import statsmodels.api as sm\n",
        "\n",
        "\n",
        "pe = df ['PE']\n",
        "ee = df ['EE']\n",
        "si = df ['SI']\n",
        "fc = df ['FC']\n",
        "x = sm.add_constant(fc)\n",
        "resultee = sm.OLS(pe,x).fit()\n",
        "resultsi = sm.OLS(ee,x).fit()\n",
        "resultfc = sm.OLS(si,x).fit()\n",
        "resultpe = sm.OLS(fc,x).fit()\n",
        "print(resultpe.summary())\n",
        "print(resultee.summary())\n",
        "print(resultsi.summary())\n",
        "print(resultfc.summary())"
      ],
      "execution_count": null,
      "outputs": [
        {
          "output_type": "stream",
          "text": [
            "/usr/local/lib/python3.7/dist-packages/statsmodels/tools/_testing.py:19: FutureWarning: pandas.util.testing is deprecated. Use the functions in the public API at pandas.testing instead.\n",
            "  import pandas.util.testing as tm\n"
          ],
          "name": "stderr"
        },
        {
          "output_type": "stream",
          "text": [
            "                            OLS Regression Results                            \n",
            "==============================================================================\n",
            "Dep. Variable:                     FC   R-squared:                       1.000\n",
            "Model:                            OLS   Adj. R-squared:                  1.000\n",
            "Method:                 Least Squares   F-statistic:                 1.034e+32\n",
            "Date:                Sun, 13 Jun 2021   Prob (F-statistic):               0.00\n",
            "Time:                        13:33:33   Log-Likelihood:                 6769.4\n",
            "No. Observations:                 208   AIC:                        -1.353e+04\n",
            "Df Residuals:                     206   BIC:                        -1.353e+04\n",
            "Df Model:                           1                                         \n",
            "Covariance Type:            nonrobust                                         \n",
            "==============================================================================\n",
            "                 coef    std err          t      P>|t|      [0.025      0.975]\n",
            "------------------------------------------------------------------------------\n",
            "const      -1.832e-15   2.95e-16     -6.218      0.000   -2.41e-15   -1.25e-15\n",
            "FC             1.0000   9.83e-17   1.02e+16      0.000       1.000       1.000\n",
            "==============================================================================\n",
            "Omnibus:                      751.881   Durbin-Watson:                   0.000\n",
            "Prob(Omnibus):                  0.000   Jarque-Bera (JB):               78.000\n",
            "Skew:                           0.000   Prob(JB):                     1.15e-17\n",
            "Kurtosis:                       0.000   Cond. No.                         7.80\n",
            "==============================================================================\n",
            "\n",
            "Warnings:\n",
            "[1] Standard Errors assume that the covariance matrix of the errors is correctly specified.\n",
            "                            OLS Regression Results                            \n",
            "==============================================================================\n",
            "Dep. Variable:                     PE   R-squared:                       0.514\n",
            "Model:                            OLS   Adj. R-squared:                  0.512\n",
            "Method:                 Least Squares   F-statistic:                     217.9\n",
            "Date:                Sun, 13 Jun 2021   Prob (F-statistic):           4.06e-34\n",
            "Time:                        13:33:33   Log-Likelihood:                -143.03\n",
            "No. Observations:                 208   AIC:                             290.1\n",
            "Df Residuals:                     206   BIC:                             296.7\n",
            "Df Model:                           1                                         \n",
            "Covariance Type:            nonrobust                                         \n",
            "==============================================================================\n",
            "                 coef    std err          t      P>|t|      [0.025      0.975]\n",
            "------------------------------------------------------------------------------\n",
            "const          2.3222      0.080     29.094      0.000       2.165       2.480\n",
            "FC             0.3932      0.027     14.761      0.000       0.341       0.446\n",
            "==============================================================================\n",
            "Omnibus:                       12.472   Durbin-Watson:                   1.845\n",
            "Prob(Omnibus):                  0.002   Jarque-Bera (JB):               14.688\n",
            "Skew:                          -0.470   Prob(JB):                     0.000646\n",
            "Kurtosis:                       3.900   Cond. No.                         7.80\n",
            "==============================================================================\n",
            "\n",
            "Warnings:\n",
            "[1] Standard Errors assume that the covariance matrix of the errors is correctly specified.\n",
            "                            OLS Regression Results                            \n",
            "==============================================================================\n",
            "Dep. Variable:                     EE   R-squared:                       0.476\n",
            "Model:                            OLS   Adj. R-squared:                  0.473\n",
            "Method:                 Least Squares   F-statistic:                     187.0\n",
            "Date:                Sun, 13 Jun 2021   Prob (F-statistic):           1.03e-30\n",
            "Time:                        13:33:33   Log-Likelihood:                -161.29\n",
            "No. Observations:                 208   AIC:                             326.6\n",
            "Df Residuals:                     206   BIC:                             333.2\n",
            "Df Model:                           1                                         \n",
            "Covariance Type:            nonrobust                                         \n",
            "==============================================================================\n",
            "                 coef    std err          t      P>|t|      [0.025      0.975]\n",
            "------------------------------------------------------------------------------\n",
            "const          2.3437      0.087     26.897      0.000       2.172       2.516\n",
            "FC             0.3977      0.029     13.674      0.000       0.340       0.455\n",
            "==============================================================================\n",
            "Omnibus:                        5.636   Durbin-Watson:                   1.915\n",
            "Prob(Omnibus):                  0.060   Jarque-Bera (JB):                5.534\n",
            "Skew:                          -0.303   Prob(JB):                       0.0629\n",
            "Kurtosis:                       3.522   Cond. No.                         7.80\n",
            "==============================================================================\n",
            "\n",
            "Warnings:\n",
            "[1] Standard Errors assume that the covariance matrix of the errors is correctly specified.\n",
            "                            OLS Regression Results                            \n",
            "==============================================================================\n",
            "Dep. Variable:                     SI   R-squared:                       0.725\n",
            "Model:                            OLS   Adj. R-squared:                  0.724\n",
            "Method:                 Least Squares   F-statistic:                     544.0\n",
            "Date:                Sun, 13 Jun 2021   Prob (F-statistic):           1.02e-59\n",
            "Time:                        13:33:33   Log-Likelihood:                -173.41\n",
            "No. Observations:                 208   AIC:                             350.8\n",
            "Df Residuals:                     206   BIC:                             357.5\n",
            "Df Model:                           1                                         \n",
            "Covariance Type:            nonrobust                                         \n",
            "==============================================================================\n",
            "                 coef    std err          t      P>|t|      [0.025      0.975]\n",
            "------------------------------------------------------------------------------\n",
            "const          1.0565      0.092     11.438      0.000       0.874       1.239\n",
            "FC             0.7191      0.031     23.325      0.000       0.658       0.780\n",
            "==============================================================================\n",
            "Omnibus:                        6.786   Durbin-Watson:                   1.946\n",
            "Prob(Omnibus):                  0.034   Jarque-Bera (JB):               11.193\n",
            "Skew:                           0.045   Prob(JB):                      0.00371\n",
            "Kurtosis:                       4.133   Cond. No.                         7.80\n",
            "==============================================================================\n",
            "\n",
            "Warnings:\n",
            "[1] Standard Errors assume that the covariance matrix of the errors is correctly specified.\n"
          ],
          "name": "stdout"
        }
      ]
    }
  ]
}